{
 "cells": [
  {
   "cell_type": "markdown",
   "metadata": {},
   "source": [
    "Time-depth plot the value of the ADCP velocity quality flags. "
   ]
  },
  {
   "cell_type": "code",
   "execution_count": 5,
   "metadata": {},
   "outputs": [
    {
     "data": {
      "text/plain": [
       "<module 'alborexdata' from '/home/ctroupin/Publis/AlborEx-Data-Python/python/alborexdata.py'>"
      ]
     },
     "execution_count": 5,
     "metadata": {},
     "output_type": "execute_result"
    }
   ],
   "source": [
    "import alborexdata\n",
    "import netCDF4\n",
    "import os\n",
    "import matplotlib.pyplot as plt\n",
    "from mpl_toolkits.basemap import Basemap \n",
    "import numpy as np\n",
    "import datetime\n",
    "import cmocean\n",
    "import alborexpaths\n",
    "from alborexpaths import coordinates1, coordinates2\n",
    "from importlib import reload\n",
    "reload(alborexdata)"
   ]
  },
  {
   "cell_type": "markdown",
   "metadata": {},
   "source": [
    "## Configuration"
   ]
  },
  {
   "cell_type": "code",
   "execution_count": 6,
   "metadata": {
    "collapsed": true
   },
   "outputs": [],
   "source": [
    "with open('alborexconfig.json') as json_data_file:\n",
    "    config = json.load(json_data_file)"
   ]
  },
  {
   "cell_type": "code",
   "execution_count": null,
   "metadata": {
    "collapsed": true
   },
   "outputs": [],
   "source": [
    "datafile = config[\"datafiles\"][\"adcp\"]\n",
    "os.path.exists(datafile)\n",
    "figdir = config[\"\"]"
   ]
  },
  {
   "cell_type": "markdown",
   "metadata": {},
   "source": [
    "## Quality flag for the whole section\n",
    "Create colormap with 9 divisions"
   ]
  },
  {
   "cell_type": "code",
   "execution_count": null,
   "metadata": {
    "collapsed": true
   },
   "outputs": [],
   "source": [
    "cmap_error = plt.cm.get_cmap('hot_r', 9)"
   ]
  },
  {
   "cell_type": "markdown",
   "metadata": {},
   "source": [
    "## Data reading and quality control"
   ]
  },
  {
   "cell_type": "code",
   "execution_count": null,
   "metadata": {},
   "outputs": [],
   "source": [
    "adcp = alborexdata.Adcp()\n",
    "adcp.get_from_netcdf(datafile)\n",
    "adcp.apply_qc(qf=1)\n",
    "adcp.get_norm()"
   ]
  },
  {
   "cell_type": "markdown",
   "metadata": {},
   "source": [
    "Identify data gaps (no measurements)"
   ]
  },
  {
   "cell_type": "code",
   "execution_count": null,
   "metadata": {
    "collapsed": true
   },
   "outputs": [],
   "source": [
    "deltatime = adcp.time[1:] - adcp.time[:-1]\n",
    "gaps = np.where(deltatime > 3600)[0]\n",
    "\n",
    "flagmeaning = [\"1: good\", \"2: probably good\", \"3: probably bad\", \"4: bad\", \"5\", \"6: spike\", \n",
    "               \"7\", \"8\", \"9: missing value\"]"
   ]
  },
  {
   "cell_type": "markdown",
   "metadata": {},
   "source": [
    "Compute ratio of good data over total data."
   ]
  },
  {
   "cell_type": "code",
   "execution_count": null,
   "metadata": {},
   "outputs": [],
   "source": [
    "npoints = adcp.u.shape[0] * adcp.u.shape[1]\n",
    "for ii in range(1, 10):\n",
    "    print(str(np.round(len(np.where(adcp.qcu.flatten() == ii)[0]) / npoints * 100, 2)) + '%')"
   ]
  },
  {
   "cell_type": "markdown",
   "metadata": {},
   "source": [
    "Same but for the first 200 meters"
   ]
  },
  {
   "cell_type": "code",
   "execution_count": null,
   "metadata": {},
   "outputs": [],
   "source": [
    "gooddepth = np.where(adcp.depth >= 200.)[0]\n",
    "adcp.qcu200 = adcp.qcu[:, gooddepth]\n",
    "npoints = adcp.qcu200.shape[0] * adcp.qcu200.shape[1]\n",
    "for ii in range(1, 10):\n",
    "    print(str(np.round(len(np.where(adcp.qcu200.flatten() == ii)[0]) / npoints * 100, 2)) + '%')"
   ]
  },
  {
   "cell_type": "markdown",
   "metadata": {},
   "source": [
    "## Make the plot"
   ]
  },
  {
   "cell_type": "code",
   "execution_count": null,
   "metadata": {},
   "outputs": [],
   "source": [
    "figname = \"fig12\"\n",
    "fig = plt.figure(figsize=(12, 6))\n",
    "ax = plt.subplot(111)\n",
    "ax.set_facecolor(\".9\")\n",
    "\n",
    "# Plot separate pcolor to avoid color interpolation during periods \n",
    "# without data\n",
    "\n",
    "imin = 0\n",
    "for nig, ig in enumerate(gaps):\n",
    "    imax = ig\n",
    "    plt.pcolormesh(adcp.dates[imin:imax], adcp.depth, adcp.qcu[imin:imax,:].T, \n",
    "                   cmap=cmap_error, vmin=0.5, vmax = 9.5)\n",
    "    datemean = netCDF4.num2date(0.5 * (adcp.time[ig] + adcp.time[ig+1]), adcp.timeunits)\n",
    "    if nig < 2:\n",
    "        plt.text(datemean, 100, r\"$\\times$\", fontsize=18, ha=\"center\")\n",
    "    elif nig == 2:\n",
    "        datemean = netCDF4.num2date(0.5 * (adcp.time[ig] + adcp.time[-1]), adcp.timeunits)\n",
    "        plt.text(datemean, 100, r\"$\\times$\", fontsize=18, ha=\"center\")\n",
    "    imin = imax+1\n",
    "    \n",
    "# Add text in no data period\n",
    "datemean = netCDF4.num2date(0.5 * (adcp.time[gaps[0]] + adcp.time[gaps[0]+1]), adcp.timeunits)\n",
    "plt.text(datemean, 200, \"No\\n measurement\\nmade\", \n",
    "         fontsize=14, ha=\"center\")\n",
    "\n",
    "\n",
    "plt.gca().invert_yaxis()\n",
    "plt.ylabel(\"Depth\\n(m)\", rotation=0, ha=\"right\", fontsize=14)\n",
    "cb = plt.colorbar()\n",
    "cb.set_ticks(range(0, 10))\n",
    "cb.set_ticklabels(flagmeaning)\n",
    "plt.yticks(np.arange(0, 401, 100.))\n",
    "# cb.set_label(\"QF\", rotation=0, ha=\"left\", fontsize=14)\n",
    "plt.tick_params(axis='both', which='major', labelsize=12)\n",
    "plt.title(\"Quality flags for the ADCP velocities\", fontsize=20)\n",
    "plt.xlim(adcp.dates[0], adcp.dates[-1])\n",
    "fig.autofmt_xdate()\n",
    "# plt.savefig(os.path.join(figdir, figname), dpi=300, bbox_inches='tight')\n",
    "plt.show()\n",
    "plt.close()"
   ]
  },
  {
   "cell_type": "code",
   "execution_count": null,
   "metadata": {
    "collapsed": true
   },
   "outputs": [],
   "source": []
  }
 ],
 "metadata": {
  "@webio": {
   "lastCommId": "78D532F0096E47EB81239751CBB60D34",
   "lastKernelId": "6ee4a564-8018-4c3a-a208-ee1d9a33b03f"
  },
  "kernelspec": {
   "display_name": "Diva-python3.6",
   "language": "python",
   "name": "diva-python3.6"
  },
  "language_info": {
   "codemirror_mode": {
    "name": "ipython",
    "version": 3
   },
   "file_extension": ".py",
   "mimetype": "text/x-python",
   "name": "python",
   "nbconvert_exporter": "python",
   "pygments_lexer": "ipython3",
   "version": "3.6.0"
  }
 },
 "nbformat": 4,
 "nbformat_minor": 2
}
