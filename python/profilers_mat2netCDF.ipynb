{
 "cells": [
  {
   "cell_type": "markdown",
   "metadata": {},
   "source": [
    "Write the a netCDF file containing the profiler measurements using the list of `mat` files."
   ]
  },
  {
   "cell_type": "code",
   "execution_count": 7,
   "metadata": {
    "collapsed": true
   },
   "outputs": [],
   "source": [
    "import alborexdata\n",
    "import netCDF4\n",
    "import glob\n",
    "import os\n",
    "import matplotlib.pyplot as plt\n",
    "from importlib import reload"
   ]
  },
  {
   "cell_type": "code",
   "execution_count": 2,
   "metadata": {},
   "outputs": [
    {
     "data": {
      "text/plain": [
       "<module 'alborexdata' from '/home/ctroupin/Publis/201703_AlborexData/python/alborexdata.py'>"
      ]
     },
     "execution_count": 2,
     "metadata": {},
     "output_type": "execute_result"
    }
   ],
   "source": [
    "reload(alborexdata)"
   ]
  },
  {
   "cell_type": "code",
   "execution_count": 3,
   "metadata": {
    "collapsed": true
   },
   "outputs": [],
   "source": [
    "datadir = \"/home/ctroupin/Data/Alborex/Profilers/0000000/\"\n",
    "datafilelist = sorted(glob.glob(os.path.join(datadir, \"*mat\")))"
   ]
  },
  {
   "cell_type": "code",
   "execution_count": 4,
   "metadata": {
    "collapsed": true
   },
   "outputs": [],
   "source": [
    "lon, lat, t, p, T, S = alborexdata.Profiler.read_profiles_from_list(datafilelist) "
   ]
  },
  {
   "cell_type": "code",
   "execution_count": 5,
   "metadata": {
    "collapsed": true
   },
   "outputs": [],
   "source": [
    "outputdir = \"/home/ctroupin/Data/Alborex/Profilers/\"\n",
    "outputfile = os.path.join(outputdir, \n",
    "                          \"dep0001_profiler-drifter-arvorc_socib_arvorc_L0_2014-05-25.nc\")\n",
    "\n",
    "if os.path.exists(outputfile):\n",
    "    os.remove(outputfile)\n",
    "alborexdata.Profiler.arrays_to_netcdf(outputfile, lon, lat, t, p, T, S)"
   ]
  },
  {
   "cell_type": "code",
   "execution_count": null,
   "metadata": {
    "collapsed": true
   },
   "outputs": [],
   "source": []
  }
 ],
 "metadata": {
  "@webio": {
   "lastCommId": "F5B81D9BC95545ABB49DEC964354CF5D",
   "lastKernelId": "0bcf0a33-cebb-483a-9a4c-5f8461d3a5cc"
  },
  "kernelspec": {
   "display_name": "Diva-python3.6",
   "language": "python",
   "name": "diva-python3.6"
  },
  "language_info": {
   "codemirror_mode": {
    "name": "ipython",
    "version": 3
   },
   "file_extension": ".py",
   "mimetype": "text/x-python",
   "name": "python",
   "nbconvert_exporter": "python",
   "pygments_lexer": "ipython3",
   "version": "3.6.0"
  }
 },
 "nbformat": 4,
 "nbformat_minor": 2
}
