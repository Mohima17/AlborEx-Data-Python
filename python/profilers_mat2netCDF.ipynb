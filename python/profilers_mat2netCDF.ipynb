{
 "cells": [
  {
   "cell_type": "markdown",
   "metadata": {},
   "source": [
    "Write a netCDF file containing the profiler measurements using the list of `mat` files.      \n",
    "⚠️ Not useful for the plotting but kept for the record."
   ]
  },
  {
   "cell_type": "code",
   "execution_count": 1,
   "metadata": {},
   "outputs": [
    {
     "name": "stderr",
     "output_type": "stream",
     "text": [
      "/home/ctroupin/Software/PythonEnvs/Diva-python3.6/lib/python3.6/site-packages/cmocean/tools.py:76: MatplotlibDeprecationWarning: The is_string_like function was deprecated in version 2.1.\n",
      "  if not mpl.cbook.is_string_like(rgbin[0]):\n"
     ]
    }
   ],
   "source": [
    "import alborexdata\n",
    "import netCDF4\n",
    "import glob\n",
    "import os\n",
    "import matplotlib.pyplot as plt\n",
    "from importlib import reload"
   ]
  },
  {
   "cell_type": "code",
   "execution_count": 2,
   "metadata": {
    "collapsed": true
   },
   "outputs": [],
   "source": [
    "datadir = \"/home/ctroupin/Data/Alborex/Profilers/0000000/\"\n",
    "datafilelist = sorted(glob.glob(os.path.join(datadir, \"*mat\")))"
   ]
  },
  {
   "cell_type": "code",
   "execution_count": 3,
   "metadata": {
    "collapsed": true
   },
   "outputs": [],
   "source": [
    "lon, lat, t, p, T, S = alborexdata.Profiler.read_profiles_from_list(datafilelist) "
   ]
  },
  {
   "cell_type": "code",
   "execution_count": 4,
   "metadata": {
    "collapsed": true
   },
   "outputs": [],
   "source": [
    "outputdir = \"../data/\"\n",
    "outputfile = os.path.join(outputdir, \n",
    "                          \"dep0001_profiler-drifter-arvorc_socib_arvorc_L0_2014-05-25.nc\")\n",
    "\n",
    "if os.path.exists(outputfile):\n",
    "    os.remove(outputfile)\n",
    "alborexdata.Profiler.arrays_to_netcdf(outputfile, lon, lat, t, p, T, S)"
   ]
  }
 ],
 "metadata": {
  "@webio": {
   "lastCommId": "6E13495E2FC74A1DA49A34851B0764C7",
   "lastKernelId": "fca3a4ba-e4a6-4174-a02f-3240189e1a3e"
  },
  "kernelspec": {
   "display_name": "Diva-python3.6",
   "language": "python",
   "name": "diva-python3.6"
  },
  "language_info": {
   "codemirror_mode": {
    "name": "ipython",
    "version": 3
   },
   "file_extension": ".py",
   "mimetype": "text/x-python",
   "name": "python",
   "nbconvert_exporter": "python",
   "pygments_lexer": "ipython3",
   "version": "3.6.0"
  }
 },
 "nbformat": 4,
 "nbformat_minor": 2
}
