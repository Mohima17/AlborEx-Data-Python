{
 "cells": [
  {
   "cell_type": "markdown",
   "metadata": {},
   "source": [
    "Count the number of casts for the gliders and the Argo floats"
   ]
  },
  {
   "cell_type": "code",
   "execution_count": 2,
   "metadata": {
    "collapsed": true
   },
   "outputs": [],
   "source": [
    "import os\n",
    "import glob\n",
    "import netCDF4\n",
    "import json\n",
    "import matplotlib.pyplot as plt"
   ]
  },
  {
   "cell_type": "code",
   "execution_count": 10,
   "metadata": {},
   "outputs": [
    {
     "data": {
      "text/plain": [
       "{'adcp': '/home/ctroupin/Data/Alborex/ADCP',\n",
       " 'drifters': '/home/ctroupin/Data/Alborex/Drifters',\n",
       " 'gliders': '/home/ctroupin/Data/Alborex/Gliders',\n",
       " 'profilers': '/home/ctroupin/Data/Alborex/Profilers',\n",
       " 'sst': '/home/ctroupin/Data/Alborex/SST/'}"
      ]
     },
     "execution_count": 10,
     "metadata": {},
     "output_type": "execute_result"
    }
   ],
   "source": [
    "with open('alborexconfig.json') as json_data_file:\n",
    "    config = json.load(json_data_file)\n",
    "config[\"datadirs\"]"
   ]
  },
  {
   "cell_type": "markdown",
   "metadata": {},
   "source": [
    "## Gliders"
   ]
  },
  {
   "cell_type": "code",
   "execution_count": 16,
   "metadata": {},
   "outputs": [
    {
     "name": "stdout",
     "output_type": "stream",
     "text": [
      "Number of data files: 4\n"
     ]
    }
   ],
   "source": [
    "datadir = config[\"datadirs\"][\"gliders\"]\n",
    "datafilelist = sorted(glob.glob(os.path.join(datadir, \"*nc\")))\n",
    "nfiles = len(datafilelist)\n",
    "print(\"Number of data files: {}\".format(nfiles))"
   ]
  },
  {
   "cell_type": "markdown",
   "metadata": {},
   "source": [
    "Loop on the files and count the number of profiles (L1 and L2 should give the same values)."
   ]
  },
  {
   "cell_type": "code",
   "execution_count": 13,
   "metadata": {},
   "outputs": [
    {
     "name": "stdout",
     "output_type": "stream",
     "text": [
      "Working on dep0005_icoast00_ime-slcost000_L1_2014-05-25_data_dt.nc\n",
      "Number of profiles: 392.5\n",
      "Working on dep0005_icoast00_ime-slcost000_L2_2014-05-25_data_dt.nc\n",
      "Number of profiles: 392.0\n",
      "Working on dep0012_ideep00_ime-sldeep000_L1_2014-05-25_data_dt.nc\n",
      "Number of profiles: 160.5\n",
      "Working on dep0012_ideep00_ime-sldeep000_L2_2014-05-25_data_dt.nc\n",
      "Number of profiles: 160.0\n"
     ]
    }
   ],
   "source": [
    "for datafile in datafilelist:\n",
    "    with netCDF4.Dataset(datafile) as nc:\n",
    "        profiles = nc.variables[\"profile_index\"][:]\n",
    "        print(\"Working on {}\".format(os.path.basename(datafile)))\n",
    "        print(\"Number of profiles: {0}\".format(profiles.max()))"
   ]
  },
  {
   "cell_type": "markdown",
   "metadata": {},
   "source": [
    "## Profilers"
   ]
  },
  {
   "cell_type": "code",
   "execution_count": 17,
   "metadata": {},
   "outputs": [
    {
     "name": "stdout",
     "output_type": "stream",
     "text": [
      "3\n"
     ]
    }
   ],
   "source": [
    "datadir2 = config[\"datadirs\"][\"profilers\"]\n",
    "datafilelist = sorted(glob.glob(os.path.join(datadir2, \"*nc\")))\n",
    "nfiles = len(datafilelist)\n",
    "print(nfiles)"
   ]
  },
  {
   "cell_type": "code",
   "execution_count": 18,
   "metadata": {},
   "outputs": [
    {
     "name": "stdout",
     "output_type": "stream",
     "text": [
      "Working on dep0001_profiler-drifter-arvora3001_ogs-arvora3001_L1_2014-05-25.nc\n",
      "Number of profiles: 12\n",
      "Working on dep0001_profiler-drifter-arvorc_socib_arvorc_L0_2014-05-25.nc\n",
      "Number of profiles: 2507\n",
      "Working on dep0001_profiler-drifter-provbioll001_ogs-provbioll001_L1_2014-05-25.nc\n",
      "Number of profiles: 71\n"
     ]
    }
   ],
   "source": [
    "for datafile in datafilelist:\n",
    "    with netCDF4.Dataset(datafile) as nc:\n",
    "        time = nc.variables[\"time\"][:]\n",
    "        print(\"Working on {}\".format(os.path.basename(datafile)))\n",
    "        print(\"Number of profiles: {0}\".format(len(time)))"
   ]
  }
 ],
 "metadata": {
  "@webio": {
   "lastCommId": "522E4E54F2D24BD7835E4F9FE917E922",
   "lastKernelId": "e444e722-5171-45f0-8e5c-0acc95c8e24a"
  },
  "kernelspec": {
   "display_name": "Diva-python3.6",
   "language": "python",
   "name": "diva-python3.6"
  },
  "language_info": {
   "codemirror_mode": {
    "name": "ipython",
    "version": 3
   },
   "file_extension": ".py",
   "mimetype": "text/x-python",
   "name": "python",
   "nbconvert_exporter": "python",
   "pygments_lexer": "ipython3",
   "version": "3.6.0"
  }
 },
 "nbformat": 4,
 "nbformat_minor": 2
}
