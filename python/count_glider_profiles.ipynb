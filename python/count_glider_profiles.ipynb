{
 "cells": [
  {
   "cell_type": "code",
   "execution_count": 7,
   "metadata": {
    "collapsed": true
   },
   "outputs": [],
   "source": [
    "import os\n",
    "import glob\n",
    "import netCDF4\n",
    "import matplotlib.pyplot as plt"
   ]
  },
  {
   "cell_type": "code",
   "execution_count": 8,
   "metadata": {},
   "outputs": [
    {
     "name": "stdout",
     "output_type": "stream",
     "text": [
      "3\n"
     ]
    }
   ],
   "source": [
    "datadir = \"/home/ctroupin/Data/Alborex/Glider/\"\n",
    "datafilelist = sorted(glob.glob(os.path.join(datadir, \"*nc\")))\n",
    "nfiles = len(datafilelist)\n",
    "print(nfiles)"
   ]
  },
  {
   "cell_type": "code",
   "execution_count": 15,
   "metadata": {},
   "outputs": [
    {
     "name": "stdout",
     "output_type": "stream",
     "text": [
      "Working on dep0005_icoast00_ime-slcost000_L1_2014-05-25_data_dt.nc\n",
      "Number of profiles: 392.5\n",
      "Number of profiles: 0.5\n",
      "Working on dep0012_ideep00_ime-sldeep000_L1_2014-05-25_data_dt.nc\n",
      "Number of profiles: 160.5\n",
      "Number of profiles: 0.5\n",
      "Working on dep0012_ideep00_ime-sldeep000_L2_2014-05-25_data_dt.nc\n",
      "Number of profiles: 160.0\n",
      "Number of profiles: 1.0\n"
     ]
    }
   ],
   "source": [
    "for datafile in datafilelist:\n",
    "    with netCDF4.Dataset(datafile) as nc:\n",
    "        profiles = nc.variables[\"profile_index\"][:]\n",
    "        print(\"Working on {}\".format(os.path.basename(datafile)))\n",
    "        print(\"Number of profiles: {0}\".format(profiles.max()))\n",
    "        print(\"Number of profiles: {0}\".format(profiles.min()))"
   ]
  },
  {
   "cell_type": "code",
   "execution_count": 10,
   "metadata": {},
   "outputs": [
    {
     "data": {
      "text/plain": [
       "392.5"
      ]
     },
     "execution_count": 10,
     "metadata": {},
     "output_type": "execute_result"
    }
   ],
   "source": [
    "profiles.max()"
   ]
  },
  {
   "cell_type": "code",
   "execution_count": 16,
   "metadata": {},
   "outputs": [
    {
     "name": "stdout",
     "output_type": "stream",
     "text": [
      "2\n"
     ]
    }
   ],
   "source": [
    "datadir2 = \"/home/ctroupin/Data/Alborex/Profilers/\"\n",
    "datafilelist = sorted(glob.glob(os.path.join(datadir2, \"*nc\")))\n",
    "nfiles = len(datafilelist)\n",
    "print(nfiles)"
   ]
  },
  {
   "cell_type": "code",
   "execution_count": 17,
   "metadata": {},
   "outputs": [
    {
     "name": "stdout",
     "output_type": "stream",
     "text": [
      "Working on dep0001_profiler-drifter-arvora3001_ogs-arvora3001_L1_2014-05-25.nc\n",
      "Number of profiles: 12\n",
      "Working on dep0001_profiler-drifter-provbioll001_ogs-provbioll001_L1_2014-05-25.nc\n",
      "Number of profiles: 71\n"
     ]
    }
   ],
   "source": [
    "for datafile in datafilelist:\n",
    "    with netCDF4.Dataset(datafile) as nc:\n",
    "        time = nc.variables[\"time\"][:]\n",
    "        print(\"Working on {}\".format(os.path.basename(datafile)))\n",
    "        print(\"Number of profiles: {0}\".format(len(time)))"
   ]
  },
  {
   "cell_type": "code",
   "execution_count": 18,
   "metadata": {},
   "outputs": [
    {
     "data": {
      "text/plain": [
       "554"
      ]
     },
     "execution_count": 18,
     "metadata": {},
     "output_type": "execute_result"
    }
   ],
   "source": [
    "393+161"
   ]
  },
  {
   "cell_type": "code",
   "execution_count": null,
   "metadata": {
    "collapsed": true
   },
   "outputs": [],
   "source": []
  }
 ],
 "metadata": {
  "kernelspec": {
   "display_name": "Diva-python3.6",
   "language": "python",
   "name": "diva-python3.6"
  },
  "language_info": {
   "codemirror_mode": {
    "name": "ipython",
    "version": 3
   },
   "file_extension": ".py",
   "mimetype": "text/x-python",
   "name": "python",
   "nbconvert_exporter": "python",
   "pygments_lexer": "ipython3",
   "version": "3.6.0"
  }
 },
 "nbformat": 4,
 "nbformat_minor": 2
}
