{
 "cells": [
  {
   "cell_type": "code",
   "execution_count": 14,
   "metadata": {
    "collapsed": false
   },
   "outputs": [],
   "source": [
    "import alborex_functions\n",
    "import alborexdata\n",
    "import netCDF4\n",
    "import glob\n",
    "import os\n",
    "import matplotlib.pyplot as plt\n",
    "from mpl_toolkits.basemap import Basemap \n",
    "import numpy as np\n",
    "import datetime\n",
    "from importlib import reload\n",
    "%matplotlib inline"
   ]
  },
  {
   "cell_type": "code",
   "execution_count": 15,
   "metadata": {
    "collapsed": false
   },
   "outputs": [
    {
     "data": {
      "text/plain": [
       "<module 'alborex_functions' from '/home/ctroupin/Publis/201703_AlborexData/python/alborex_functions.py'>"
      ]
     },
     "execution_count": 15,
     "metadata": {},
     "output_type": "execute_result"
    }
   ],
   "source": [
    "reload(alborex_functions)"
   ]
  },
  {
   "cell_type": "code",
   "execution_count": 16,
   "metadata": {
    "collapsed": true
   },
   "outputs": [],
   "source": [
    "import warnings\n",
    "import matplotlib.cbook\n",
    "warnings.filterwarnings(\"ignore\",category=matplotlib.cbook.mplDeprecation)"
   ]
  },
  {
   "cell_type": "markdown",
   "metadata": {},
   "source": [
    "# Configuration"
   ]
  },
  {
   "cell_type": "markdown",
   "metadata": {},
   "source": [
    "Creation of figures"
   ]
  },
  {
   "cell_type": "code",
   "execution_count": 17,
   "metadata": {
    "collapsed": true
   },
   "outputs": [],
   "source": [
    "makeFigs, makeFigsLeaflet = 1, 1"
   ]
  },
  {
   "cell_type": "markdown",
   "metadata": {},
   "source": [
    "Create a logger"
   ]
  },
  {
   "cell_type": "code",
   "execution_count": 18,
   "metadata": {
    "collapsed": true
   },
   "outputs": [],
   "source": [
    "logger = alborexdata.configure_logging()"
   ]
  },
  {
   "cell_type": "markdown",
   "metadata": {},
   "source": [
    "Domain"
   ]
  },
  {
   "cell_type": "code",
   "execution_count": 19,
   "metadata": {
    "collapsed": true
   },
   "outputs": [],
   "source": [
    "#coordinates = [-6.75, 3.001, 34.75, 40.]  # AlborEx\n",
    "coordinates = [-5.5, 1.3, 34.9, 38.9]      # ALMO"
   ]
  },
  {
   "cell_type": "markdown",
   "metadata": {},
   "source": [
    "Create a list of netCDF files containing SST"
   ]
  },
  {
   "cell_type": "code",
   "execution_count": 20,
   "metadata": {
    "collapsed": false
   },
   "outputs": [],
   "source": [
    "\"\"\"\n",
    "# AlborEx\n",
    "figdir = \"../figures/SST/\"\n",
    "figdir2 = \"/home/ctroupin/Projects/Leaflet/AlborEx/images/\"\n",
    "sstdir = \"/home/ctroupin/DataOceano/Alborex/SST/\"\n",
    "\"\"\"\n",
    "# ALMO\n",
    "figdir = \"/home/ctroupin/Publis/201702_ALMO/figures/\"\n",
    "sstdir = \"/home/ctroupin/DataOceano/ALMO/SST/\"\n",
    "figdir2 = \"/home/ctroupin/Projects/Leaflet/Missions/ALMO/\""
   ]
  },
  {
   "cell_type": "code",
   "execution_count": 21,
   "metadata": {
    "collapsed": false
   },
   "outputs": [
    {
     "name": "stderr",
     "output_type": "stream",
     "text": [
      "2017-03-13 14:08:07,113 - alborex_logger - INFO - Working on 22 SST files\n",
      "2017-03-13 14:08:07,113 - alborex_logger - INFO - Working on 22 SST files\n",
      "2017-03-13 14:08:07,113 - alborex_logger - INFO - Working on 22 SST files\n"
     ]
    }
   ],
   "source": [
    "coastfile = \"../data/coastline_cartex_f3.txt\"\n",
    "sstfilelist = sorted(glob.glob(os.path.join(sstdir, '*SST*.nc')))\n",
    "nfiles = len(sstfilelist)\n",
    "logger.info(\"Working on {0} SST files\".format(nfiles))"
   ]
  },
  {
   "cell_type": "code",
   "execution_count": 22,
   "metadata": {
    "collapsed": true
   },
   "outputs": [],
   "source": [
    "cmap = plt.cm.RdYlBu_r"
   ]
  },
  {
   "cell_type": "markdown",
   "metadata": {},
   "source": [
    "# Data reading and plotting"
   ]
  },
  {
   "cell_type": "markdown",
   "metadata": {},
   "source": [
    "Make figure directory if necessary."
   ]
  },
  {
   "cell_type": "code",
   "execution_count": 23,
   "metadata": {
    "collapsed": false
   },
   "outputs": [
    {
     "name": "stderr",
     "output_type": "stream",
     "text": [
      "2017-03-13 14:08:09,186 - alborex_logger - DEBUG - Figure directory /home/ctroupin/Publis/201702_ALMO/figures/ already exists\n",
      "2017-03-13 14:08:09,186 - alborex_logger - DEBUG - Figure directory /home/ctroupin/Publis/201702_ALMO/figures/ already exists\n",
      "2017-03-13 14:08:09,186 - alborex_logger - DEBUG - Figure directory /home/ctroupin/Publis/201702_ALMO/figures/ already exists\n",
      "2017-03-13 14:08:09,191 - alborex_logger - DEBUG - Figure directory /home/ctroupin/Publis/201702_ALMO/figures/ already exists\n",
      "2017-03-13 14:08:09,191 - alborex_logger - DEBUG - Figure directory /home/ctroupin/Publis/201702_ALMO/figures/ already exists\n",
      "2017-03-13 14:08:09,191 - alborex_logger - DEBUG - Figure directory /home/ctroupin/Publis/201702_ALMO/figures/ already exists\n"
     ]
    }
   ],
   "source": [
    "if os.path.isdir(figdir):\n",
    "    logger.debug(\"Figure directory {0} already exists\".format(figdir))\n",
    "else:\n",
    "    os.makedirs(figdir)\n",
    "    logger.debug(\"Creating figure directory {0}\".format(figdir))\n",
    "    \n",
    "if os.path.isdir(figdir2):\n",
    "    logger.debug(\"Figure directory {0} already exists\".format(figdir))\n",
    "else:\n",
    "    os.makedirs(figdir2)\n",
    "    logger.debug(\"Creating figure directory {0}\".format(figdir))"
   ]
  },
  {
   "cell_type": "markdown",
   "metadata": {},
   "source": [
    "## Coastline"
   ]
  },
  {
   "cell_type": "code",
   "execution_count": 24,
   "metadata": {
    "collapsed": false
   },
   "outputs": [
    {
     "data": {
      "text/plain": [
       "<module 'alborexdata' from '/home/ctroupin/Publis/201703_AlborexData/python/alborexdata.py'>"
      ]
     },
     "execution_count": 24,
     "metadata": {},
     "output_type": "execute_result"
    }
   ],
   "source": [
    "reload(alborexdata)"
   ]
  },
  {
   "cell_type": "code",
   "execution_count": 25,
   "metadata": {
    "collapsed": false
   },
   "outputs": [
    {
     "name": "stderr",
     "output_type": "stream",
     "text": [
      "2017-03-13 14:08:11,981 - alborex_logger - INFO - ../data/coastline_cartex_f3.txt exists\n",
      "2017-03-13 14:08:11,981 - alborex_logger - INFO - ../data/coastline_cartex_f3.txt exists\n",
      "2017-03-13 14:08:11,981 - alborex_logger - INFO - ../data/coastline_cartex_f3.txt exists\n"
     ]
    }
   ],
   "source": [
    "coastdir = '../data/'\n",
    "coastfile = os.path.join(coastdir, 'coastline_cartex_f3.txt')\n",
    "\n",
    "if os.path.exists(coastfile):\n",
    "    logger.info(\"{0} exists\".format(coastfile))\n",
    "    loncoast, latcoast = alborexdata.read_lonlat_coast(coastfile)\n",
    "else:\n",
    "    logger.warning(\"{0} does't exist\".format(coastfile))  "
   ]
  },
  {
   "cell_type": "markdown",
   "metadata": {},
   "source": [
    "Create the projection (only once)"
   ]
  },
  {
   "cell_type": "code",
   "execution_count": 26,
   "metadata": {
    "collapsed": false
   },
   "outputs": [],
   "source": [
    "m = Basemap(projection='merc', llcrnrlon=coordinates[0], llcrnrlat=coordinates[2],\n",
    "                urcrnrlon=coordinates[1], urcrnrlat=coordinates[3],\n",
    "                lat_ts=0.5 * (coordinates[2] + coordinates[3]), resolution='h')"
   ]
  },
  {
   "cell_type": "markdown",
   "metadata": {},
   "source": [
    "## Loop on the files"
   ]
  },
  {
   "cell_type": "code",
   "execution_count": null,
   "metadata": {
    "collapsed": false
   },
   "outputs": [
    {
     "name": "stderr",
     "output_type": "stream",
     "text": [
      "2017-03-13 14:11:14,518 - alborex_logger - INFO - Working on file: A2015330121500.L2_LAC_SST.nc\n",
      "2017-03-13 14:11:14,518 - alborex_logger - INFO - Working on file: A2015330121500.L2_LAC_SST.nc\n",
      "2017-03-13 14:11:14,518 - alborex_logger - INFO - Working on file: A2015330121500.L2_LAC_SST.nc\n",
      "2017-03-13 14:11:14,995 - alborex_logger - INFO - Making figure A2015330121500_L2_LAC_SST.png\n",
      "2017-03-13 14:11:14,995 - alborex_logger - INFO - Making figure A2015330121500_L2_LAC_SST.png\n",
      "2017-03-13 14:11:14,995 - alborex_logger - INFO - Making figure A2015330121500_L2_LAC_SST.png\n",
      "2017-03-13 14:11:26,247 - alborex_logger - INFO - Working on file: A2015330135000.L2_LAC_SST.nc\n",
      "2017-03-13 14:11:26,247 - alborex_logger - INFO - Working on file: A2015330135000.L2_LAC_SST.nc\n",
      "2017-03-13 14:11:26,247 - alborex_logger - INFO - Working on file: A2015330135000.L2_LAC_SST.nc\n",
      "2017-03-13 14:11:27,473 - alborex_logger - INFO - Making figure A2015330135000_L2_LAC_SST.png\n",
      "2017-03-13 14:11:27,473 - alborex_logger - INFO - Making figure A2015330135000_L2_LAC_SST.png\n",
      "2017-03-13 14:11:27,473 - alborex_logger - INFO - Making figure A2015330135000_L2_LAC_SST.png\n",
      "2017-03-13 14:11:39,389 - alborex_logger - INFO - Working on file: A2015331015000.L2_LAC_SST.nc\n",
      "2017-03-13 14:11:39,389 - alborex_logger - INFO - Working on file: A2015331015000.L2_LAC_SST.nc\n",
      "2017-03-13 14:11:39,389 - alborex_logger - INFO - Working on file: A2015331015000.L2_LAC_SST.nc\n",
      "2017-03-13 14:11:40,470 - alborex_logger - INFO - Making figure A2015331015000_L2_LAC_SST.png\n",
      "2017-03-13 14:11:40,470 - alborex_logger - INFO - Making figure A2015331015000_L2_LAC_SST.png\n",
      "2017-03-13 14:11:40,470 - alborex_logger - INFO - Making figure A2015331015000_L2_LAC_SST.png\n",
      "2017-03-13 14:11:51,848 - alborex_logger - INFO - Working on file: A2015331125500.L2_LAC_SST.nc\n",
      "2017-03-13 14:11:51,848 - alborex_logger - INFO - Working on file: A2015331125500.L2_LAC_SST.nc\n",
      "2017-03-13 14:11:51,848 - alborex_logger - INFO - Working on file: A2015331125500.L2_LAC_SST.nc\n",
      "2017-03-13 14:11:53,504 - alborex_logger - INFO - Making figure A2015331125500_L2_LAC_SST.png\n",
      "2017-03-13 14:11:53,504 - alborex_logger - INFO - Making figure A2015331125500_L2_LAC_SST.png\n",
      "2017-03-13 14:11:53,504 - alborex_logger - INFO - Making figure A2015331125500_L2_LAC_SST.png\n",
      "2017-03-13 14:12:05,429 - alborex_logger - INFO - Working on file: A2015332023500.L2_LAC_SST.nc\n",
      "2017-03-13 14:12:05,429 - alborex_logger - INFO - Working on file: A2015332023500.L2_LAC_SST.nc\n",
      "2017-03-13 14:12:05,429 - alborex_logger - INFO - Working on file: A2015332023500.L2_LAC_SST.nc\n",
      "2017-03-13 14:12:05,887 - alborex_logger - INFO - Making figure A2015332023500_L2_LAC_SST.png\n",
      "2017-03-13 14:12:05,887 - alborex_logger - INFO - Making figure A2015332023500_L2_LAC_SST.png\n",
      "2017-03-13 14:12:05,887 - alborex_logger - INFO - Making figure A2015332023500_L2_LAC_SST.png\n",
      "2017-03-13 14:12:17,764 - alborex_logger - INFO - Working on file: A2015332134000.L2_LAC_SST.nc\n",
      "2017-03-13 14:12:17,764 - alborex_logger - INFO - Working on file: A2015332134000.L2_LAC_SST.nc\n",
      "2017-03-13 14:12:17,764 - alborex_logger - INFO - Working on file: A2015332134000.L2_LAC_SST.nc\n",
      "2017-03-13 14:12:18,218 - alborex_logger - INFO - Making figure A2015332134000_L2_LAC_SST.png\n",
      "2017-03-13 14:12:18,218 - alborex_logger - INFO - Making figure A2015332134000_L2_LAC_SST.png\n",
      "2017-03-13 14:12:18,218 - alborex_logger - INFO - Making figure A2015332134000_L2_LAC_SST.png\n",
      "2017-03-13 14:12:30,352 - alborex_logger - INFO - Working on file: A2015333014000.L2_LAC_SST.nc\n",
      "2017-03-13 14:12:30,352 - alborex_logger - INFO - Working on file: A2015333014000.L2_LAC_SST.nc\n",
      "2017-03-13 14:12:30,352 - alborex_logger - INFO - Working on file: A2015333014000.L2_LAC_SST.nc\n",
      "2017-03-13 14:12:31,817 - alborex_logger - INFO - Making figure A2015333014000_L2_LAC_SST.png\n",
      "2017-03-13 14:12:31,817 - alborex_logger - INFO - Making figure A2015333014000_L2_LAC_SST.png\n",
      "2017-03-13 14:12:31,817 - alborex_logger - INFO - Making figure A2015333014000_L2_LAC_SST.png\n",
      "2017-03-13 14:12:48,052 - alborex_logger - INFO - Working on file: A2015333124500.L2_LAC_SST.nc\n",
      "2017-03-13 14:12:48,052 - alborex_logger - INFO - Working on file: A2015333124500.L2_LAC_SST.nc\n",
      "2017-03-13 14:12:48,052 - alborex_logger - INFO - Working on file: A2015333124500.L2_LAC_SST.nc\n",
      "2017-03-13 14:12:57,862 - alborex_logger - INFO - Making figure A2015333124500_L2_LAC_SST.png\n",
      "2017-03-13 14:12:57,862 - alborex_logger - INFO - Making figure A2015333124500_L2_LAC_SST.png\n",
      "2017-03-13 14:12:57,862 - alborex_logger - INFO - Making figure A2015333124500_L2_LAC_SST.png\n",
      "2017-03-13 14:13:28,652 - alborex_logger - INFO - Working on file: A2015334022500.L2_LAC_SST.nc\n",
      "2017-03-13 14:13:28,652 - alborex_logger - INFO - Working on file: A2015334022500.L2_LAC_SST.nc\n",
      "2017-03-13 14:13:28,652 - alborex_logger - INFO - Working on file: A2015334022500.L2_LAC_SST.nc\n",
      "2017-03-13 14:13:52,756 - alborex_logger - INFO - Making figure A2015334022500_L2_LAC_SST.png\n",
      "2017-03-13 14:13:52,756 - alborex_logger - INFO - Making figure A2015334022500_L2_LAC_SST.png\n",
      "2017-03-13 14:13:52,756 - alborex_logger - INFO - Making figure A2015334022500_L2_LAC_SST.png\n",
      "2017-03-13 14:14:23,427 - alborex_logger - INFO - Working on file: A2015334132500.L2_LAC_SST.nc\n",
      "2017-03-13 14:14:23,427 - alborex_logger - INFO - Working on file: A2015334132500.L2_LAC_SST.nc\n",
      "2017-03-13 14:14:23,427 - alborex_logger - INFO - Working on file: A2015334132500.L2_LAC_SST.nc\n"
     ]
    }
   ],
   "source": [
    "for sstfiles in sstfilelist:\n",
    "    logger.info(\"Working on file: {0}\".format(os.path.basename(sstfiles)))\n",
    "    \n",
    "    # Read data from file\n",
    "    lon, lat, sst, sstqual, year, day, platform = alborex_functions.load_sst_l2(sstfiles)\n",
    "    \n",
    "    # Create date from year and day\n",
    "    titledate = (datetime.datetime(int(year), 1, 1) + datetime.timedelta(int(day) - 1)).strftime('%Y-%m-%d')\n",
    "    title = ' '.join(('MODIS', platform, ' ', titledate))\n",
    "    # logger.debug(title)\n",
    "    \n",
    "    # Make the SST when flag > 1\n",
    "    sst = np.ma.masked_where(sstqual > 1, sst)\n",
    "\n",
    "    # Create figure name (remove .nc extension and substitute . by _)\n",
    "    figname = ''.join(('_'.join(os.path.basename(sstfiles).split('.')[:-1]), '.png'))\n",
    "    logger.info(\"Making figure {0}\".format(figname))\n",
    "    \n",
    "    if makeFigs:\n",
    "        # Normal figures\n",
    "        fig = plt.figure()\n",
    "        ax = plt.subplot(111)\n",
    "        m.ax = ax\n",
    "        pcm = m.pcolormesh(lon, lat, sst, latlon=True, vmin=17., vmax=20, cmap=cmap)\n",
    "\n",
    "        # Add the contours\n",
    "        for i in range(0, len(loncoast)):\n",
    "            m.plot(np.array(loncoast[i]), np.array(latcoast[i]), color='k', linewidth=.1, latlon=True)\n",
    "\n",
    "        alborexdata.add_map_grid(m, coordinates, dlon=2., dlat=2.,\n",
    "                                 fontname='Times New Roman', fontsize=14, \n",
    "                                 linewidth=0.2, zorder=1, color=\".6\")\n",
    "\n",
    "        #m.fillcontinents(color='w', zorder=2)\n",
    "        #ax.set_xlim(coordinates[0], coordinates[1])\n",
    "        #ax.set_ylim(coordinates[2], coordinates[3])\n",
    "\n",
    "        cb = plt.colorbar(pcm, extend='both', shrink=0.8)\n",
    "        cb.set_label('$^{\\circ}$C', rotation=0, ha='left')\n",
    "        plt.title(title)\n",
    "        plt.savefig(os.path.join(figdir, figname))\n",
    "        plt.close()\n",
    "        \n",
    "    if makeFigsLeaflet:\n",
    "    \n",
    "        # Figures without border and axes\n",
    "        m = Basemap(llcrnrlon=coordinates[0],\n",
    "                    llcrnrlat=coordinates[2],\n",
    "                    urcrnrlon=coordinates[1],\n",
    "                    urcrnrlat=coordinates[3], resolution = 'l', epsg=3857)\n",
    "\n",
    "        llon, llat = m(lon, lat)\n",
    "        fig = plt.figure(frameon=False)\n",
    "        ax = fig.add_axes([0, 0, 1, 1])\n",
    "        m.pcolormesh(llon, llat, sst, vmin=17., vmax=20., cmap=cmap)\n",
    "        ax.axis('off')\n",
    "        #ax.set_xlim(lon.min(), lon.max())\n",
    "        #ax.set_ylim(lat.min(), lat.max())\n",
    "        f1 = plt.gca()\n",
    "        f1.axes.get_xaxis().set_ticks([])\n",
    "        f1.axes.get_yaxis().set_ticks([])\n",
    "        plt.savefig(os.path.join(figdir2, figname), transparent=True, \n",
    "                    bbox_inches='tight', pad_inches=0)\n",
    "        plt.close()"
   ]
  },
  {
   "cell_type": "code",
   "execution_count": null,
   "metadata": {
    "collapsed": true
   },
   "outputs": [],
   "source": []
  }
 ],
 "metadata": {
  "kernelspec": {
   "display_name": "Python 3",
   "language": "python",
   "name": "python3"
  },
  "language_info": {
   "codemirror_mode": {
    "name": "ipython",
    "version": 3
   },
   "file_extension": ".py",
   "mimetype": "text/x-python",
   "name": "python",
   "nbconvert_exporter": "python",
   "pygments_lexer": "ipython3",
   "version": "3.6.0"
  }
 },
 "nbformat": 4,
 "nbformat_minor": 2
}
