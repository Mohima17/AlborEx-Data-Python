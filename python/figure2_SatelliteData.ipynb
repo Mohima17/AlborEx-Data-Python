{
 "cells": [
  {
   "cell_type": "code",
   "execution_count": 1,
   "metadata": {},
   "outputs": [
    {
     "name": "stderr",
     "output_type": "stream",
     "text": [
      "/home/ctroupin/Software/PythonEnvs/Diva-python3.6/lib/python3.6/site-packages/cmocean/tools.py:76: MatplotlibDeprecationWarning: The is_string_like function was deprecated in version 2.1.\n",
      "  if not mpl.cbook.is_string_like(rgbin[0]):\n"
     ]
    }
   ],
   "source": [
    "import alborexdata\n",
    "import netCDF4\n",
    "import glob\n",
    "import os\n",
    "import json\n",
    "import matplotlib.pyplot as plt\n",
    "from mpl_toolkits.basemap import Basemap \n",
    "import numpy as np\n",
    "import datetime\n",
    "import cmocean\n",
    "from importlib import reload\n",
    "import urllib.request"
   ]
  },
  {
   "cell_type": "code",
   "execution_count": 2,
   "metadata": {},
   "outputs": [
    {
     "data": {
      "text/plain": [
       "<module 'alborexdata' from '/home/ctroupin/Publis/201703_AlborexData/python/alborexdata.py'>"
      ]
     },
     "execution_count": 2,
     "metadata": {},
     "output_type": "execute_result"
    }
   ],
   "source": [
    "reload(alborexdata)"
   ]
  },
  {
   "cell_type": "code",
   "execution_count": 3,
   "metadata": {
    "collapsed": true
   },
   "outputs": [],
   "source": [
    "import warnings\n",
    "import matplotlib.cbook\n",
    "warnings.filterwarnings(\"ignore\",category=matplotlib.cbook.mplDeprecation)"
   ]
  },
  {
   "cell_type": "markdown",
   "metadata": {},
   "source": [
    "# Configuration"
   ]
  },
  {
   "cell_type": "code",
   "execution_count": 13,
   "metadata": {
    "collapsed": true
   },
   "outputs": [],
   "source": [
    "with open('alborexconfig.json') as json_data_file:\n",
    "    config = json.load(json_data_file)"
   ]
  },
  {
   "cell_type": "code",
   "execution_count": 5,
   "metadata": {
    "collapsed": true
   },
   "outputs": [],
   "source": [
    "makeFigs, makeFigsLeaflet = 1, 0"
   ]
  },
  {
   "cell_type": "markdown",
   "metadata": {},
   "source": [
    "Create a logger"
   ]
  },
  {
   "cell_type": "code",
   "execution_count": 6,
   "metadata": {
    "collapsed": true
   },
   "outputs": [],
   "source": [
    "logger = alborexdata.configure_logging(\"./logs/alborexFigure2.log\")"
   ]
  },
  {
   "cell_type": "markdown",
   "metadata": {},
   "source": [
    "Domain"
   ]
  },
  {
   "cell_type": "code",
   "execution_count": 7,
   "metadata": {
    "collapsed": true
   },
   "outputs": [],
   "source": [
    "coordinates = config[\"domain\"][\"coordinates1\"]\n",
    "coordinates2 = config[\"domain\"][\"coordinates2\"]"
   ]
  },
  {
   "cell_type": "markdown",
   "metadata": {},
   "source": [
    "Create a list of netCDF files containing SST"
   ]
  },
  {
   "cell_type": "code",
   "execution_count": 8,
   "metadata": {},
   "outputs": [
    {
     "name": "stderr",
     "output_type": "stream",
     "text": [
      "2019-01-09 16:06:24,070 - alborex_logger - INFO - SST file A2014145125000.L2_LAC_SST.nc already downloaded\n",
      "2019-01-09 16:06:24,072 - alborex_logger - INFO - SST file A2014150020500.L2_LAC_SST.nc already downloaded\n"
     ]
    }
   ],
   "source": [
    "coastfile = config[\"datafiles\"][\"coast\"]\n",
    "sstfilelist = config[\"datafiles\"][\"sst\"]\n",
    "sstfilelistremote = config[\"datafiles\"][\"sstremote\"]\n",
    "for sstfile, sstremote in zip(sstfilelist, sstfilelistremote):\n",
    "    if not(os.path.exists(sstfile)):\n",
    "        logger.info(\"Downloading data file {}\".format(os.path.basename(sstfile)))\n",
    "        urllib.request.urlretrieve(sstremote, sstfile)\n",
    "    else:\n",
    "        logger.info(\"SST file {} already downloaded\".format(os.path.basename(sstfile)))"
   ]
  },
  {
   "cell_type": "code",
   "execution_count": 9,
   "metadata": {
    "collapsed": true
   },
   "outputs": [],
   "source": [
    "cmap = plt.cm.RdYlBu_r"
   ]
  },
  {
   "cell_type": "markdown",
   "metadata": {},
   "source": [
    "# Data reading and plotting\n",
    "\n",
    "Make figure directory if necessary."
   ]
  },
  {
   "cell_type": "code",
   "execution_count": 10,
   "metadata": {},
   "outputs": [
    {
     "name": "stderr",
     "output_type": "stream",
     "text": [
      "2019-01-09 16:06:27,952 - alborex_logger - DEBUG - Figure directory ../figures already exists\n",
      "2019-01-09 16:06:27,957 - alborex_logger - DEBUG - Figure directory ../leaflet/images/ already exists\n"
     ]
    }
   ],
   "source": [
    "if os.path.isdir(config[\"figdir\"]):\n",
    "    logger.debug(\"Figure directory {0} already exists\".format(config[\"figdir\"]))\n",
    "else:\n",
    "    os.makedirs(config[\"figdir\"])\n",
    "    logger.debug(\"Creating figure directory {0}\".format(config[\"figdir\"]))\n",
    "    \n",
    "if os.path.isdir(config[\"figdirleaflet\"]):\n",
    "    logger.debug(\"Figure directory {0} already exists\".format(config[\"figdirleaflet\"]))\n",
    "else:\n",
    "    os.makedirs(config[\"figdirleaflet\"])\n",
    "    logger.debug(\"Creating figure directory {0}\".format(config[\"figdirleaflet\"]))"
   ]
  },
  {
   "cell_type": "markdown",
   "metadata": {},
   "source": [
    "## Coastline"
   ]
  },
  {
   "cell_type": "code",
   "execution_count": 11,
   "metadata": {
    "collapsed": true
   },
   "outputs": [],
   "source": [
    "loncoast, latcoast = alborexdata.read_lonlat_coast(config[\"datafiles\"][\"coast\"])"
   ]
  },
  {
   "cell_type": "markdown",
   "metadata": {},
   "source": [
    "Create the projection (only once)"
   ]
  },
  {
   "cell_type": "code",
   "execution_count": 12,
   "metadata": {
    "collapsed": true
   },
   "outputs": [],
   "source": [
    "m = Basemap(projection='merc', llcrnrlon=coordinates[0], llcrnrlat=coordinates[2],\n",
    "            urcrnrlon=coordinates[1], urcrnrlat=coordinates[3],\n",
    "            lat_ts=0.5 * (coordinates[2] + coordinates[3]), resolution='h')"
   ]
  },
  {
   "cell_type": "markdown",
   "metadata": {},
   "source": [
    "Projection for overlay in `leaflet`"
   ]
  },
  {
   "cell_type": "code",
   "execution_count": null,
   "metadata": {
    "collapsed": true
   },
   "outputs": [],
   "source": [
    "if makeFigsLeaflet:\n",
    "    m2 = Basemap(llcrnrlon=coordinates[0],\n",
    "         llcrnrlat=coordinates[2],\n",
    "         urcrnrlon=coordinates[1],\n",
    "         urcrnrlat=coordinates[3], resolution = 'l', epsg=3857)"
   ]
  },
  {
   "cell_type": "markdown",
   "metadata": {},
   "source": [
    "## Front position"
   ]
  },
  {
   "cell_type": "code",
   "execution_count": 14,
   "metadata": {
    "collapsed": true
   },
   "outputs": [],
   "source": [
    "frontcoords = config[\"datafiles\"][\"front\"]\n",
    "f = alborexdata.Front()\n",
    "f.get_from_file(frontcoords)\n",
    "f.smooth()"
   ]
  },
  {
   "cell_type": "markdown",
   "metadata": {},
   "source": [
    "# Main plot"
   ]
  },
  {
   "cell_type": "code",
   "execution_count": 16,
   "metadata": {},
   "outputs": [
    {
     "name": "stderr",
     "output_type": "stream",
     "text": [
      "2019-01-09 16:09:25,558 - alborex_logger - INFO - Working on file: A2014145125000.L2_LAC_SST.nc\n",
      "2019-01-09 16:09:26,629 - alborex_logger - INFO - Working on file: A2014150020500.L2_LAC_SST.nc\n"
     ]
    }
   ],
   "source": [
    "# Rectangle for the region of interest\n",
    "xrect = (coordinates2[0], coordinates2[1], coordinates2[1], coordinates2[0], coordinates2[0])\n",
    "yrect = (coordinates2[2], coordinates2[2], coordinates2[3], coordinates2[3], coordinates2[2])\n",
    "    \n",
    "figname = \"fig02.png\"\n",
    "fig = plt.figure(figsize=(10, 10))\n",
    "\n",
    "for ii, sstfiles in enumerate(sstfilelist):\n",
    "    logger.info(\"Working on file: {0}\".format(os.path.basename(sstfiles)))\n",
    "    \n",
    "    # Read data from file\n",
    "    lon, lat, sst, sstqual, year, day, platform = alborexdata.load_sst_l2(sstfiles)\n",
    "    # Make the SST when flag > 1\n",
    "    sst = np.ma.masked_where(sstqual > 1, sst)\n",
    "    \n",
    "    # Create date from year and day\n",
    "    titledate = (datetime.datetime(int(year), 1, 1) + datetime.timedelta(int(day) - 1)).strftime('%Y-%m-%d')\n",
    "    figtitle = ' '.join(('MODIS', platform, '$-$', titledate))\n",
    "    \n",
    "    \n",
    "    ax = plt.subplot(2,1,ii+1)\n",
    "    m.ax = ax\n",
    "    pcm = m.pcolormesh(lon, lat, sst, latlon=True, \n",
    "                       vmin=18., vmax=20.5, cmap=cmap)\n",
    "\n",
    "    # Add the coastline\n",
    "    for i in range(0, len(loncoast)):\n",
    "        m.plot(np.array(loncoast[i]), np.array(latcoast[i]), \n",
    "               color='k', linewidth=.25, latlon=True)\n",
    "\n",
    "    alborexdata.add_map_grid(m, coordinates, dlon=2., dlat=2.,\n",
    "                             fontname='Times New Roman', fontsize=14, \n",
    "                             linewidth=0.2, zorder=1, color=\".6\")\n",
    "\n",
    "    m.drawmapscale(-.75, 35.25, -1, 35.25, 75, fontsize=12)\n",
    "\n",
    "    m.plot(xrect, yrect, \":\", color='k', latlon=True)\n",
    "\n",
    "    xtext1, ytext1 = m(-3.2, 37.)\n",
    "    xfig1, yfig1 = m(coordinates2[0], coordinates2[2])\n",
    "\n",
    "    # Plot front\n",
    "    m.plot(f.lon, f.lat, \"k--\", linewidth=2, latlon=True)\n",
    "    ax.set_title(figtitle, fontsize=20)\n",
    "\n",
    "fig.subplots_adjust(right=0.95)\n",
    "cbar_ax = fig.add_axes([0.85, 0.15, 0.035, 0.7])\n",
    "cb = plt.colorbar(pcm, cax=cbar_ax, extend='both')\n",
    "cb.set_label('$^{\\circ}$C', rotation=0, ha='left', fontsize=16)\n",
    "cb.ax.tick_params(labelsize=14)\n",
    "\n",
    "# plt.show()\n",
    "plt.savefig(os.path.join(config[\"figdir\"], figname), dpi=300, bbox_inches='tight')\n",
    "plt.close()"
   ]
  },
  {
   "cell_type": "markdown",
   "metadata": {},
   "source": [
    "## Loop on the files"
   ]
  },
  {
   "cell_type": "code",
   "execution_count": 17,
   "metadata": {},
   "outputs": [
    {
     "name": "stderr",
     "output_type": "stream",
     "text": [
      "2019-01-09 16:09:54,718 - alborex_logger - INFO - Working on file: A2014145125000.L2_LAC_SST.nc\n",
      "2019-01-09 16:09:55,333 - alborex_logger - INFO - Making figure A2014145125000_L2_LAC_SST_cm.png\n",
      "2019-01-09 16:09:59,396 - alborex_logger - INFO - Working on file: A2014150020500.L2_LAC_SST.nc\n",
      "2019-01-09 16:09:59,666 - alborex_logger - INFO - Making figure A2014150020500_L2_LAC_SST_cm.png\n"
     ]
    }
   ],
   "source": [
    "for sstfiles in sstfilelist:\n",
    "    logger.info(\"Working on file: {0}\".format(os.path.basename(sstfiles)))\n",
    "    \n",
    "    # Read data from file\n",
    "    lon, lat, sst, sstqual, year, day, platform = alborexdata.load_sst_l2(sstfiles)\n",
    "    \n",
    "    # Create date from year and day\n",
    "    titledate = (datetime.datetime(int(year), 1, 1) + datetime.timedelta(int(day) - 1)).strftime('%Y-%m-%d')\n",
    "    figtitle = ' '.join(('MODIS', platform, '$-$', titledate))\n",
    "    # logger.debug(title)\n",
    "    \n",
    "    # Make the SST when flag > 1\n",
    "    sst = np.ma.masked_where(sstqual > 1, sst)\n",
    "\n",
    "    # Create figure name (remove .nc extension and substitute . by _)\n",
    "    figname = ''.join(('_'.join(os.path.basename(sstfiles).split('.')[:-1]), '_cm.png'))\n",
    "    logger.info(\"Making figure {0}\".format(figname))\n",
    "    \n",
    "    # Rectangle for the region of interest\n",
    "    xrect = (coordinates2[0], coordinates2[1], coordinates2[1], coordinates2[0], coordinates2[0])\n",
    "    yrect = (coordinates2[2], coordinates2[2], coordinates2[3], coordinates2[3], coordinates2[2])\n",
    "    \n",
    "    if makeFigs:\n",
    "        # Normal figures\n",
    "        fig = plt.figure(figsize=(10, 10))\n",
    "        ax = plt.subplot(111)\n",
    "        m.ax = ax\n",
    "        pcm = m.pcolormesh(lon, lat, sst, latlon=True, \n",
    "                           vmin=18., vmax=20.5, cmap=cmocean.cm.thermal)\n",
    "\n",
    "        # Add the contours\n",
    "        for i in range(0, len(loncoast)):\n",
    "            m.plot(np.array(loncoast[i]), np.array(latcoast[i]), \n",
    "                   color='k', linewidth=.25, latlon=True)\n",
    "\n",
    "        alborexdata.add_map_grid(m, coordinates, dlon=2., dlat=2.,\n",
    "                                 fontname='Times New Roman', fontsize=14, \n",
    "                                 linewidth=0.2, zorder=1, color=\".6\")\n",
    "\n",
    "        #m.fillcontinents(color='w', zorder=2)\n",
    "        #ax.set_xlim(coordinates[0], coordinates[1])\n",
    "        #ax.set_ylim(coordinates[2], coordinates[3])\n",
    "\n",
    "        cb = plt.colorbar(pcm, extend='both', shrink=0.6)\n",
    "        cb.set_label('$^{\\circ}$C', rotation=0, ha='left', fontsize=16)\n",
    "        m.drawmapscale(-.75, 35.25, -1, 35.25, 75, fontsize=12)\n",
    "        \n",
    "        m.plot(xrect, yrect, \":\", color='.25', latlon=True)\n",
    "\n",
    "        xtext1, ytext1 = m(-3.2, 37.)\n",
    "        xfig1, yfig1 = m(coordinates2[0], coordinates2[2])\n",
    "        \n",
    "        # Plot front\n",
    "        m.plot(f.lon, f.lat, \"k--\", linewidth=2, latlon=True)\n",
    "              \n",
    "        plt.title(figtitle, fontsize=20)\n",
    "        plt.savefig(os.path.join(config[\"figdir\"], figname), dpi=300, bbox_inches='tight')\n",
    "        plt.close()\n",
    "        \n",
    "    if makeFigsLeaflet:\n",
    "    \n",
    "        # Figures without border and axes\n",
    "        llon, llat = m2(lon, lat)\n",
    "        fig = plt.figure(frameon=False)\n",
    "        ax = fig.add_axes([0, 0, 1, 1])\n",
    "        m2.pcolormesh(llon, llat, sst, vmin=17., vmax=20., cmap=cmap)\n",
    "        ax.axis('off')\n",
    "        #ax.set_xlim(lon.min(), lon.max())\n",
    "        #ax.set_ylim(lat.min(), lat.max())\n",
    "        f1 = plt.gca()\n",
    "        f1.axes.get_xaxis().set_ticks([])\n",
    "        f1.axes.get_yaxis().set_ticks([])\n",
    "        plt.savefig(os.path.join(config[\"figdirleaflet\"], figname), transparent=True, \n",
    "                    bbox_inches='tight', pad_inches=0)\n",
    "        plt.close()"
   ]
  }
 ],
 "metadata": {
  "@webio": {
   "lastCommId": "D4AE27C80E564F90B2C61C13788350FE",
   "lastKernelId": "23ffbe2e-086d-43f2-91d1-6e71a9455522"
  },
  "kernelspec": {
   "display_name": "Diva-python3.6",
   "language": "python",
   "name": "diva-python3.6"
  },
  "language_info": {
   "codemirror_mode": {
    "name": "ipython",
    "version": 3
   },
   "file_extension": ".py",
   "mimetype": "text/x-python",
   "name": "python",
   "nbconvert_exporter": "python",
   "pygments_lexer": "ipython3",
   "version": "3.6.0"
  }
 },
 "nbformat": 4,
 "nbformat_minor": 2
}
