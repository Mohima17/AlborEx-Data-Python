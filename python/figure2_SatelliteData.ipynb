{
 "cells": [
  {
   "cell_type": "code",
   "execution_count": 3,
   "metadata": {
    "collapsed": true
   },
   "outputs": [],
   "source": [
    "import alborex_functions\n",
    "import alborexdata\n",
    "import netCDF4\n",
    "import glob\n",
    "import os\n",
    "import matplotlib.pyplot as plt\n",
    "from mpl_toolkits.basemap import Basemap \n",
    "import numpy as np\n",
    "import datetime\n",
    "from importlib import reload"
   ]
  },
  {
   "cell_type": "code",
   "execution_count": 4,
   "metadata": {},
   "outputs": [
    {
     "data": {
      "text/plain": [
       "<module 'alborexdata' from '/home/ctroupin/Publis/201703_AlborexData/python/alborexdata.py'>"
      ]
     },
     "execution_count": 4,
     "metadata": {},
     "output_type": "execute_result"
    }
   ],
   "source": [
    "reload(alborexdata)"
   ]
  },
  {
   "cell_type": "code",
   "execution_count": 5,
   "metadata": {
    "collapsed": true
   },
   "outputs": [],
   "source": [
    "import warnings\n",
    "import matplotlib.cbook\n",
    "warnings.filterwarnings(\"ignore\",category=matplotlib.cbook.mplDeprecation)"
   ]
  },
  {
   "cell_type": "markdown",
   "metadata": {},
   "source": [
    "# Configuration\n",
    "Creation of figures"
   ]
  },
  {
   "cell_type": "code",
   "execution_count": 6,
   "metadata": {
    "collapsed": true
   },
   "outputs": [],
   "source": [
    "makeFigs, makeFigsLeaflet = 1, 0"
   ]
  },
  {
   "cell_type": "markdown",
   "metadata": {},
   "source": [
    "Mission:"
   ]
  },
  {
   "cell_type": "code",
   "execution_count": 7,
   "metadata": {
    "collapsed": true
   },
   "outputs": [],
   "source": [
    "mission = \"alborex\""
   ]
  },
  {
   "cell_type": "markdown",
   "metadata": {},
   "source": [
    "Create a logger"
   ]
  },
  {
   "cell_type": "code",
   "execution_count": 9,
   "metadata": {
    "collapsed": true
   },
   "outputs": [],
   "source": [
    "logger = alborexdata.configure_logging(\"./logs/alborexFigure2.log\")"
   ]
  },
  {
   "cell_type": "markdown",
   "metadata": {},
   "source": [
    "Domain"
   ]
  },
  {
   "cell_type": "code",
   "execution_count": 10,
   "metadata": {
    "collapsed": true
   },
   "outputs": [],
   "source": [
    "if mission == \"alborex\":\n",
    "    coordinates = [-6.75, 3.001, 34.75, 40.]\n",
    "    coordinates2 = [-1, -0.25, 36.65, 37.25]\n",
    "elif mission == \"almo\":\n",
    "    coordinates = [-5.5, 1.3, 34.9, 38.9] "
   ]
  },
  {
   "cell_type": "markdown",
   "metadata": {},
   "source": [
    "Create a list of netCDF files containing SST"
   ]
  },
  {
   "cell_type": "code",
   "execution_count": 11,
   "metadata": {
    "collapsed": true
   },
   "outputs": [],
   "source": [
    "if mission == \"alborex\":\n",
    "    figdir = \"../figures/SST/20171007\"\n",
    "    figdir2 = \"/home/ctroupin/Projects/Leaflet/AlborEx/images/\"\n",
    "    sstdir = \"/home/ctroupin/Data/Alborex/SST/\"\n",
    "elif mission == \"almo\":\n",
    "    figdir = \"/home/ctroupin/Publis/201702_ALMO/figures/\"\n",
    "    sstdir = \"/home/ctroupin/Data/ALMO/SST/\"\n",
    "    figdir2 = \"/home/ctroupin/Projects/Leaflet/Missions/ALMO/\""
   ]
  },
  {
   "cell_type": "code",
   "execution_count": 12,
   "metadata": {},
   "outputs": [
    {
     "name": "stderr",
     "output_type": "stream",
     "text": [
      "2018-01-03 14:39:22,784 - alborex_logger - INFO - Working on 15 SST files\n",
      "2018-01-03 14:39:22,784 - alborex_logger - INFO - Working on 15 SST files\n"
     ]
    }
   ],
   "source": [
    "coastfile = \"../data/coastline_cartex_f3.txt\"\n",
    "sstfilelist = sorted(glob.glob(os.path.join(sstdir, '*SST*.nc')))\n",
    "nfiles = len(sstfilelist)\n",
    "if nfiles == 0:\n",
    "    logger.warning(\"No SST files in directory {0}\".format(sstdir))\n",
    "else:\n",
    "    logger.info(\"Working on {0} SST files\".format(nfiles))"
   ]
  },
  {
   "cell_type": "code",
   "execution_count": 13,
   "metadata": {
    "collapsed": true
   },
   "outputs": [],
   "source": [
    "cmap = plt.cm.RdYlBu_r"
   ]
  },
  {
   "cell_type": "markdown",
   "metadata": {},
   "source": [
    "# Data reading and plotting\n",
    "\n",
    "Make figure directory if necessary."
   ]
  },
  {
   "cell_type": "code",
   "execution_count": 14,
   "metadata": {},
   "outputs": [
    {
     "name": "stderr",
     "output_type": "stream",
     "text": [
      "2018-01-03 14:39:28,202 - alborex_logger - DEBUG - Figure directory ../figures/SST/20171007 already exists\n",
      "2018-01-03 14:39:28,202 - alborex_logger - DEBUG - Figure directory ../figures/SST/20171007 already exists\n",
      "2018-01-03 14:39:28,204 - alborex_logger - DEBUG - Creating figure directory ../figures/SST/20171007\n",
      "2018-01-03 14:39:28,204 - alborex_logger - DEBUG - Creating figure directory ../figures/SST/20171007\n"
     ]
    }
   ],
   "source": [
    "if os.path.isdir(figdir):\n",
    "    logger.debug(\"Figure directory {0} already exists\".format(figdir))\n",
    "else:\n",
    "    os.makedirs(figdir)\n",
    "    logger.debug(\"Creating figure directory {0}\".format(figdir))\n",
    "    \n",
    "if os.path.isdir(figdir2):\n",
    "    logger.debug(\"Figure directory {0} already exists\".format(figdir))\n",
    "else:\n",
    "    os.makedirs(figdir2)\n",
    "    logger.debug(\"Creating figure directory {0}\".format(figdir))"
   ]
  },
  {
   "cell_type": "markdown",
   "metadata": {},
   "source": [
    "## Coastline"
   ]
  },
  {
   "cell_type": "code",
   "execution_count": 15,
   "metadata": {},
   "outputs": [
    {
     "name": "stderr",
     "output_type": "stream",
     "text": [
      "2018-01-03 14:39:33,691 - alborex_logger - INFO - ../data/coastline_cartex_f3.txt exists\n",
      "2018-01-03 14:39:33,691 - alborex_logger - INFO - ../data/coastline_cartex_f3.txt exists\n"
     ]
    }
   ],
   "source": [
    "coastdir = '../data/'\n",
    "coastfile = os.path.join(coastdir, 'coastline_cartex_f3.txt')\n",
    "\n",
    "if os.path.exists(coastfile):\n",
    "    logger.info(\"{0} exists\".format(coastfile))\n",
    "    loncoast, latcoast = alborexdata.read_lonlat_coast(coastfile)\n",
    "else:\n",
    "    logger.warning(\"{0} does't exist\".format(coastfile))  "
   ]
  },
  {
   "cell_type": "markdown",
   "metadata": {},
   "source": [
    "Create the projection (only once)"
   ]
  },
  {
   "cell_type": "code",
   "execution_count": 16,
   "metadata": {
    "collapsed": true
   },
   "outputs": [],
   "source": [
    "m = Basemap(projection='merc', llcrnrlon=coordinates[0], llcrnrlat=coordinates[2],\n",
    "            urcrnrlon=coordinates[1], urcrnrlat=coordinates[3],\n",
    "            lat_ts=0.5 * (coordinates[2] + coordinates[3]), resolution='h')"
   ]
  },
  {
   "cell_type": "markdown",
   "metadata": {},
   "source": [
    "## Loop on the files"
   ]
  },
  {
   "cell_type": "code",
   "execution_count": 34,
   "metadata": {},
   "outputs": [
    {
     "name": "stderr",
     "output_type": "stream",
     "text": [
      "2018-01-03 15:44:02,180 - alborex_logger - INFO - Working on file: A2014145125000.L2_LAC_SST.nc\n",
      "2018-01-03 15:44:02,180 - alborex_logger - INFO - Working on file: A2014145125000.L2_LAC_SST.nc\n",
      "2018-01-03 15:44:02,419 - alborex_logger - INFO - Making figure A2014145125000_L2_LAC_SST.png\n",
      "2018-01-03 15:44:02,419 - alborex_logger - INFO - Making figure A2014145125000_L2_LAC_SST.png\n",
      "2018-01-03 15:44:06,072 - alborex_logger - INFO - Working on file: A2014146023000.L2_LAC_SST4.nc\n",
      "2018-01-03 15:44:06,072 - alborex_logger - INFO - Working on file: A2014146023000.L2_LAC_SST4.nc\n",
      "2018-01-03 15:44:06,323 - alborex_logger - INFO - Making figure A2014146023000_L2_LAC_SST4.png\n",
      "2018-01-03 15:44:06,323 - alborex_logger - INFO - Making figure A2014146023000_L2_LAC_SST4.png\n",
      "2018-01-03 15:44:09,875 - alborex_logger - INFO - Working on file: A2014147013500.L2_LAC_SST4.nc\n",
      "2018-01-03 15:44:09,875 - alborex_logger - INFO - Working on file: A2014147013500.L2_LAC_SST4.nc\n",
      "2018-01-03 15:44:10,125 - alborex_logger - INFO - Making figure A2014147013500_L2_LAC_SST4.png\n",
      "2018-01-03 15:44:10,125 - alborex_logger - INFO - Making figure A2014147013500_L2_LAC_SST4.png\n",
      "2018-01-03 15:44:13,832 - alborex_logger - INFO - Working on file: A2014148132000.L2_LAC_SST.nc\n",
      "2018-01-03 15:44:13,832 - alborex_logger - INFO - Working on file: A2014148132000.L2_LAC_SST.nc\n",
      "2018-01-03 15:44:14,083 - alborex_logger - INFO - Making figure A2014148132000_L2_LAC_SST.png\n",
      "2018-01-03 15:44:14,083 - alborex_logger - INFO - Making figure A2014148132000_L2_LAC_SST.png\n",
      "2018-01-03 15:44:17,613 - alborex_logger - INFO - Working on file: A2014149012000.L2_LAC_SST4.nc\n",
      "2018-01-03 15:44:17,613 - alborex_logger - INFO - Working on file: A2014149012000.L2_LAC_SST4.nc\n",
      "2018-01-03 15:44:17,869 - alborex_logger - INFO - Making figure A2014149012000_L2_LAC_SST4.png\n",
      "2018-01-03 15:44:17,869 - alborex_logger - INFO - Making figure A2014149012000_L2_LAC_SST4.png\n",
      "2018-01-03 15:44:21,023 - alborex_logger - INFO - Working on file: A2014149122500.L2_LAC_SST.nc\n",
      "2018-01-03 15:44:21,023 - alborex_logger - INFO - Working on file: A2014149122500.L2_LAC_SST.nc\n",
      "2018-01-03 15:44:21,276 - alborex_logger - INFO - Making figure A2014149122500_L2_LAC_SST.png\n",
      "2018-01-03 15:44:21,276 - alborex_logger - INFO - Making figure A2014149122500_L2_LAC_SST.png\n",
      "2018-01-03 15:44:25,231 - alborex_logger - INFO - Working on file: A2014150020500.L2_LAC_SST.nc\n",
      "2018-01-03 15:44:25,231 - alborex_logger - INFO - Working on file: A2014150020500.L2_LAC_SST.nc\n",
      "2018-01-03 15:44:25,494 - alborex_logger - INFO - Making figure A2014150020500_L2_LAC_SST.png\n",
      "2018-01-03 15:44:25,494 - alborex_logger - INFO - Making figure A2014150020500_L2_LAC_SST.png\n",
      "2018-01-03 15:44:29,138 - alborex_logger - INFO - Working on file: A2014150020500.L2_LAC_SST4.nc\n",
      "2018-01-03 15:44:29,138 - alborex_logger - INFO - Working on file: A2014150020500.L2_LAC_SST4.nc\n",
      "2018-01-03 15:44:29,389 - alborex_logger - INFO - Making figure A2014150020500_L2_LAC_SST4.png\n",
      "2018-01-03 15:44:29,389 - alborex_logger - INFO - Making figure A2014150020500_L2_LAC_SST4.png\n",
      "2018-01-03 15:44:33,030 - alborex_logger - INFO - Working on file: T2014145111000.L2_LAC_SST.nc\n",
      "2018-01-03 15:44:33,030 - alborex_logger - INFO - Working on file: T2014145111000.L2_LAC_SST.nc\n",
      "2018-01-03 15:44:33,281 - alborex_logger - INFO - Making figure T2014145111000_L2_LAC_SST.png\n",
      "2018-01-03 15:44:33,281 - alborex_logger - INFO - Making figure T2014145111000_L2_LAC_SST.png\n",
      "2018-01-03 15:44:36,778 - alborex_logger - INFO - Working on file: T2014145221500.L2_LAC_SST4.nc\n",
      "2018-01-03 15:44:36,778 - alborex_logger - INFO - Working on file: T2014145221500.L2_LAC_SST4.nc\n",
      "2018-01-03 15:44:37,027 - alborex_logger - INFO - Making figure T2014145221500_L2_LAC_SST4.png\n",
      "2018-01-03 15:44:37,027 - alborex_logger - INFO - Making figure T2014145221500_L2_LAC_SST4.png\n",
      "2018-01-03 15:44:40,649 - alborex_logger - INFO - Working on file: T2014146212000.L2_LAC_SST4.nc\n",
      "2018-01-03 15:44:40,649 - alborex_logger - INFO - Working on file: T2014146212000.L2_LAC_SST4.nc\n",
      "2018-01-03 15:44:40,901 - alborex_logger - INFO - Making figure T2014146212000_L2_LAC_SST4.png\n",
      "2018-01-03 15:44:40,901 - alborex_logger - INFO - Making figure T2014146212000_L2_LAC_SST4.png\n",
      "2018-01-03 15:44:44,377 - alborex_logger - INFO - Working on file: T2014149215000.L2_LAC_SST.nc\n",
      "2018-01-03 15:44:44,377 - alborex_logger - INFO - Working on file: T2014149215000.L2_LAC_SST.nc\n",
      "2018-01-03 15:44:44,621 - alborex_logger - INFO - Making figure T2014149215000_L2_LAC_SST.png\n",
      "2018-01-03 15:44:44,621 - alborex_logger - INFO - Making figure T2014149215000_L2_LAC_SST.png\n",
      "2018-01-03 15:44:48,154 - alborex_logger - INFO - Working on file: T2014149215000.L2_LAC_SST4.nc\n",
      "2018-01-03 15:44:48,154 - alborex_logger - INFO - Working on file: T2014149215000.L2_LAC_SST4.nc\n",
      "2018-01-03 15:44:48,398 - alborex_logger - INFO - Making figure T2014149215000_L2_LAC_SST4.png\n",
      "2018-01-03 15:44:48,398 - alborex_logger - INFO - Making figure T2014149215000_L2_LAC_SST4.png\n",
      "2018-01-03 15:44:51,935 - alborex_logger - INFO - Working on file: T2014150113000.L2_LAC_SST.nc\n",
      "2018-01-03 15:44:51,935 - alborex_logger - INFO - Working on file: T2014150113000.L2_LAC_SST.nc\n",
      "2018-01-03 15:44:52,203 - alborex_logger - INFO - Making figure T2014150113000_L2_LAC_SST.png\n",
      "2018-01-03 15:44:52,203 - alborex_logger - INFO - Making figure T2014150113000_L2_LAC_SST.png\n",
      "2018-01-03 15:44:55,685 - alborex_logger - INFO - Working on file: T2014150223500.L2_LAC_SST4.nc\n",
      "2018-01-03 15:44:55,685 - alborex_logger - INFO - Working on file: T2014150223500.L2_LAC_SST4.nc\n",
      "2018-01-03 15:44:55,934 - alborex_logger - INFO - Making figure T2014150223500_L2_LAC_SST4.png\n",
      "2018-01-03 15:44:55,934 - alborex_logger - INFO - Making figure T2014150223500_L2_LAC_SST4.png\n"
     ]
    }
   ],
   "source": [
    "for sstfiles in sstfilelist:\n",
    "    logger.info(\"Working on file: {0}\".format(os.path.basename(sstfiles)))\n",
    "    \n",
    "    # Read data from file\n",
    "    lon, lat, sst, sstqual, year, day, platform = alborex_functions.load_sst_l2(sstfiles)\n",
    "    \n",
    "    # Create date from year and day\n",
    "    titledate = (datetime.datetime(int(year), 1, 1) + datetime.timedelta(int(day) - 1)).strftime('%Y-%m-%d')\n",
    "    figtitle = ' '.join(('MODIS', platform, '$-$', titledate))\n",
    "    # logger.debug(title)\n",
    "    \n",
    "    # Make the SST when flag > 1\n",
    "    sst = np.ma.masked_where(sstqual > 1, sst)\n",
    "\n",
    "    # Create figure name (remove .nc extension and substitute . by _)\n",
    "    figname = ''.join(('_'.join(os.path.basename(sstfiles).split('.')[:-1]), '.png'))\n",
    "    logger.info(\"Making figure {0}\".format(figname))\n",
    "    \n",
    "    # Rectangle for the region of interest\n",
    "    xrect = (coordinates2[0], coordinates2[1], coordinates2[1], coordinates2[0], coordinates2[0])\n",
    "    yrect = (coordinates2[2], coordinates2[2], coordinates2[3], coordinates2[3], coordinates2[2])\n",
    "    \n",
    "    if makeFigs:\n",
    "        # Normal figures\n",
    "        fig = plt.figure(figsize=(10, 10))\n",
    "        ax = plt.subplot(111)\n",
    "        m.ax = ax\n",
    "        pcm = m.pcolormesh(lon, lat, sst, latlon=True, \n",
    "                           vmin=18., vmax=20.5, cmap=plt.cm.RdYlBu_r)\n",
    "\n",
    "        # Add the contours\n",
    "        for i in range(0, len(loncoast)):\n",
    "            m.plot(np.array(loncoast[i]), np.array(latcoast[i]), \n",
    "                   color='k', linewidth=.1, latlon=True)\n",
    "\n",
    "        alborexdata.add_map_grid(m, coordinates, dlon=2., dlat=2.,\n",
    "                                 fontname='Times New Roman', fontsize=14, \n",
    "                                 linewidth=0.2, zorder=1, color=\".6\")\n",
    "\n",
    "        #m.fillcontinents(color='w', zorder=2)\n",
    "        #ax.set_xlim(coordinates[0], coordinates[1])\n",
    "        #ax.set_ylim(coordinates[2], coordinates[3])\n",
    "\n",
    "        cb = plt.colorbar(pcm, extend='both', shrink=0.6)\n",
    "        cb.set_label('$^{\\circ}$C', rotation=0, ha='left', fontsize=16)\n",
    "        m.drawmapscale(-.75, 35.25, -1, 35.25, 75, fontsize=12)\n",
    "        \n",
    "        m.plot(xrect, yrect, \":\", color='.25', latlon=True)\n",
    "\n",
    "        xtext1, ytext1 = m(-3.2, 37.)\n",
    "        xfig1, yfig1 = m(coordinates2[0], coordinates2[2])\n",
    "        \"\"\"\n",
    "        ax.annotate(\"Region of interest\", xy=(xfig1, yfig1), \n",
    "                    xytext=(xtext1, ytext1),\n",
    "                    xycoords='data', textcoords='data', fontsize=16,\n",
    "                    horizontalalignment=\"center\"\n",
    "                   )\n",
    "        \"\"\"\n",
    "        \n",
    "        plt.title(figtitle, fontsize=20)\n",
    "        # plt.show()\n",
    "        plt.savefig(os.path.join(figdir, figname), dpi=300, bbox_inches='tight',)\n",
    "        plt.close()\n",
    "        \n",
    "    if makeFigsLeaflet:\n",
    "    \n",
    "        # Figures without border and axes\n",
    "        m = Basemap(llcrnrlon=coordinates[0],\n",
    "                    llcrnrlat=coordinates[2],\n",
    "                    urcrnrlon=coordinates[1],\n",
    "                    urcrnrlat=coordinates[3], resolution = 'l', epsg=3857)\n",
    "\n",
    "        llon, llat = m(lon, lat)\n",
    "        fig = plt.figure(frameon=False)\n",
    "        ax = fig.add_axes([0, 0, 1, 1])\n",
    "        m.pcolormesh(llon, llat, sst, vmin=17., vmax=20., cmap=cmap)\n",
    "        ax.axis('off')\n",
    "        #ax.set_xlim(lon.min(), lon.max())\n",
    "        #ax.set_ylim(lat.min(), lat.max())\n",
    "        f1 = plt.gca()\n",
    "        f1.axes.get_xaxis().set_ticks([])\n",
    "        f1.axes.get_yaxis().set_ticks([])\n",
    "        plt.savefig(os.path.join(figdir2, figname), transparent=True, \n",
    "                    bbox_inches='tight', pad_inches=0)\n",
    "        plt.close()"
   ]
  },
  {
   "cell_type": "code",
   "execution_count": null,
   "metadata": {
    "collapsed": true
   },
   "outputs": [],
   "source": []
  }
 ],
 "metadata": {
  "kernelspec": {
   "display_name": "Diva-python3.6",
   "language": "python",
   "name": "diva-python3.6"
  },
  "language_info": {
   "codemirror_mode": {
    "name": "ipython",
    "version": 3
   },
   "file_extension": ".py",
   "mimetype": "text/x-python",
   "name": "python",
   "nbconvert_exporter": "python",
   "pygments_lexer": "ipython3",
   "version": "3.6.0"
  }
 },
 "nbformat": 4,
 "nbformat_minor": 2
}
