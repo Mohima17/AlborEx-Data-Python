{
 "cells": [
  {
   "cell_type": "code",
   "execution_count": 1,
   "metadata": {
    "collapsed": true
   },
   "outputs": [],
   "source": [
    "import alborex_functions\n",
    "import alborexdata\n",
    "import netCDF4\n",
    "import glob\n",
    "import os\n",
    "import json\n",
    "import matplotlib.pyplot as plt\n",
    "from mpl_toolkits.basemap import Basemap \n",
    "import numpy as np\n",
    "import datetime\n",
    "import cmocean\n",
    "from importlib import reload"
   ]
  },
  {
   "cell_type": "code",
   "execution_count": 1,
   "metadata": {},
   "outputs": [
    {
     "ename": "NameError",
     "evalue": "name 'reload' is not defined",
     "output_type": "error",
     "traceback": [
      "\u001b[0;31m---------------------------------------------------------------------------\u001b[0m",
      "\u001b[0;31mNameError\u001b[0m                                 Traceback (most recent call last)",
      "\u001b[0;32m<ipython-input-1-348587158947>\u001b[0m in \u001b[0;36m<module>\u001b[0;34m()\u001b[0m\n\u001b[0;32m----> 1\u001b[0;31m \u001b[0mreload\u001b[0m\u001b[0;34m(\u001b[0m\u001b[0malborexdata\u001b[0m\u001b[0;34m)\u001b[0m\u001b[0;34m\u001b[0m\u001b[0m\n\u001b[0m",
      "\u001b[0;31mNameError\u001b[0m: name 'reload' is not defined"
     ]
    }
   ],
   "source": [
    "reload(alborexdata)"
   ]
  },
  {
   "cell_type": "code",
   "execution_count": 3,
   "metadata": {
    "collapsed": true
   },
   "outputs": [],
   "source": [
    "import warnings\n",
    "import matplotlib.cbook\n",
    "warnings.filterwarnings(\"ignore\",category=matplotlib.cbook.mplDeprecation)"
   ]
  },
  {
   "cell_type": "markdown",
   "metadata": {},
   "source": [
    "# Configuration"
   ]
  },
  {
   "cell_type": "code",
   "execution_count": 4,
   "metadata": {
    "collapsed": true
   },
   "outputs": [],
   "source": [
    "with open('alborexconfig.json') as json_data_file:\n",
    "    config = json.load(json_data_file)"
   ]
  },
  {
   "cell_type": "code",
   "execution_count": 5,
   "metadata": {
    "collapsed": true
   },
   "outputs": [],
   "source": [
    "makeFigs, makeFigsLeaflet = 1, 0"
   ]
  },
  {
   "cell_type": "markdown",
   "metadata": {},
   "source": [
    "Create a logger"
   ]
  },
  {
   "cell_type": "code",
   "execution_count": 6,
   "metadata": {
    "collapsed": true
   },
   "outputs": [],
   "source": [
    "logger = alborexdata.configure_logging(\"./logs/alborexFigure2.log\")"
   ]
  },
  {
   "cell_type": "markdown",
   "metadata": {},
   "source": [
    "Domain"
   ]
  },
  {
   "cell_type": "code",
   "execution_count": 7,
   "metadata": {
    "collapsed": true
   },
   "outputs": [],
   "source": [
    "coordinates = config[\"domain\"][\"coordinates1\"]\n",
    "coordinates2 = config[\"domain\"][\"coordinates2\"]"
   ]
  },
  {
   "cell_type": "markdown",
   "metadata": {},
   "source": [
    "Create a list of netCDF files containing SST"
   ]
  },
  {
   "cell_type": "code",
   "execution_count": 15,
   "metadata": {},
   "outputs": [
    {
     "name": "stderr",
     "output_type": "stream",
     "text": [
      "2018-08-28 10:30:04,652 - alborex_logger - INFO - Working on 2 SST files\n"
     ]
    }
   ],
   "source": [
    "coastfile = config[\"datafiles\"][\"coast\"]\n",
    "sstfilelist = sorted(glob.glob(os.path.join(config[\"datadirs\"][\"sst\"], '*SST*.nc')))\n",
    "nfiles = len(sstfilelist)\n",
    "if nfiles == 0:\n",
    "    logger.warning(\"No SST files in directory {0}\".format(sstdir))\n",
    "else:\n",
    "    logger.info(\"Working on {0} SST files\".format(nfiles))"
   ]
  },
  {
   "cell_type": "code",
   "execution_count": 16,
   "metadata": {
    "collapsed": true
   },
   "outputs": [],
   "source": [
    "cmap = plt.cm.RdYlBu_r"
   ]
  },
  {
   "cell_type": "markdown",
   "metadata": {},
   "source": [
    "# Data reading and plotting\n",
    "\n",
    "Make figure directory if necessary."
   ]
  },
  {
   "cell_type": "code",
   "execution_count": 17,
   "metadata": {},
   "outputs": [
    {
     "name": "stderr",
     "output_type": "stream",
     "text": [
      "2018-08-28 10:30:13,926 - alborex_logger - DEBUG - Figure directory /home/ctroupin/Publis/201703_AlborexData/figures already exists\n",
      "2018-08-28 10:30:13,932 - alborex_logger - DEBUG - Figure directory /home/ctroupin/Publis/201703_AlborexData/leaflet/images/ already exists\n"
     ]
    }
   ],
   "source": [
    "if os.path.isdir(config[\"figdir\"]):\n",
    "    logger.debug(\"Figure directory {0} already exists\".format(config[\"figdir\"]))\n",
    "else:\n",
    "    os.makedirs(config[\"figdir\"])\n",
    "    logger.debug(\"Creating figure directory {0}\".format(config[\"figdir\"]))\n",
    "    \n",
    "if os.path.isdir(config[\"figdirleaflet\"]):\n",
    "    logger.debug(\"Figure directory {0} already exists\".format(config[\"figdirleaflet\"]))\n",
    "else:\n",
    "    os.makedirs(config[\"figdirleaflet\"])\n",
    "    logger.debug(\"Creating figure directory {0}\".format(config[\"figdirleaflet\"]))"
   ]
  },
  {
   "cell_type": "markdown",
   "metadata": {},
   "source": [
    "## Coastline"
   ]
  },
  {
   "cell_type": "code",
   "execution_count": 18,
   "metadata": {
    "collapsed": true
   },
   "outputs": [],
   "source": [
    "loncoast, latcoast = alborexdata.read_lonlat_coast(config[\"datafiles\"][\"coast\"])"
   ]
  },
  {
   "cell_type": "markdown",
   "metadata": {},
   "source": [
    "Create the projection (only once)"
   ]
  },
  {
   "cell_type": "code",
   "execution_count": 19,
   "metadata": {
    "collapsed": true
   },
   "outputs": [],
   "source": [
    "m = Basemap(projection='merc', llcrnrlon=coordinates[0], llcrnrlat=coordinates[2],\n",
    "            urcrnrlon=coordinates[1], urcrnrlat=coordinates[3],\n",
    "            lat_ts=0.5 * (coordinates[2] + coordinates[3]), resolution='h')"
   ]
  },
  {
   "cell_type": "markdown",
   "metadata": {},
   "source": [
    "Projection for overlay in leaflet"
   ]
  },
  {
   "cell_type": "code",
   "execution_count": 20,
   "metadata": {
    "collapsed": true
   },
   "outputs": [],
   "source": [
    "m2 = Basemap(llcrnrlon=coordinates[0],\n",
    "             llcrnrlat=coordinates[2],\n",
    "             urcrnrlon=coordinates[1],\n",
    "             urcrnrlat=coordinates[3], resolution = 'l', epsg=3857)"
   ]
  },
  {
   "cell_type": "markdown",
   "metadata": {},
   "source": [
    "## Front position"
   ]
  },
  {
   "cell_type": "code",
   "execution_count": 21,
   "metadata": {
    "collapsed": true
   },
   "outputs": [],
   "source": [
    "frontcoords = \"../data/front_coordinates.dat\"\n",
    "f = alborexdata.Front()\n",
    "f.get_from_file(frontcoords)\n",
    "f.smooth()"
   ]
  },
  {
   "cell_type": "markdown",
   "metadata": {},
   "source": [
    "# Main plot"
   ]
  },
  {
   "cell_type": "code",
   "execution_count": 36,
   "metadata": {},
   "outputs": [
    {
     "name": "stderr",
     "output_type": "stream",
     "text": [
      "2018-08-28 10:53:21,350 - alborex_logger - INFO - Working on file: A2014145125000.L2_LAC_SST.nc\n",
      "2018-08-28 10:53:21,985 - alborex_logger - INFO - Working on file: A2014150020500.L2_LAC_SST.nc\n"
     ]
    }
   ],
   "source": [
    "# Rectangle for the region of interest\n",
    "xrect = (coordinates2[0], coordinates2[1], coordinates2[1], coordinates2[0], coordinates2[0])\n",
    "yrect = (coordinates2[2], coordinates2[2], coordinates2[3], coordinates2[3], coordinates2[2])\n",
    "    \n",
    "figname = \"AlborEx_keyfig.png\"\n",
    "fig = plt.figure(figsize=(10, 10))\n",
    "\n",
    "for ii, sstfiles in enumerate(sstfilelist):\n",
    "    logger.info(\"Working on file: {0}\".format(os.path.basename(sstfiles)))\n",
    "    \n",
    "    # Read data from file\n",
    "    lon, lat, sst, sstqual, year, day, platform = alborex_functions.load_sst_l2(sstfiles)\n",
    "    \n",
    "    # Create date from year and day\n",
    "    titledate = (datetime.datetime(int(year), 1, 1) + datetime.timedelta(int(day) - 1)).strftime('%Y-%m-%d')\n",
    "    figtitle = ' '.join(('MODIS', platform, '$-$', titledate))\n",
    "    \n",
    "    # Make the SST when flag > 1\n",
    "    sst = np.ma.masked_where(sstqual > 1, sst)\n",
    "\n",
    "    ax = plt.subplot(2,1,ii+1)\n",
    "    m.ax = ax\n",
    "    pcm = m.pcolormesh(lon, lat, sst, latlon=True, \n",
    "                       vmin=18., vmax=20.5, cmap=cmap)\n",
    "\n",
    "    # Add the coastline\n",
    "    for i in range(0, len(loncoast)):\n",
    "        m.plot(np.array(loncoast[i]), np.array(latcoast[i]), \n",
    "               color='k', linewidth=.25, latlon=True)\n",
    "\n",
    "    alborexdata.add_map_grid(m, coordinates, dlon=2., dlat=2.,\n",
    "                             fontname='Times New Roman', fontsize=14, \n",
    "                             linewidth=0.2, zorder=1, color=\".6\")\n",
    "\n",
    "    m.drawmapscale(-.75, 35.25, -1, 35.25, 75, fontsize=12)\n",
    "\n",
    "    m.plot(xrect, yrect, \":\", color='k', latlon=True)\n",
    "\n",
    "    xtext1, ytext1 = m(-3.2, 37.)\n",
    "    xfig1, yfig1 = m(coordinates2[0], coordinates2[2])\n",
    "\n",
    "    # Plot front\n",
    "    m.plot(f.lon, f.lat, \"k--\", linewidth=2, latlon=True)\n",
    "    ax.set_title(figtitle, fontsize=20)\n",
    "\n",
    "fig.subplots_adjust(right=0.95)\n",
    "cbar_ax = fig.add_axes([0.85, 0.15, 0.035, 0.7])\n",
    "cb = plt.colorbar(pcm, cax=cbar_ax, extend='both')\n",
    "cb.set_label('$^{\\circ}$C', rotation=0, ha='left', fontsize=16)\n",
    "cb.ax.tick_params(labelsize=14)\n",
    "\n",
    "# plt.show()\n",
    "plt.savefig(os.path.join(config[\"figdir\"], figname), dpi=300, bbox_inches='tight')\n",
    "plt.close()"
   ]
  },
  {
   "cell_type": "markdown",
   "metadata": {},
   "source": [
    "## Loop on the files"
   ]
  },
  {
   "cell_type": "code",
   "execution_count": 15,
   "metadata": {},
   "outputs": [
    {
     "name": "stderr",
     "output_type": "stream",
     "text": [
      "2018-07-30 10:07:59,791 - alborex_logger - INFO - Working on file: A2014145125000.L2_LAC_SST.nc\n",
      "2018-07-30 10:08:00,293 - alborex_logger - INFO - Making figure A2014145125000_L2_LAC_SST_cm.png\n",
      "2018-07-30 10:08:04,481 - alborex_logger - INFO - Working on file: A2014146023000.L2_LAC_SST4.nc\n",
      "2018-07-30 10:08:04,928 - alborex_logger - INFO - Making figure A2014146023000_L2_LAC_SST4_cm.png\n",
      "2018-07-30 10:08:08,735 - alborex_logger - INFO - Working on file: A2014147013500.L2_LAC_SST4.nc\n",
      "2018-07-30 10:08:09,137 - alborex_logger - INFO - Making figure A2014147013500_L2_LAC_SST4_cm.png\n",
      "2018-07-30 10:08:12,756 - alborex_logger - INFO - Working on file: A2014148132000.L2_LAC_SST.nc\n",
      "2018-07-30 10:08:13,172 - alborex_logger - INFO - Making figure A2014148132000_L2_LAC_SST_cm.png\n",
      "2018-07-30 10:08:18,754 - alborex_logger - INFO - Working on file: A2014149012000.L2_LAC_SST4.nc\n",
      "2018-07-30 10:08:19,226 - alborex_logger - INFO - Making figure A2014149012000_L2_LAC_SST4_cm.png\n",
      "2018-07-30 10:08:23,703 - alborex_logger - INFO - Working on file: A2014149122500.L2_LAC_SST.nc\n",
      "2018-07-30 10:08:24,116 - alborex_logger - INFO - Making figure A2014149122500_L2_LAC_SST_cm.png\n",
      "2018-07-30 10:08:27,975 - alborex_logger - INFO - Working on file: A2014150020500.L2_LAC_SST.nc\n",
      "2018-07-30 10:08:28,396 - alborex_logger - INFO - Making figure A2014150020500_L2_LAC_SST_cm.png\n",
      "2018-07-30 10:08:32,622 - alborex_logger - INFO - Working on file: A2014150020500.L2_LAC_SST4.nc\n",
      "2018-07-30 10:08:32,906 - alborex_logger - INFO - Making figure A2014150020500_L2_LAC_SST4_cm.png\n",
      "2018-07-30 10:08:36,894 - alborex_logger - INFO - Working on file: T2014145111000.L2_LAC_SST.nc\n",
      "2018-07-30 10:08:37,360 - alborex_logger - INFO - Making figure T2014145111000_L2_LAC_SST_cm.png\n",
      "2018-07-30 10:08:41,215 - alborex_logger - INFO - Working on file: T2014145221500.L2_LAC_SST4.nc\n",
      "2018-07-30 10:08:41,734 - alborex_logger - INFO - Making figure T2014145221500_L2_LAC_SST4_cm.png\n",
      "2018-07-30 10:08:45,844 - alborex_logger - INFO - Working on file: T2014146212000.L2_LAC_SST4.nc\n",
      "2018-07-30 10:08:46,258 - alborex_logger - INFO - Making figure T2014146212000_L2_LAC_SST4_cm.png\n",
      "2018-07-30 10:08:50,637 - alborex_logger - INFO - Working on file: T2014149215000.L2_LAC_SST.nc\n",
      "2018-07-30 10:08:51,090 - alborex_logger - INFO - Making figure T2014149215000_L2_LAC_SST_cm.png\n",
      "2018-07-30 10:08:55,240 - alborex_logger - INFO - Working on file: T2014149215000.L2_LAC_SST4.nc\n",
      "2018-07-30 10:08:55,661 - alborex_logger - INFO - Making figure T2014149215000_L2_LAC_SST4_cm.png\n",
      "2018-07-30 10:08:59,812 - alborex_logger - INFO - Working on file: T2014150113000.L2_LAC_SST.nc\n",
      "2018-07-30 10:09:00,331 - alborex_logger - INFO - Making figure T2014150113000_L2_LAC_SST_cm.png\n",
      "2018-07-30 10:09:04,373 - alborex_logger - INFO - Working on file: T2014150223500.L2_LAC_SST4.nc\n",
      "2018-07-30 10:09:04,863 - alborex_logger - INFO - Making figure T2014150223500_L2_LAC_SST4_cm.png\n"
     ]
    }
   ],
   "source": [
    "for sstfiles in sstfilelist:\n",
    "    logger.info(\"Working on file: {0}\".format(os.path.basename(sstfiles)))\n",
    "    \n",
    "    # Read data from file\n",
    "    lon, lat, sst, sstqual, year, day, platform = alborex_functions.load_sst_l2(sstfiles)\n",
    "    \n",
    "    # Create date from year and day\n",
    "    titledate = (datetime.datetime(int(year), 1, 1) + datetime.timedelta(int(day) - 1)).strftime('%Y-%m-%d')\n",
    "    figtitle = ' '.join(('MODIS', platform, '$-$', titledate))\n",
    "    # logger.debug(title)\n",
    "    \n",
    "    # Make the SST when flag > 1\n",
    "    sst = np.ma.masked_where(sstqual > 1, sst)\n",
    "\n",
    "    # Create figure name (remove .nc extension and substitute . by _)\n",
    "    figname = ''.join(('_'.join(os.path.basename(sstfiles).split('.')[:-1]), '_cm.png'))\n",
    "    logger.info(\"Making figure {0}\".format(figname))\n",
    "    \n",
    "    # Rectangle for the region of interest\n",
    "    xrect = (coordinates2[0], coordinates2[1], coordinates2[1], coordinates2[0], coordinates2[0])\n",
    "    yrect = (coordinates2[2], coordinates2[2], coordinates2[3], coordinates2[3], coordinates2[2])\n",
    "    \n",
    "    if makeFigs:\n",
    "        # Normal figures\n",
    "        fig = plt.figure(figsize=(10, 10))\n",
    "        ax = plt.subplot(111)\n",
    "        m.ax = ax\n",
    "        pcm = m.pcolormesh(lon, lat, sst, latlon=True, \n",
    "                           vmin=18., vmax=20.5, cmap=cmocean.cm.thermal)\n",
    "\n",
    "        # Add the contours\n",
    "        for i in range(0, len(loncoast)):\n",
    "            m.plot(np.array(loncoast[i]), np.array(latcoast[i]), \n",
    "                   color='k', linewidth=.25, latlon=True)\n",
    "\n",
    "        alborexdata.add_map_grid(m, coordinates, dlon=2., dlat=2.,\n",
    "                                 fontname='Times New Roman', fontsize=14, \n",
    "                                 linewidth=0.2, zorder=1, color=\".6\")\n",
    "\n",
    "        #m.fillcontinents(color='w', zorder=2)\n",
    "        #ax.set_xlim(coordinates[0], coordinates[1])\n",
    "        #ax.set_ylim(coordinates[2], coordinates[3])\n",
    "\n",
    "        cb = plt.colorbar(pcm, extend='both', shrink=0.6)\n",
    "        cb.set_label('$^{\\circ}$C', rotation=0, ha='left', fontsize=16)\n",
    "        m.drawmapscale(-.75, 35.25, -1, 35.25, 75, fontsize=12)\n",
    "        \n",
    "        m.plot(xrect, yrect, \":\", color='.25', latlon=True)\n",
    "\n",
    "        xtext1, ytext1 = m(-3.2, 37.)\n",
    "        xfig1, yfig1 = m(coordinates2[0], coordinates2[2])\n",
    "        \n",
    "        # Plot front\n",
    "        m.plot(f.lon, f.lat, \"k--\", linewidth=2, latlon=True)\n",
    "        \"\"\"\n",
    "        ax.annotate(\"Region of interest\", xy=(xfig1, yfig1), \n",
    "                    xytext=(xtext1, ytext1),\n",
    "                    xycoords='data', textcoords='data', fontsize=16,\n",
    "                    horizontalalignment=\"center\"\n",
    "                   )\n",
    "        \"\"\"\n",
    "        \n",
    "        plt.title(figtitle, fontsize=20)\n",
    "        plt.savefig(os.path.join(config[\"figdir\"], figname), dpi=300, bbox_inches='tight')\n",
    "        plt.close()\n",
    "        \n",
    "    if makeFigsLeaflet:\n",
    "    \n",
    "        # Figures without border and axes\n",
    "        llon, llat = m2(lon, lat)\n",
    "        fig = plt.figure(frameon=False)\n",
    "        ax = fig.add_axes([0, 0, 1, 1])\n",
    "        m2.pcolormesh(llon, llat, sst, vmin=17., vmax=20., cmap=cmap)\n",
    "        ax.axis('off')\n",
    "        #ax.set_xlim(lon.min(), lon.max())\n",
    "        #ax.set_ylim(lat.min(), lat.max())\n",
    "        f1 = plt.gca()\n",
    "        f1.axes.get_xaxis().set_ticks([])\n",
    "        f1.axes.get_yaxis().set_ticks([])\n",
    "        plt.savefig(os.path.join(config[\"figdirleaflet\"], figname), transparent=True, \n",
    "                    bbox_inches='tight', pad_inches=0)\n",
    "        plt.close()"
   ]
  },
  {
   "cell_type": "code",
   "execution_count": null,
   "metadata": {
    "collapsed": true
   },
   "outputs": [],
   "source": []
  }
 ],
 "metadata": {
  "@webio": {
   "lastCommId": "013A25EA7B4744779501AFB8FBF39968",
   "lastKernelId": "887a8619-bb82-486d-8665-bf1b5c07f3df"
  },
  "kernelspec": {
   "display_name": "Diva-python3.6",
   "language": "python",
   "name": "diva-python3.6"
  },
  "language_info": {
   "codemirror_mode": {
    "name": "ipython",
    "version": 3
   },
   "file_extension": ".py",
   "mimetype": "text/x-python",
   "name": "python",
   "nbconvert_exporter": "python",
   "pygments_lexer": "ipython3",
   "version": "3.6.0"
  }
 },
 "nbformat": 4,
 "nbformat_minor": 2
}
