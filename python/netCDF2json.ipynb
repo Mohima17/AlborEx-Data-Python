{
 "cells": [
  {
   "cell_type": "markdown",
   "metadata": {},
   "source": [
    "Convert AlborEx positions data to JSON file easily displayed by  [Leaflet](https://leafletjs.com/).    \n",
    "The functions defined is this notebook will be added as methods for the different classes of `alborexdata.py`.  "
   ]
  },
  {
   "cell_type": "code",
   "execution_count": 1,
   "metadata": {},
   "outputs": [
    {
     "name": "stderr",
     "output_type": "stream",
     "text": [
      "/home/ctroupin/Software/PythonEnvs/Diva-python3.6/lib/python3.6/site-packages/cmocean/tools.py:76: MatplotlibDeprecationWarning: The is_string_like function was deprecated in version 2.1.\n",
      "  if not mpl.cbook.is_string_like(rgbin[0]):\n"
     ]
    }
   ],
   "source": [
    "import alborexdata\n",
    "import os\n",
    "import geojson\n",
    "import numpy as np\n",
    "import netCDF4\n",
    "import datetime\n",
    "import json"
   ]
  },
  {
   "cell_type": "code",
   "execution_count": 6,
   "metadata": {},
   "outputs": [],
   "source": [
    "with open('alborexconfig.json') as json_data_file:\n",
    "    config = json.load(json_data_file)\n",
    "outputdir = config[\"datadirleaflet\"]"
   ]
  },
  {
   "cell_type": "markdown",
   "metadata": {},
   "source": [
    "# CTD"
   ]
  },
  {
   "cell_type": "code",
   "execution_count": 7,
   "metadata": {
    "collapsed": true
   },
   "outputs": [],
   "source": [
    "lonCTD1, latCTD1 = alborexdata.load_lonloat_ctdleg(config[\"datafiles\"][\"ctdlegs\"][0])\n",
    "lonCTD2, latCTD2 = alborexdata.load_lonloat_ctdleg(config[\"datafiles\"][\"ctdlegs\"][1])"
   ]
  },
  {
   "cell_type": "code",
   "execution_count": 8,
   "metadata": {
    "collapsed": true
   },
   "outputs": [],
   "source": [
    "CTDlist = [[lat, lon] for lat, lon in zip(latCTD1, lonCTD1)]"
   ]
  },
  {
   "cell_type": "code",
   "execution_count": 9,
   "metadata": {
    "collapsed": true
   },
   "outputs": [],
   "source": [
    "with open(os.path.join(outputdir, 'CTD1.js'), 'w') as f:\n",
    "    f.write(\"var CTD1list = \" + str(CTDlist))"
   ]
  },
  {
   "cell_type": "code",
   "execution_count": 10,
   "metadata": {
    "collapsed": true
   },
   "outputs": [],
   "source": [
    "CTDlist = [[lat, lon] for lat, lon in zip(latCTD2, lonCTD2)]"
   ]
  },
  {
   "cell_type": "code",
   "execution_count": 11,
   "metadata": {
    "collapsed": true
   },
   "outputs": [],
   "source": [
    "with open(os.path.join(outputdir, 'CTD2.js'), 'w') as f:\n",
    "    f.write(\"var CTD2list = \" + str(CTDlist))"
   ]
  },
  {
   "cell_type": "markdown",
   "metadata": {
    "collapsed": true
   },
   "source": [
    "# Glider"
   ]
  },
  {
   "cell_type": "code",
   "execution_count": 13,
   "metadata": {},
   "outputs": [
    {
     "data": {
      "text/plain": [
       "<module 'alborexdata' from '/home/ctroupin/Publis/AlborEx-Data-Python/python/alborexdata.py'>"
      ]
     },
     "execution_count": 13,
     "metadata": {},
     "output_type": "execute_result"
    }
   ],
   "source": [
    "reload(alborexdata)"
   ]
  },
  {
   "cell_type": "code",
   "execution_count": 15,
   "metadata": {
    "collapsed": true
   },
   "outputs": [],
   "source": [
    "glider1 = alborexdata.Glider() \n",
    "glider2 = alborexdata.Glider() "
   ]
  },
  {
   "cell_type": "code",
   "execution_count": 16,
   "metadata": {},
   "outputs": [
    {
     "ename": "OSError",
     "evalue": "NetCDF: I/O failure",
     "output_type": "error",
     "traceback": [
      "\u001b[0;31m---------------------------------------------------------------------------\u001b[0m",
      "\u001b[0;31mOSError\u001b[0m                                   Traceback (most recent call last)",
      "\u001b[0;32m<ipython-input-16-7431815b3e17>\u001b[0m in \u001b[0;36m<module>\u001b[0;34m()\u001b[0m\n\u001b[0;32m----> 1\u001b[0;31m \u001b[0mglider1\u001b[0m\u001b[0;34m.\u001b[0m\u001b[0mget_coords\u001b[0m\u001b[0;34m(\u001b[0m\u001b[0mconfig\u001b[0m\u001b[0;34m[\u001b[0m\u001b[0;34m\"datafiles\"\u001b[0m\u001b[0;34m]\u001b[0m\u001b[0;34m[\u001b[0m\u001b[0;34m\"gliders\"\u001b[0m\u001b[0;34m]\u001b[0m\u001b[0;34m[\u001b[0m\u001b[0;36m0\u001b[0m\u001b[0;34m]\u001b[0m\u001b[0;34m)\u001b[0m\u001b[0;34m\u001b[0m\u001b[0m\n\u001b[0m\u001b[1;32m      2\u001b[0m \u001b[0mglider2\u001b[0m\u001b[0;34m.\u001b[0m\u001b[0mget_coords\u001b[0m\u001b[0;34m(\u001b[0m\u001b[0mconfig\u001b[0m\u001b[0;34m[\u001b[0m\u001b[0;34m\"datafiles\"\u001b[0m\u001b[0;34m]\u001b[0m\u001b[0;34m[\u001b[0m\u001b[0;34m\"gliders\"\u001b[0m\u001b[0;34m]\u001b[0m\u001b[0;34m[\u001b[0m\u001b[0;36m1\u001b[0m\u001b[0;34m]\u001b[0m\u001b[0;34m)\u001b[0m\u001b[0;34m\u001b[0m\u001b[0m\n",
      "\u001b[0;32m~/Publis/AlborEx-Data-Python/python/alborexdata.py\u001b[0m in \u001b[0;36mget_coords\u001b[0;34m(self, datafile)\u001b[0m\n\u001b[1;32m    444\u001b[0m         \u001b[0;34m:\u001b[0m\u001b[0;32mreturn\u001b[0m\u001b[0;34m:\u001b[0m \u001b[0mtime\u001b[0m\u001b[0;34m:\u001b[0m \u001b[0mtime\u001b[0m\u001b[0;34m\u001b[0m\u001b[0m\n\u001b[1;32m    445\u001b[0m         \"\"\"\n\u001b[0;32m--> 446\u001b[0;31m         \u001b[0;32mwith\u001b[0m \u001b[0mnetCDF4\u001b[0m\u001b[0;34m.\u001b[0m\u001b[0mDataset\u001b[0m\u001b[0;34m(\u001b[0m\u001b[0mdatafile\u001b[0m\u001b[0;34m,\u001b[0m \u001b[0;34m'r'\u001b[0m\u001b[0;34m)\u001b[0m \u001b[0;32mas\u001b[0m \u001b[0mnc\u001b[0m\u001b[0;34m:\u001b[0m\u001b[0;34m\u001b[0m\u001b[0m\n\u001b[0m\u001b[1;32m    447\u001b[0m             \u001b[0mself\u001b[0m\u001b[0;34m.\u001b[0m\u001b[0mlon\u001b[0m \u001b[0;34m=\u001b[0m \u001b[0mnc\u001b[0m\u001b[0;34m.\u001b[0m\u001b[0mvariables\u001b[0m\u001b[0;34m[\u001b[0m\u001b[0;34m'longitude'\u001b[0m\u001b[0;34m]\u001b[0m\u001b[0;34m[\u001b[0m\u001b[0;34m:\u001b[0m\u001b[0;34m]\u001b[0m\u001b[0;34m\u001b[0m\u001b[0m\n\u001b[1;32m    448\u001b[0m             \u001b[0mself\u001b[0m\u001b[0;34m.\u001b[0m\u001b[0mlat\u001b[0m \u001b[0;34m=\u001b[0m \u001b[0mnc\u001b[0m\u001b[0;34m.\u001b[0m\u001b[0mvariables\u001b[0m\u001b[0;34m[\u001b[0m\u001b[0;34m'latitude'\u001b[0m\u001b[0;34m]\u001b[0m\u001b[0;34m[\u001b[0m\u001b[0;34m:\u001b[0m\u001b[0;34m]\u001b[0m\u001b[0;34m\u001b[0m\u001b[0m\n",
      "\u001b[0;32mnetCDF4/_netCDF4.pyx\u001b[0m in \u001b[0;36mnetCDF4._netCDF4.Dataset.__init__ (netCDF4/_netCDF4.c:13983)\u001b[0;34m()\u001b[0m\n",
      "\u001b[0;31mOSError\u001b[0m: NetCDF: I/O failure"
     ]
    }
   ],
   "source": [
    "glider1.get_coords(config[\"datafiles\"][\"gliders\"][0])\n",
    "glider2.get_coords(config[\"datafiles\"][\"gliders\"][1])"
   ]
  },
  {
   "cell_type": "code",
   "execution_count": 70,
   "metadata": {
    "collapsed": true
   },
   "outputs": [],
   "source": []
  },
  {
   "cell_type": "code",
   "execution_count": 77,
   "metadata": {
    "collapsed": true
   },
   "outputs": [],
   "source": [
    "makeGeoJson(lon1, lat1, os.path.join(outputdir, 'Glider1.js'), 'glider1', NN=100)"
   ]
  },
  {
   "cell_type": "code",
   "execution_count": 78,
   "metadata": {
    "collapsed": true
   },
   "outputs": [],
   "source": [
    "makeGeoJson(lon2, lat2, os.path.join(outputdir, 'Glider2.js'), 'glider2', NN=100)"
   ]
  },
  {
   "cell_type": "markdown",
   "metadata": {
    "collapsed": true
   },
   "source": [
    "# Drifters"
   ]
  },
  {
   "cell_type": "markdown",
   "metadata": {},
   "source": [
    "We've created a list of deployments (text file) using [get_deployments_alborex](get_deployments_alborex.ipynb)."
   ]
  },
  {
   "cell_type": "code",
   "execution_count": 6,
   "metadata": {
    "collapsed": true
   },
   "outputs": [],
   "source": [
    "drifterfilelist = './deploymentList.txt'"
   ]
  },
  {
   "cell_type": "markdown",
   "metadata": {},
   "source": [
    "Dates of interest for the extraction"
   ]
  },
  {
   "cell_type": "code",
   "execution_count": 56,
   "metadata": {
    "collapsed": true
   },
   "outputs": [],
   "source": [
    "dateinit = datetime.datetime(2014, 5, 25)\n",
    "dateend = datetime.datetime(2014, 6, 15)\n",
    "timeinit = (dateinit-datetime.datetime(1970,1,1)).total_seconds()\n",
    "timeend = (dateend-datetime.datetime(1970,1,1)).total_seconds()"
   ]
  },
  {
   "cell_type": "code",
   "execution_count": 66,
   "metadata": {
    "collapsed": true
   },
   "outputs": [],
   "source": [
    "lonall, latall = [], []\n",
    "with open(drifterfilelist, 'r') as f:\n",
    "    for drifterfile in f:\n",
    "        with netCDF4.Dataset(drifterfile) as nc:\n",
    "            time = nc.variables['time'][:]\n",
    "            timeunits = nc.variables['time'].units\n",
    "            goodtime = np.where(np.logical_and((time > timeinit),(time <= timeend)))[0]\n",
    "            \n",
    "            # Only take values in the considered period\n",
    "            lon = nc.variables['LON'][goodtime]\n",
    "            lat = nc.variables['LAT'][goodtime]\n",
    "            QClon = nc.variables['QC_LON'][goodtime]\n",
    "            QClat = nc.variables['QC_LAT'][goodtime]\n",
    "            # Only take good coordinates\n",
    "            goodcoords = np.where(np.logical_and((QClon==1),(QClat==1)))[0]\n",
    "            lon = lon[goodcoords]\n",
    "            lat = lat[goodcoords]\n",
    "            \n",
    "            lonall.append(lon.tolist())\n",
    "            latall.append(lat.tolist())\n",
    "            #print(lon.min(), lon.max(), lat.min(), lat.max())"
   ]
  },
  {
   "cell_type": "code",
   "execution_count": 67,
   "metadata": {
    "collapsed": true
   },
   "outputs": [],
   "source": [
    "# Create list of tuples\n",
    "DrifterList = [[(lon, lat) for lon, lat in zip(londep, latdep)] for londep, latdep in zip(lonall, latall)]"
   ]
  },
  {
   "cell_type": "code",
   "execution_count": 68,
   "metadata": {
    "collapsed": true
   },
   "outputs": [],
   "source": [
    "DrifterGeojson = geojson.MultiLineString(DrifterList)  "
   ]
  },
  {
   "cell_type": "code",
   "execution_count": 69,
   "metadata": {
    "collapsed": true
   },
   "outputs": [],
   "source": [
    "with open(os.path.join(outputdir, 'drifters.js'), 'w') as f:\n",
    "    f.write(\"var drifters = \")\n",
    "    geojson.dump(DrifterGeojson, f)"
   ]
  },
  {
   "cell_type": "markdown",
   "metadata": {},
   "source": [
    "# Profilers"
   ]
  },
  {
   "cell_type": "markdown",
   "metadata": {},
   "source": [
    "Same as drifters."
   ]
  },
  {
   "cell_type": "code",
   "execution_count": 77,
   "metadata": {
    "collapsed": true
   },
   "outputs": [],
   "source": [
    "profilerfilelist = './alborexProfilerList.txt'"
   ]
  },
  {
   "cell_type": "code",
   "execution_count": 99,
   "metadata": {
    "collapsed": true
   },
   "outputs": [],
   "source": [
    "lonall, latall = [], []\n",
    "with open(profilerfilelist, 'r') as f:\n",
    "    for profilerfile in f:\n",
    "        with netCDF4.Dataset(profilerfile) as nc:\n",
    "            time = nc.variables['time'][:]\n",
    "            timeunits = nc.variables['time'].units\n",
    "            goodtime = np.where(np.logical_and((time > timeinit),(time <= timeend)))[0]\n",
    "            \n",
    "            # Only take values in the considered period\n",
    "            lon = nc.variables['LON'][goodtime[1:]]\n",
    "            lat = nc.variables['LAT'][goodtime[1:]]\n",
    "            \"\"\"\n",
    "            QClon = nc.variables['QC_LON'][goodtime]\n",
    "            QClat = nc.variables['QC_LAT'][goodtime]\n",
    "            # Only take good coordinates\n",
    "            goodcoords = np.where(np.logical_and((QClon==1),(QClat==1)))[0]\n",
    "            lon = lon[goodcoords]\n",
    "            lat = lat[goodcoords]\n",
    "            \"\"\"\n",
    "            lonall.append(lon.tolist())\n",
    "            latall.append(lat.tolist())\n",
    "            #print(lon.min(), lon.max(), lat.min(), lat.max())"
   ]
  },
  {
   "cell_type": "code",
   "execution_count": 100,
   "metadata": {
    "collapsed": true
   },
   "outputs": [],
   "source": [
    "# Create list of tuples\n",
    "ProfilerList = [[(lon, lat) for lon, lat in zip(londep, latdep)] for londep, latdep in zip(lonall, latall)]\n",
    "ProfilerGeojson = geojson.MultiLineString(ProfilerList)  \n",
    "with open(os.path.join(outputdir, 'profilers.js'), 'w') as f:\n",
    "    f.write(\"var profilers = \")\n",
    "    geojson.dump(ProfilerGeojson, f)"
   ]
  }
 ],
 "metadata": {
  "@webio": {
   "lastCommId": "401AE18CC8954458B9D6F52C227A9F8A",
   "lastKernelId": "036c58e1-1162-4a5d-9725-b93e415cee64"
  },
  "kernelspec": {
   "display_name": "Diva-python3.6",
   "language": "python",
   "name": "diva-python3.6"
  },
  "language_info": {
   "codemirror_mode": {
    "name": "ipython",
    "version": 3
   },
   "file_extension": ".py",
   "mimetype": "text/x-python",
   "name": "python",
   "nbconvert_exporter": "python",
   "pygments_lexer": "ipython3",
   "version": "3.6.0"
  }
 },
 "nbformat": 4,
 "nbformat_minor": 2
}
