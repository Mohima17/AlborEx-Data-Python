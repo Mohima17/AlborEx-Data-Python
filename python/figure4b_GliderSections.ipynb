{
 "cells": [
  {
   "cell_type": "code",
   "execution_count": 1,
   "metadata": {
    "collapsed": true
   },
   "outputs": [],
   "source": [
    "import alborex_functions\n",
    "import alborexdata\n",
    "import netCDF4\n",
    "import glob\n",
    "import os\n",
    "import json\n",
    "import matplotlib.pyplot as plt\n",
    "from mpl_toolkits.basemap import Basemap \n",
    "from mpl_toolkits.mplot3d import Axes3D\n",
    "from matplotlib import colors\n",
    "import cmocean\n",
    "import numpy as np\n",
    "import datetime\n",
    "from importlib import reload"
   ]
  },
  {
   "cell_type": "code",
   "execution_count": 2,
   "metadata": {},
   "outputs": [
    {
     "data": {
      "text/plain": [
       "<module 'alborexdata' from '/home/ctroupin/Publis/201703_AlborexData/python/alborexdata.py'>"
      ]
     },
     "execution_count": 2,
     "metadata": {},
     "output_type": "execute_result"
    }
   ],
   "source": [
    "reload(alborexdata)"
   ]
  },
  {
   "cell_type": "code",
   "execution_count": 3,
   "metadata": {
    "collapsed": true
   },
   "outputs": [],
   "source": [
    "import warnings\n",
    "import matplotlib.cbook\n",
    "warnings.filterwarnings(\"ignore\",category=matplotlib.cbook.mplDeprecation)"
   ]
  },
  {
   "cell_type": "markdown",
   "metadata": {
    "collapsed": true
   },
   "source": [
    "# Configuration"
   ]
  },
  {
   "cell_type": "code",
   "execution_count": 4,
   "metadata": {
    "collapsed": true
   },
   "outputs": [],
   "source": [
    "with open('alborexconfig.json') as json_data_file:\n",
    "    config = json.load(json_data_file)"
   ]
  },
  {
   "cell_type": "markdown",
   "metadata": {},
   "source": [
    "Create a logger"
   ]
  },
  {
   "cell_type": "code",
   "execution_count": 5,
   "metadata": {
    "collapsed": true
   },
   "outputs": [],
   "source": [
    "logger = alborexdata.configure_logging(\"./logs/alborexFigure4.log\")"
   ]
  },
  {
   "cell_type": "markdown",
   "metadata": {},
   "source": [
    "Domain"
   ]
  },
  {
   "cell_type": "code",
   "execution_count": 6,
   "metadata": {
    "collapsed": true
   },
   "outputs": [],
   "source": [
    "coordinates = config[\"domain\"][\"coordinates1\"]\n",
    "coordinates2 = config[\"domain\"][\"coordinates2\"]"
   ]
  },
  {
   "cell_type": "markdown",
   "metadata": {},
   "source": [
    "Create a list of netCDF files containing SST"
   ]
  },
  {
   "cell_type": "code",
   "execution_count": 7,
   "metadata": {
    "collapsed": true
   },
   "outputs": [],
   "source": [
    "figdir = config[\"figdir\"]\n",
    "sstdir = config[\"datadirs\"][\"sst\"]\n",
    "coastfile = config[\"datafiles\"][\"coast\"]"
   ]
  },
  {
   "cell_type": "markdown",
   "metadata": {},
   "source": [
    "# Data reading and plotting\n",
    "\n",
    "Make figure directory if necessary."
   ]
  },
  {
   "cell_type": "code",
   "execution_count": 8,
   "metadata": {},
   "outputs": [
    {
     "name": "stderr",
     "output_type": "stream",
     "text": [
      "2018-07-31 08:01:42,698 - alborex_logger - DEBUG - Figure directory /home/ctroupin/Publis/201703_AlborexData/figures already exists\n"
     ]
    }
   ],
   "source": [
    "if os.path.isdir(figdir):\n",
    "    logger.debug(\"Figure directory {0} already exists\".format(figdir))\n",
    "else:\n",
    "    os.makedirs(figdir)\n",
    "    logger.debug(\"Creating figure directory {0}\".format(figdir))"
   ]
  },
  {
   "cell_type": "markdown",
   "metadata": {},
   "source": [
    "## Load data\n",
    "### Coastline"
   ]
  },
  {
   "cell_type": "code",
   "execution_count": 9,
   "metadata": {
    "collapsed": true
   },
   "outputs": [],
   "source": [
    "loncoast, latcoast = alborexdata.read_lonlat_coast(coastfile)"
   ]
  },
  {
   "cell_type": "markdown",
   "metadata": {},
   "source": [
    "### Front position"
   ]
  },
  {
   "cell_type": "code",
   "execution_count": 10,
   "metadata": {
    "collapsed": true
   },
   "outputs": [],
   "source": [
    "frontcoords = \"../data/front_coordinates.dat\"\n",
    "f = alborexdata.Front()\n",
    "f.get_from_file(frontcoords)\n",
    "f.smooth()"
   ]
  },
  {
   "cell_type": "markdown",
   "metadata": {},
   "source": [
    "### Gliders"
   ]
  },
  {
   "cell_type": "code",
   "execution_count": 11,
   "metadata": {
    "collapsed": true
   },
   "outputs": [],
   "source": [
    "glider1 = alborexdata.Glider()\n",
    "glider1.get_from_netcdf(config[\"datafiles\"][\"gliders\"][0])"
   ]
  },
  {
   "cell_type": "code",
   "execution_count": 12,
   "metadata": {
    "collapsed": true
   },
   "outputs": [],
   "source": [
    "glider2 = alborexdata.Glider()\n",
    "glider2.get_from_netcdf(config[\"datafiles\"][\"gliders\"][1])"
   ]
  },
  {
   "cell_type": "markdown",
   "metadata": {},
   "source": [
    "### Apply some quality control"
   ]
  },
  {
   "cell_type": "code",
   "execution_count": 13,
   "metadata": {
    "collapsed": true
   },
   "outputs": [],
   "source": [
    "glider1.temperature = np.ma.masked_outside(glider1.temperature, 13., 20., copy=True)\n",
    "glider2.temperature = np.ma.masked_outside(glider2.temperature, 13., 20., copy=True)"
   ]
  },
  {
   "cell_type": "markdown",
   "metadata": {},
   "source": [
    "## Plot options\n",
    "### Colorbar limits"
   ]
  },
  {
   "cell_type": "code",
   "execution_count": 14,
   "metadata": {
    "collapsed": true
   },
   "outputs": [],
   "source": [
    "Tmin, Tmax = 13., 20.\n",
    "boundsT = np.arange(Tmin, Tmax, 1.)\n",
    "normT = colors.Normalize(vmin=Tmin, vmax=Tmax)\n",
    "\n",
    "Smin, Smax = 36.5, 38.5\n",
    "boundsS = np.arange(Smin, Smax, 0.25)\n",
    "normS = colors.Normalize(vmin=Smin, vmax=Smax)\n",
    "\n",
    "chloroCTDmin,chloroCTDmax = 0.01,1.5\n",
    "normchloro = colors.LogNorm(vmin=chloroCTDmin,vmax=chloroCTDmax)\n",
    "cmapCTDchloro = plt.cm.YlGnBu_r"
   ]
  },
  {
   "cell_type": "markdown",
   "metadata": {},
   "source": [
    "### Depths and angles"
   ]
  },
  {
   "cell_type": "code",
   "execution_count": 15,
   "metadata": {
    "collapsed": true
   },
   "outputs": [],
   "source": [
    "depths = np.array((-600, 0, 100))\n",
    "angles = np.array((40, -20))"
   ]
  },
  {
   "cell_type": "markdown",
   "metadata": {},
   "source": [
    "## Make the plot"
   ]
  },
  {
   "cell_type": "code",
   "execution_count": 16,
   "metadata": {
    "collapsed": true
   },
   "outputs": [],
   "source": [
    "# Coordinates of the front in the region of interest\n",
    "goodcoords = np.where( (f.lon >= coordinates2[0]) & (f.lon <= coordinates2[1]))[0]"
   ]
  },
  {
   "cell_type": "code",
   "execution_count": 17,
   "metadata": {},
   "outputs": [
    {
     "name": "stderr",
     "output_type": "stream",
     "text": [
      "2018-07-31 08:02:17,865 - alborex_logger - INFO - Making figure fig06b\n"
     ]
    },
    {
     "data": {
      "image/png": "[encoded data removed]",
      "text/plain": [
       "<matplotlib.figure.Figure at 0x7f2636a62ef0>"
      ]
     },
     "metadata": {},
     "output_type": "display_data"
    }
   ],
   "source": [
    "NN = 1\n",
    "figname = \"fig06b\"\n",
    "figtitle = \"Glider temperature\"\n",
    "logger.info(\"Making figure {0}\".format(figname))\n",
    "\n",
    "fig, ax1, ax2, cbar_ax = alborexdata.prepare_3D_scat()\n",
    "\n",
    "# Change wall properties\n",
    "alborexdata.change_wall_prop(ax1, coordinates2, np.array((-200, 0., 50)), angles)\n",
    "alborexdata.change_wall_prop(ax2, coordinates2, np.array((-500, 0., 100)), angles)\n",
    "\n",
    "# Plot the glider profiles\n",
    "scat3Dg1 = ax1.scatter(glider1.lon[::NN], glider1.lat[::NN], -glider1.depth[::NN],\n",
    "                      s=3, c=glider1.temperature[::NN], edgecolor=None,\n",
    "                      cmap=cmocean.cm.thermal, zorder=4)\n",
    "\n",
    "scat3Dg2 = ax2.scatter(glider2.lon[::NN], glider2.lat[::NN], -glider2.depth[::NN],\n",
    "                      s=3, c=glider2.temperature[::NN], edgecolor=None,\n",
    "                      cmap=cmocean.cm.thermal, zorder=4)\n",
    "\n",
    "# Plot the glider tracks\n",
    "ax1.plot3D(glider1.lon, glider1.lat ,0 , '--', color=\"0.25\")\n",
    "ax2.plot3D(glider2.lon, glider2.lat ,0 , '--', color=\"0.25\")\n",
    "\n",
    "# Plot the front\n",
    "ax1.plot3D(f.lon[goodcoords], f.lat[goodcoords], 0.0, \"--\", \n",
    "           color=\".5\", linewidth=2, alpha=.9)\n",
    "ax2.plot3D(f.lon[goodcoords], f.lat[goodcoords], 0.0, \"--\", \n",
    "           color=\".5\", linewidth=2, alpha=.9)\n",
    "\n",
    "### Add the colorbar\n",
    "cbar = fig.colorbar(scat3Dg1, cax=cbar_ax, orientation='vertical', \n",
    "                    norm=normT, extend='both')\n",
    "\n",
    "cbar.set_label('T ($^{\\circ}$C)', rotation=0, ha=\"left\", fontsize=16)\n",
    "cbar.set_clim(Tmin, Tmax)\n",
    "cbar.set_ticks(boundsT)\n",
    "cbar.ax.set_xticklabels(boundsT, fontsize=16)\n",
    "\n",
    "plt.savefig(os.path.join(figdir, figname), dpi=300, facecolor='w', \n",
    "            edgecolor='w',transparent=False, \n",
    "            bbox_inches='tight', pad_inches=0.)\n",
    "        \n",
    "plt.show()\n",
    "plt.close()"
   ]
  },
  {
   "cell_type": "code",
   "execution_count": 18,
   "metadata": {},
   "outputs": [
    {
     "name": "stderr",
     "output_type": "stream",
     "text": [
      "2018-07-31 08:15:38,123 - alborex_logger - INFO - Making figure fig06c\n"
     ]
    }
   ],
   "source": [
    "NN = 1\n",
    "figname = \"fig06c\"\n",
    "figtitle = \"Glider salinity\"\n",
    "logger.info(\"Making figure {0}\".format(figname))\n",
    "\n",
    "fig, ax1, ax2, cbar_ax = alborexdata.prepare_3D_scat()\n",
    "\n",
    "# Change wall properties\n",
    "alborexdata.change_wall_prop(ax1, coordinates2, np.array((-200, 0., 50)), angles)\n",
    "alborexdata.change_wall_prop(ax2, coordinates2, np.array((-500, 0., 100)), angles)\n",
    "\n",
    "# Plot the glider profiles\n",
    "scat3Dg1 = ax1.scatter(glider1.lon[::NN], glider1.lat[::NN], -glider1.depth[::NN],\n",
    "                      s=3, c=glider1.salinity[::NN], edgecolor=None,\n",
    "                      cmap=cmocean.cm.haline, zorder=4)\n",
    "\n",
    "scat3Dg2 = ax2.scatter(glider2.lon[::NN], glider2.lat[::NN], -glider2.depth[::NN],\n",
    "                      s=3, c=glider2.salinity[::NN], edgecolor=None,\n",
    "                      cmap=cmocean.cm.haline, zorder=4)\n",
    "\n",
    "# Plot the glider tracks\n",
    "ax1.plot3D(glider1.lon, glider1.lat, 0. , '--', color=\"0.25\")\n",
    "ax2.plot3D(glider2.lon, glider2.lat, 0. , '--', color=\"0.25\")\n",
    "\n",
    "# Plot the front :)\n",
    "ax1.plot3D(f.lon[goodcoords], f.lat[goodcoords], 0.0, \"--\", \n",
    "           color=\".5\", linewidth=2, alpha=.9)\n",
    "ax2.plot3D(f.lon[goodcoords], f.lat[goodcoords], 0.0, \"--\", \n",
    "           color=\".5\", linewidth=2, alpha=.9)\n",
    "\n",
    "### Add the colorbar\n",
    "cbar = fig.colorbar(scat3Dg1, cax=cbar_ax, orientation='vertical', \n",
    "                    norm=normS, extend='both')\n",
    "\n",
    "cbar.set_label('S', rotation=0, ha=\"left\", fontsize=16)\n",
    "cbar.set_clim(Smin, Smax)\n",
    "cbar.set_ticks(boundsS)\n",
    "cbar.ax.set_xticklabels(boundsS, fontsize=16)\n",
    "\n",
    "plt.savefig(os.path.join(figdir, figname), dpi=300, facecolor='w', \n",
    "            edgecolor='w',transparent=False, \n",
    "            bbox_inches='tight', pad_inches=0.)\n",
    "        \n",
    "# plt.show()\n",
    "plt.close()"
   ]
  },
  {
   "cell_type": "markdown",
   "metadata": {},
   "source": [
    "## Some diagnostics (mean resolution, number of profiles etc)"
   ]
  },
  {
   "cell_type": "code",
   "execution_count": 34,
   "metadata": {},
   "outputs": [
    {
     "data": {
      "image/png": "[encoded data removed]",
      "text/plain": [
       "<matplotlib.figure.Figure at 0x7f24e8b6fc88>"
      ]
     },
     "metadata": {},
     "output_type": "display_data"
    }
   ],
   "source": [
    "plt.plot(abs(glider1.depth[1:] - glider1.depth[:-1]), zorder=2)\n",
    "plt.hlines(np.mean(abs(glider1.depth[1:] - glider1.depth[:-1])), 0, len(glider1.depth),\n",
    "           color='k', zorder=3)\n",
    "plt.hlines(np.median(abs(glider1.depth[1:] - glider1.depth[:-1])), 0, len(glider1.depth),\n",
    "           color='k', linestyle=\"--\", zorder=3)\n",
    "plt.show()\n",
    "plt.close()"
   ]
  },
  {
   "cell_type": "code",
   "execution_count": 36,
   "metadata": {},
   "outputs": [
    {
     "data": {
      "text/plain": [
       "0.16849587419667525"
      ]
     },
     "execution_count": 36,
     "metadata": {},
     "output_type": "execute_result"
    }
   ],
   "source": [
    "np.mean(abs(glider1.depth[1:] - glider1.depth[:-1]))"
   ]
  },
  {
   "cell_type": "code",
   "execution_count": 41,
   "metadata": {},
   "outputs": [
    {
     "data": {
      "text/plain": [
       "0.16018559029585439"
      ]
     },
     "execution_count": 41,
     "metadata": {},
     "output_type": "execute_result"
    }
   ],
   "source": [
    "np.mean(abs(glider2.depth[1:] - glider2.depth[:-1]))"
   ]
  },
  {
   "cell_type": "code",
   "execution_count": 37,
   "metadata": {},
   "outputs": [
    {
     "data": {
      "text/plain": [
       "0.16424501147875503"
      ]
     },
     "execution_count": 37,
     "metadata": {},
     "output_type": "execute_result"
    }
   ],
   "source": [
    "np.median(abs(glider1.depth[1:] - glider1.depth[:-1]))"
   ]
  },
  {
   "cell_type": "code",
   "execution_count": 38,
   "metadata": {},
   "outputs": [
    {
     "data": {
      "text/plain": [
       "121513"
      ]
     },
     "execution_count": 38,
     "metadata": {},
     "output_type": "execute_result"
    }
   ],
   "source": [
    "len(glider1.temperature.compressed())"
   ]
  },
  {
   "cell_type": "code",
   "execution_count": 39,
   "metadata": {},
   "outputs": [
    {
     "data": {
      "text/plain": [
       "226717"
      ]
     },
     "execution_count": 39,
     "metadata": {},
     "output_type": "execute_result"
    }
   ],
   "source": [
    "len(glider2.temperature.compressed())"
   ]
  }
 ],
 "metadata": {
  "kernelspec": {
   "display_name": "Diva-python3.6",
   "language": "python",
   "name": "diva-python3.6"
  },
  "language_info": {
   "codemirror_mode": {
    "name": "ipython",
    "version": 3
   },
   "file_extension": ".py",
   "mimetype": "text/x-python",
   "name": "python",
   "nbconvert_exporter": "python",
   "pygments_lexer": "ipython3",
   "version": "3.6.0"
  }
 },
 "nbformat": 4,
 "nbformat_minor": 2
}
