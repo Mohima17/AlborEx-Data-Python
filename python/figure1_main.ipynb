{
 "cells": [
  {
   "cell_type": "markdown",
   "metadata": {},
   "source": [
    "Main figure of the Alborex Data paper in ESSD journal:         \n",
    "positions of all the deployments (to keep it simple and clear)."
   ]
  },
  {
   "cell_type": "code",
   "execution_count": 38,
   "metadata": {},
   "outputs": [],
   "source": [
    "import os\n",
    "import glob\n",
    "import json\n",
    "import logging\n",
    "import cmocean\n",
    "import netCDF4\n",
    "import numpy as np\n",
    "import matplotlib.pyplot as plt\n",
    "from mpl_toolkits.basemap import Basemap\n",
    "from matplotlib import colors\n",
    "import datetime, time, calendar\n",
    "import matplotlib.text as text\n",
    "from matplotlib.path import Path\n",
    "import matplotlib.patches as patches\n",
    "from mpl_toolkits.axes_grid1.inset_locator import zoomed_inset_axes\n",
    "from mpl_toolkits.axes_grid1.inset_locator import mark_inset\n",
    "import alborexdata\n",
    "from importlib import reload"
   ]
  },
  {
   "cell_type": "code",
   "execution_count": 39,
   "metadata": {},
   "outputs": [
    {
     "data": {
      "text/plain": [
       "<module 'alborexdata' from '/home/ctroupin/Publis/201703_AlborexData/python/alborexdata.py'>"
      ]
     },
     "execution_count": 39,
     "metadata": {},
     "output_type": "execute_result"
    }
   ],
   "source": [
    "reload(alborexdata)"
   ]
  },
  {
   "cell_type": "markdown",
   "metadata": {},
   "source": [
    "# Configuration\n",
    "Most of the configuration (file paths, domain, resolution, ...) is done in the json file [`alborexconfig.json`](./alborexconfig.json)."
   ]
  },
  {
   "cell_type": "code",
   "execution_count": 40,
   "metadata": {
    "collapsed": true
   },
   "outputs": [],
   "source": [
    "with open('alborexconfig.json') as json_data_file:\n",
    "    config = json.load(json_data_file)"
   ]
  },
  {
   "cell_type": "markdown",
   "metadata": {},
   "source": [
    "## Logger"
   ]
  },
  {
   "cell_type": "code",
   "execution_count": 41,
   "metadata": {
    "collapsed": true
   },
   "outputs": [],
   "source": [
    "logger = alborexdata.configure_logging(\"./logs/alborexFigure1.log\")"
   ]
  },
  {
   "cell_type": "markdown",
   "metadata": {},
   "source": [
    "### Figures"
   ]
  },
  {
   "cell_type": "code",
   "execution_count": 109,
   "metadata": {
    "collapsed": true
   },
   "outputs": [],
   "source": [
    "figdir = config[\"figdir\"]\n",
    "figname = os.path.join(figdir, 'fig01')\n",
    "figname0 = os.path.join(figdir, 'fig00')"
   ]
  },
  {
   "cell_type": "markdown",
   "metadata": {},
   "source": [
    "## Time interval for the drifters"
   ]
  },
  {
   "cell_type": "code",
   "execution_count": 43,
   "metadata": {
    "collapsed": true
   },
   "outputs": [],
   "source": [
    "drifterstart = datetime.datetime(2014, 5, 25, 0, 0, 0)\n",
    "drifterend = datetime.datetime(2014, 6, 15, 0, 0, 0)"
   ]
  },
  {
   "cell_type": "markdown",
   "metadata": {},
   "source": [
    "## Domain"
   ]
  },
  {
   "cell_type": "code",
   "execution_count": 44,
   "metadata": {
    "collapsed": true
   },
   "outputs": [],
   "source": [
    "coordinates = config[\"domain\"][\"coordinates1\"]\n",
    "coordinates2 = config[\"domain\"][\"coordinates2\"]\n",
    "dlon, dlat = config[\"domain\"][\"coordinates1\"][0], config[\"domain\"][\"coordinates1\"][1]"
   ]
  },
  {
   "cell_type": "markdown",
   "metadata": {},
   "source": [
    "# Load data\n",
    "## Coast"
   ]
  },
  {
   "cell_type": "code",
   "execution_count": 45,
   "metadata": {
    "collapsed": true
   },
   "outputs": [],
   "source": [
    "loncoast, latcoast = alborexdata.read_lonlat_coast(config[\"datafiles\"][\"coast\"])"
   ]
  },
  {
   "cell_type": "markdown",
   "metadata": {},
   "source": [
    "## Ship"
   ]
  },
  {
   "cell_type": "code",
   "execution_count": 46,
   "metadata": {},
   "outputs": [],
   "source": [
    "rv = alborexdata.Ship()\n",
    "rv.get_from_netcdf(config[\"datafiles\"][\"rv\"])\n",
    "rv.apply_qc()"
   ]
  },
  {
   "cell_type": "markdown",
   "metadata": {},
   "source": [
    "## CTD"
   ]
  },
  {
   "cell_type": "code",
   "execution_count": 47,
   "metadata": {},
   "outputs": [],
   "source": [
    "ctd = alborexdata.CTD()\n",
    "ctd.get_from_netcdf(config[\"datafiles\"][\"ctd\"])\n",
    "lonCTD1, latCTD1 = alborexdata.load_lonloat_ctdleg(config[\"datafiles\"][\"ctdlegs\"][0])"
   ]
  },
  {
   "cell_type": "markdown",
   "metadata": {},
   "source": [
    "## Gliders"
   ]
  },
  {
   "cell_type": "code",
   "execution_count": 48,
   "metadata": {
    "collapsed": true
   },
   "outputs": [],
   "source": [
    "glider1 = alborexdata.Glider()\n",
    "glider1.get_from_netcdf(config[\"datafiles\"][\"gliders\"][0])\n",
    "glider2 = alborexdata.Glider()\n",
    "glider2.get_from_netcdf(config[\"datafiles\"][\"gliders\"][1])"
   ]
  },
  {
   "cell_type": "markdown",
   "metadata": {},
   "source": [
    "## Drifters"
   ]
  },
  {
   "cell_type": "code",
   "execution_count": 49,
   "metadata": {},
   "outputs": [],
   "source": [
    "drifterdir = sorted(config[\"datafiles\"][\"drifters\"])"
   ]
  },
  {
   "cell_type": "markdown",
   "metadata": {},
   "source": [
    "## Profilers"
   ]
  },
  {
   "cell_type": "code",
   "execution_count": 91,
   "metadata": {
    "collapsed": true
   },
   "outputs": [],
   "source": [
    "profiler1 = alborexdata.Profiler()\n",
    "profiler2 = alborexdata.Profiler()\n",
    "profiler3 = alborexdata.Profiler()\n",
    "profiler1.get_from_netcdf(config[\"datafiles\"][\"profilers\"][0])\n",
    "profiler2.get_from_netcdf(config[\"datafiles\"][\"profilers\"][1])\n",
    "profiler3.get_from_netcdf(config[\"datafiles\"][\"profilers\"][2])"
   ]
  },
  {
   "cell_type": "code",
   "execution_count": 101,
   "metadata": {},
   "outputs": [],
   "source": [
    "# Modity the year (error in L1 data for ArvorC, waiting for a correction)\n",
    "for i in range(0, len(profiler3.dates)):\n",
    "    profiler3.dates[i] = profiler3.dates[i].replace(year=2014)"
   ]
  },
  {
   "cell_type": "code",
   "execution_count": 102,
   "metadata": {},
   "outputs": [],
   "source": [
    "profiler1.select_dates(initialdate=datetime.datetime(2014, 5, 30, 8, 0),\n",
    "                       finaldate=drifterend)\n",
    "profiler2.select_dates(initialdate=drifterstart,\n",
    "                       finaldate=drifterend)\n",
    "profiler3.select_dates(initialdate=drifterstart,\n",
    "                       finaldate=drifterend)"
   ]
  },
  {
   "cell_type": "code",
   "execution_count": 84,
   "metadata": {},
   "outputs": [
    {
     "data": {
      "text/plain": [
       "'seconds since 1970-01-01 00:00:00'"
      ]
     },
     "execution_count": 84,
     "metadata": {},
     "output_type": "execute_result"
    }
   ],
   "source": [
    "with netCDF4.Dataset(config[\"datafiles\"][\"profilers\"][2], \"r\") as nc:\n",
    "    ttime = nc.get_variables_by_attributes(standard_name='time')[0][:]\n",
    "    timeunits = nc.get_variables_by_attributes(standard_name='time')[0].units\n",
    "ddates = netCDF4.num2date(ttime, timeunits)\n",
    "timeunits"
   ]
  },
  {
   "cell_type": "markdown",
   "metadata": {},
   "source": [
    "## SST\n",
    "The files could not be added to the GitHub repos, but can be downloaded from [OceanColor](http://oceancolor.gsfc.nasa.gov/) website.      The URLs can be changed in the [configuration file](alborexconfig.json) if necessary."
   ]
  },
  {
   "cell_type": "code",
   "execution_count": 55,
   "metadata": {},
   "outputs": [
    {
     "name": "stderr",
     "output_type": "stream",
     "text": [
      "2019-01-09 21:30:22,565 - alborex_logger - INFO - SST file A2014145125000.L2_LAC_SST.nc already downloaded\n",
      "2019-01-09 21:30:22,565 - alborex_logger - INFO - SST file A2014145125000.L2_LAC_SST.nc already downloaded\n",
      "2019-01-09 21:30:22,568 - alborex_logger - INFO - SST file A2014150020500.L2_LAC_SST.nc already downloaded\n",
      "2019-01-09 21:30:22,568 - alborex_logger - INFO - SST file A2014150020500.L2_LAC_SST.nc already downloaded\n"
     ]
    }
   ],
   "source": [
    "sstfilelist = config[\"datafiles\"][\"sst\"]\n",
    "sstfilelistremote = config[\"datafiles\"][\"sstremote\"]\n",
    "for sstfile, sstremote in zip(sstfilelist, sstfilelistremote):\n",
    "    if not(os.path.exists(sstfile)):\n",
    "        logger.info(\"Downloading data file {}\".format(os.path.basename(sstfile)))\n",
    "        urllib.request.urlretrieve(sstremote, sstfile)\n",
    "    else:\n",
    "        logger.info(\"SST file {} already downloaded\".format(os.path.basename(sstfile)))\n",
    "lonsst, latsst, sst, sstqual, year, day, platform = alborexdata.load_sst_l2(sstfilelist[0])\n",
    "# Make the SST when flag > 1\n",
    "sst = np.ma.masked_where(sstqual > 1, sst)"
   ]
  },
  {
   "cell_type": "markdown",
   "metadata": {},
   "source": [
    "## Front position"
   ]
  },
  {
   "cell_type": "code",
   "execution_count": 52,
   "metadata": {
    "collapsed": true
   },
   "outputs": [],
   "source": [
    "frontcoords = config[\"datafiles\"][\"front\"]\n",
    "f = alborexdata.Front()\n",
    "f.get_from_file(frontcoords)\n",
    "f.smooth()"
   ]
  },
  {
   "cell_type": "markdown",
   "metadata": {},
   "source": [
    "# Create the figure"
   ]
  },
  {
   "cell_type": "code",
   "execution_count": 112,
   "metadata": {},
   "outputs": [],
   "source": [
    "m = Basemap(projection=\"merc\",\n",
    "            llcrnrlon=coordinates[0], llcrnrlat=coordinates[2],\n",
    "            urcrnrlon=coordinates[1], urcrnrlat=coordinates[3],\n",
    "            lat_ts=0.5 * (coordinates[2] + coordinates[3]), resolution=\"h\")"
   ]
  },
  {
   "cell_type": "code",
   "execution_count": null,
   "metadata": {
    "collapsed": true
   },
   "outputs": [],
   "source": []
  }
 ],
 "metadata": {
  "@webio": {
   "lastCommId": "D0BE5B36FB8149B387C5223B4A2A8F6C",
   "lastKernelId": "22c95b3b-e679-408f-a3cb-0c12d875b65e"
  },
  "kernelspec": {
   "display_name": "Diva-python3.6",
   "language": "python",
   "name": "diva-python3.6"
  },
  "language_info": {
   "codemirror_mode": {
    "name": "ipython",
    "version": 3
   },
   "file_extension": ".py",
   "mimetype": "text/x-python",
   "name": "python",
   "nbconvert_exporter": "python",
   "pygments_lexer": "ipython3",
   "version": "3.6.0"
  }
 },
 "nbformat": 4,
 "nbformat_minor": 2
}
