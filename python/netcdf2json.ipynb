{
 "cells": [
  {
   "cell_type": "markdown",
   "metadata": {},
   "source": [
    "Convert AlborEx positions data to JSON."
   ]
  },
  {
   "cell_type": "code",
   "execution_count": 25,
   "metadata": {},
   "outputs": [],
   "source": [
    "import alborex_functions\n",
    "import alborexdata\n",
    "import os\n",
    "import geojson\n",
    "import numpy as np\n",
    "import netCDF4\n",
    "import datetime"
   ]
  },
  {
   "cell_type": "code",
   "execution_count": 3,
   "metadata": {
    "collapsed": true
   },
   "outputs": [],
   "source": [
    "outputdir = \"/home/ctroupin/Projects/Leaflet/AlborEx/data/\""
   ]
  },
  {
   "cell_type": "markdown",
   "metadata": {},
   "source": [
    "# CTD"
   ]
  },
  {
   "cell_type": "code",
   "execution_count": 26,
   "metadata": {
    "collapsed": true
   },
   "outputs": [],
   "source": [
    "lonCTD1, latCTD1 = alborexdata.load_lonloat_ctdleg(\"../data/ctd_positions_Leg1.txt\")\n",
    "lonCTD2, latCTD2 = alborexdata.load_lonloat_ctdleg(\"../data/ctd_positions_Leg2.txt\")"
   ]
  },
  {
   "cell_type": "code",
   "execution_count": 27,
   "metadata": {
    "collapsed": true
   },
   "outputs": [],
   "source": [
    "CTDlist = [[lat, lon] for lat, lon in zip(latCTD1, lonCTD1)]"
   ]
  },
  {
   "cell_type": "code",
   "execution_count": 28,
   "metadata": {},
   "outputs": [],
   "source": [
    "with open(os.path.join(outputdir, 'CTD1.js'), 'w') as f:\n",
    "    f.write(\"var CTD1list = \" + str(CTDlist))"
   ]
  },
  {
   "cell_type": "code",
   "execution_count": 29,
   "metadata": {
    "collapsed": true
   },
   "outputs": [],
   "source": [
    "CTDlist = [[lat, lon] for lat, lon in zip(latCTD2, lonCTD2)]"
   ]
  },
  {
   "cell_type": "code",
   "execution_count": 30,
   "metadata": {
    "collapsed": true
   },
   "outputs": [],
   "source": [
    "with open(os.path.join(outputdir, 'CTD2.js'), 'w') as f:\n",
    "    f.write(\"var CTD2list = \" + str(CTDlist))"
   ]
  },
  {
   "cell_type": "markdown",
   "metadata": {
    "collapsed": true
   },
   "source": [
    "# Glider"
   ]
  },
  {
   "cell_type": "code",
   "execution_count": 75,
   "metadata": {
    "collapsed": true
   },
   "outputs": [],
   "source": [
    "gliderdir = \"/home/ctroupin/DataOceano/Alborex/Glider/\"\n",
    "gliderfile1 = os.path.join(gliderdir, \"dep0005_icoast00_ime-slcost000_L1_2014-05-25_data_dt.nc\")\n",
    "gliderfile2 = os.path.join(gliderdir, \"dep0012_ideep00_ime-sldeep000_L1_2014-05-25_data_dt.nc\")"
   ]
  },
  {
   "cell_type": "code",
   "execution_count": 76,
   "metadata": {},
   "outputs": [],
   "source": [
    "lon1, lat1, depth1, time1 = alborex_functions.load_glider_coord(gliderfile1)\n",
    "lon2, lat2, depth2, time2 = alborex_functions.load_glider_coord(gliderfile2)"
   ]
  },
  {
   "cell_type": "code",
   "execution_count": 70,
   "metadata": {
    "collapsed": true
   },
   "outputs": [],
   "source": [
    "def makeGeoJson(lon, lat, filename, varname, NN=100):\n",
    "    \"\"\"\n",
    "    Create a geoJSON file containing the glider coordinates as a LineString object\n",
    "    \"\"\"\n",
    "\n",
    "    # Remove masked values\n",
    "    lon = np.ma.compressed(lon)\n",
    "    lat = np.ma.compressed(lat)\n",
    "\n",
    "    # Apply re-sampling (otherwise too many points)\n",
    "    lonG, latG = lon[::NN], lat[::NN]\n",
    "\n",
    "    # Create list of tuples\n",
    "    Glider1list = [(lon, lat) for lon, lat in zip(lonG, latG)]\n",
    "\n",
    "    # Create LineString object\n",
    "    GliderGeoJson = geojson.LineString(Glider1list)\n",
    "\n",
    "    # Write in new file\n",
    "    with open(filename, 'w') as f:\n",
    "        f.write(\"var {0} = \".format(varname))\n",
    "        geojson.dump(GliderGeoJson, f)"
   ]
  },
  {
   "cell_type": "code",
   "execution_count": 77,
   "metadata": {
    "collapsed": true
   },
   "outputs": [],
   "source": [
    "makeGeoJson(lon1, lat1, os.path.join(outputdir, 'Glider1.js'), 'glider1', NN=100)"
   ]
  },
  {
   "cell_type": "code",
   "execution_count": 78,
   "metadata": {
    "collapsed": true
   },
   "outputs": [],
   "source": [
    "makeGeoJson(lon2, lat2, os.path.join(outputdir, 'Glider2.js'), 'glider2', NN=100)"
   ]
  },
  {
   "cell_type": "markdown",
   "metadata": {
    "collapsed": true
   },
   "source": [
    "# Drifters"
   ]
  },
  {
   "cell_type": "markdown",
   "metadata": {},
   "source": [
    "We've created a list of deployments (text file) using [get_deployments_alborex](get_deployments_alborex.ipynb)."
   ]
  },
  {
   "cell_type": "code",
   "execution_count": 6,
   "metadata": {
    "collapsed": true
   },
   "outputs": [],
   "source": [
    "drifterfilelist = './deploymentList.txt'"
   ]
  },
  {
   "cell_type": "markdown",
   "metadata": {},
   "source": [
    "Dates of interest for the extraction"
   ]
  },
  {
   "cell_type": "code",
   "execution_count": 56,
   "metadata": {},
   "outputs": [],
   "source": [
    "dateinit = datetime.datetime(2014, 5, 25)\n",
    "dateend = datetime.datetime(2014, 6, 15)\n",
    "timeinit = (dateinit-datetime.datetime(1970,1,1)).total_seconds()\n",
    "timeend = (dateend-datetime.datetime(1970,1,1)).total_seconds()"
   ]
  },
  {
   "cell_type": "code",
   "execution_count": 66,
   "metadata": {},
   "outputs": [],
   "source": [
    "lonall, latall = [], []\n",
    "with open(drifterfilelist, 'r') as f:\n",
    "    for drifterfile in f:\n",
    "        with netCDF4.Dataset(drifterfile) as nc:\n",
    "            time = nc.variables['time'][:]\n",
    "            timeunits = nc.variables['time'].units\n",
    "            goodtime = np.where(np.logical_and((time > timeinit),(time <= timeend)))[0]\n",
    "            \n",
    "            # Only take values in the considered period\n",
    "            lon = nc.variables['LON'][goodtime]\n",
    "            lat = nc.variables['LAT'][goodtime]\n",
    "            QClon = nc.variables['QC_LON'][goodtime]\n",
    "            QClat = nc.variables['QC_LAT'][goodtime]\n",
    "            # Only take good coordinates\n",
    "            goodcoords = np.where(np.logical_and((QClon==1),(QClat==1)))[0]\n",
    "            lon = lon[goodcoords]\n",
    "            lat = lat[goodcoords]\n",
    "            \n",
    "            lonall.append(lon.tolist())\n",
    "            latall.append(lat.tolist())\n",
    "            #print(lon.min(), lon.max(), lat.min(), lat.max())"
   ]
  },
  {
   "cell_type": "code",
   "execution_count": 67,
   "metadata": {},
   "outputs": [],
   "source": [
    "# Create list of tuples\n",
    "DrifterList = [[(lon, lat) for lon, lat in zip(londep, latdep)] for londep, latdep in zip(lonall, latall)]"
   ]
  },
  {
   "cell_type": "code",
   "execution_count": 68,
   "metadata": {
    "collapsed": true
   },
   "outputs": [],
   "source": [
    "DrifterGeojson = geojson.MultiLineString(DrifterList)  "
   ]
  },
  {
   "cell_type": "code",
   "execution_count": 69,
   "metadata": {},
   "outputs": [],
   "source": [
    "with open(os.path.join(outputdir, 'drifters.js'), 'w') as f:\n",
    "    f.write(\"var drifters = \")\n",
    "    geojson.dump(DrifterGeojson, f)"
   ]
  },
  {
   "cell_type": "markdown",
   "metadata": {},
   "source": [
    "# Profilers"
   ]
  },
  {
   "cell_type": "markdown",
   "metadata": {},
   "source": [
    "Same as drifters."
   ]
  },
  {
   "cell_type": "code",
   "execution_count": 77,
   "metadata": {},
   "outputs": [],
   "source": [
    "profilerfilelist = './alborexProfilerList.txt'"
   ]
  },
  {
   "cell_type": "code",
   "execution_count": 99,
   "metadata": {},
   "outputs": [],
   "source": [
    "lonall, latall = [], []\n",
    "with open(profilerfilelist, 'r') as f:\n",
    "    for profilerfile in f:\n",
    "        with netCDF4.Dataset(profilerfile) as nc:\n",
    "            time = nc.variables['time'][:]\n",
    "            timeunits = nc.variables['time'].units\n",
    "            goodtime = np.where(np.logical_and((time > timeinit),(time <= timeend)))[0]\n",
    "            \n",
    "            # Only take values in the considered period\n",
    "            lon = nc.variables['LON'][goodtime[1:]]\n",
    "            lat = nc.variables['LAT'][goodtime[1:]]\n",
    "            \"\"\"\n",
    "            QClon = nc.variables['QC_LON'][goodtime]\n",
    "            QClat = nc.variables['QC_LAT'][goodtime]\n",
    "            # Only take good coordinates\n",
    "            goodcoords = np.where(np.logical_and((QClon==1),(QClat==1)))[0]\n",
    "            lon = lon[goodcoords]\n",
    "            lat = lat[goodcoords]\n",
    "            \"\"\"\n",
    "            lonall.append(lon.tolist())\n",
    "            latall.append(lat.tolist())\n",
    "            #print(lon.min(), lon.max(), lat.min(), lat.max())"
   ]
  },
  {
   "cell_type": "code",
   "execution_count": 100,
   "metadata": {},
   "outputs": [],
   "source": [
    "# Create list of tuples\n",
    "ProfilerList = [[(lon, lat) for lon, lat in zip(londep, latdep)] for londep, latdep in zip(lonall, latall)]\n",
    "ProfilerGeojson = geojson.MultiLineString(ProfilerList)  \n",
    "with open(os.path.join(outputdir, 'profilers.js'), 'w') as f:\n",
    "    f.write(\"var profilers = \")\n",
    "    geojson.dump(ProfilerGeojson, f)"
   ]
  },
  {
   "cell_type": "code",
   "execution_count": null,
   "metadata": {
    "collapsed": true
   },
   "outputs": [],
   "source": []
  },
  {
   "cell_type": "code",
   "execution_count": 80,
   "metadata": {},
   "outputs": [
    {
     "name": "stdout",
     "output_type": "stream",
     "text": [
      "OrderedDict([('trajectory', <class 'netCDF4._netCDF4.Variable'>\n",
      "|S1 trajectory(maxStrlen64)\n",
      "    cf_role: trajectory_id\n",
      "unlimited dimensions: \n",
      "current shape = (64,)\n",
      "filling off\n",
      "), ('time', <class 'netCDF4._netCDF4.Variable'>\n",
      "float64 time(time)\n",
      "    standard_name: time\n",
      "    units: seconds since 1970-01-01 00:00:00\n",
      "    _FillValue: nan\n",
      "    axis: T\n",
      "    calendar: gregorian\n",
      "unlimited dimensions: time\n",
      "current shape = (71,)\n",
      "filling off\n",
      "), ('LAT', <class 'netCDF4._netCDF4.Variable'>\n",
      "float64 LAT(time)\n",
      "    standard_name: latitude\n",
      "    long_name: Latitude\n",
      "    units: degrees_north\n",
      "    _FillValue: nan\n",
      "    axis: Y\n",
      "    valid_min: -90.0\n",
      "    valid_max: 90.0\n",
      "    reference_datum: geographical coordinates, WGS84 projection\n",
      "unlimited dimensions: time\n",
      "current shape = (71,)\n",
      "filling off\n",
      "), ('LON', <class 'netCDF4._netCDF4.Variable'>\n",
      "float64 LON(time)\n",
      "    standard_name: longitude\n",
      "    long_name: Longitude\n",
      "    units: degrees_east\n",
      "    _FillValue: nan\n",
      "    axis: X\n",
      "    valid_min: -180.0\n",
      "    valid_max: 180.0\n",
      "    reference_datum: geographical coordinates, WGS84 projection\n",
      "unlimited dimensions: time\n",
      "current shape = (71,)\n",
      "filling off\n",
      "), ('DEPTH', <class 'netCDF4._netCDF4.Variable'>\n",
      "float64 DEPTH(time, depth)\n",
      "    standard_name: depth\n",
      "    long_name: Depth coordinate\n",
      "    units: m\n",
      "    _FillValue: nan\n",
      "    positive: down\n",
      "    axis: Z\n",
      "    reference_datum: geographical coordinates, WGS84 projection\n",
      "unlimited dimensions: time\n",
      "current shape = (71, 7118)\n",
      "filling off\n",
      "), ('WTR_TEM', <class 'netCDF4._netCDF4.Variable'>\n",
      "float64 WTR_TEM(time, depth)\n",
      "    standard_name: sea_water_potential_temperature\n",
      "    long_name: Sea water temperature\n",
      "    units: C\n",
      "    _FillValue: nan\n",
      "    ancillary_variables: QC_WTR_TEM\n",
      "    coordinates: time LAT LON DEPTH\n",
      "    original_units: C\n",
      "    observation_type: measured\n",
      "    precision: 0.001\n",
      "    resolution: 0.001\n",
      "unlimited dimensions: time\n",
      "current shape = (71, 7118)\n",
      "filling off\n",
      "), ('QC_WTR_TEM', <class 'netCDF4._netCDF4.Variable'>\n",
      "int8 QC_WTR_TEM(time, depth)\n",
      "    _Unsigned: false\n",
      "    standard_name: sea_water_potential_temperature status_flag\n",
      "    long_name: Quality flag for WTR_TEM\n",
      "    quality_control_convention: SOCIB Quality control Data Protocol\n",
      "    valid_min: 0\n",
      "    valid_max: 9\n",
      "    _FillValue: 10\n",
      "    flag_values: [0 1 2 3 4 6 9]\n",
      "    flag_meanings: no_qc_performed good_data probably_good_data probably_bad_data bad_data spike missing_value\n",
      "unlimited dimensions: time\n",
      "current shape = (71, 7118)\n",
      "filling off\n",
      "), ('SALT', <class 'netCDF4._netCDF4.Variable'>\n",
      "float64 SALT(time, depth)\n",
      "    standard_name: sea_water_salinity\n",
      "    long_name: Sea water salinity\n",
      "    units: psu\n",
      "    _FillValue: nan\n",
      "    ancillary_variables: QC_SALT\n",
      "    coordinates: time LAT LON DEPTH\n",
      "    original_units: psu\n",
      "    observation_type: derived\n",
      "    precision: 0.001\n",
      "    resolution: 0.001\n",
      "unlimited dimensions: time\n",
      "current shape = (71, 7118)\n",
      "filling off\n",
      "), ('QC_SALT', <class 'netCDF4._netCDF4.Variable'>\n",
      "int8 QC_SALT(time, depth)\n",
      "    _Unsigned: false\n",
      "    standard_name: sea_water_salinity status_flag\n",
      "    long_name: Quality flag for SALT\n",
      "    quality_control_convention: SOCIB Quality control Data Protocol\n",
      "    valid_min: 0\n",
      "    valid_max: 9\n",
      "    _FillValue: 10\n",
      "    flag_values: [0 1 2 3 4 6 9]\n",
      "    flag_meanings: no_qc_performed good_data probably_good_data probably_bad_data bad_data spike missing_value\n",
      "unlimited dimensions: time\n",
      "current shape = (71, 7118)\n",
      "filling off\n",
      "), ('WTR_PRE', <class 'netCDF4._netCDF4.Variable'>\n",
      "float64 WTR_PRE(time, depth)\n",
      "    standard_name: sea_water_pressure\n",
      "    long_name: Sea water pressure\n",
      "    units: dbar\n",
      "    _FillValue: nan\n",
      "    coordinates: time LAT LON DEPTH\n",
      "    original_units: dbar\n",
      "    observation_type: measured\n",
      "    precision: 0.1\n",
      "    resolution: 0.1\n",
      "unlimited dimensions: time\n",
      "current shape = (71, 7118)\n",
      "filling off\n",
      "), ('BACKSCATTERING', <class 'netCDF4._netCDF4.Variable'>\n",
      "float64 BACKSCATTERING(time, depth)\n",
      "    long_name: 650nm_scattering_in_sea_water\n",
      "    units: counts\n",
      "    _FillValue: nan\n",
      "    ancillary_variables: QC_BACKSCATTERING\n",
      "    coordinates: time LAT LON DEPTH\n",
      "    original_units: counts\n",
      "    observation_type: measured\n",
      "    precision: 0.0001\n",
      "unlimited dimensions: time\n",
      "current shape = (71, 7118)\n",
      "filling off\n",
      "), ('QC_BACKSCATTERING', <class 'netCDF4._netCDF4.Variable'>\n",
      "int8 QC_BACKSCATTERING(time, depth)\n",
      "    _Unsigned: false\n",
      "    standard_name: 650nm_scattering_in_sea_water status_flag\n",
      "    long_name: Quality flag for BACKSCATTERING\n",
      "    quality_control_convention: SOCIB Quality control Data Protocol\n",
      "    valid_min: 0\n",
      "    valid_max: 9\n",
      "    _FillValue: 10\n",
      "    flag_values: [0 1 2 3 4 6 9]\n",
      "    flag_meanings: no_qc_performed good_data probably_good_data probably_bad_data bad_data spike missing_value\n",
      "unlimited dimensions: time\n",
      "current shape = (71, 7118)\n",
      "filling off\n",
      "), ('CDOM', <class 'netCDF4._netCDF4.Variable'>\n",
      "float64 CDOM(time, depth)\n",
      "    long_name: colored_dissolved_organic_matter_in_sea_water\n",
      "    units: PPB\n",
      "    _FillValue: nan\n",
      "    ancillary_variables: QC_CDOM\n",
      "    coordinates: time LAT LON DEPTH\n",
      "    original_units: PPB\n",
      "    observation_type: measured\n",
      "    precision: 0.0001\n",
      "unlimited dimensions: time\n",
      "current shape = (71, 7118)\n",
      "filling off\n",
      "), ('QC_CDOM', <class 'netCDF4._netCDF4.Variable'>\n",
      "int8 QC_CDOM(time, depth)\n",
      "    _Unsigned: false\n",
      "    standard_name: colored_dissolved_organic_matter_in_sea_water status_flag\n",
      "    long_name: Quality flag for CDOM\n",
      "    quality_control_convention: SOCIB Quality control Data Protocol\n",
      "    valid_min: 0\n",
      "    valid_max: 9\n",
      "    _FillValue: 10\n",
      "    flag_values: [0 1 2 3 4 6 9]\n",
      "    flag_meanings: no_qc_performed good_data probably_good_data probably_bad_data bad_data spike missing_value\n",
      "unlimited dimensions: time\n",
      "current shape = (71, 7118)\n",
      "filling off\n",
      "), ('CHLO', <class 'netCDF4._netCDF4.Variable'>\n",
      "float64 CHLO(time, depth)\n",
      "    standard_name: mass_concentration_of_chlorophyll_in_sea_water\n",
      "    units: mg m-3\n",
      "    _FillValue: nan\n",
      "    ancillary_variables: QC_CHLO\n",
      "    coordinates: time LAT LON DEPTH\n",
      "    original_units: mg m-3\n",
      "    observation_type: measured\n",
      "    precision: 0.0001\n",
      "unlimited dimensions: time\n",
      "current shape = (71, 7118)\n",
      "filling off\n",
      "), ('QC_CHLO', <class 'netCDF4._netCDF4.Variable'>\n",
      "int8 QC_CHLO(time, depth)\n",
      "    _Unsigned: false\n",
      "    standard_name: mass_concentration_of_chlorophyll_in_sea_water status_flag\n",
      "    long_name: Quality flag for CHLO\n",
      "    quality_control_convention: SOCIB Quality control Data Protocol\n",
      "    valid_min: 0\n",
      "    valid_max: 9\n",
      "    _FillValue: 10\n",
      "    flag_values: [0 1 2 3 4 6 9]\n",
      "    flag_meanings: no_qc_performed good_data probably_good_data probably_bad_data bad_data spike missing_value\n",
      "unlimited dimensions: time\n",
      "current shape = (71, 7118)\n",
      "filling off\n",
      "), ('WTR_TEM_OXY_DIS', <class 'netCDF4._netCDF4.Variable'>\n",
      "float64 WTR_TEM_OXY_DIS(time, depth)\n",
      "    standard_name: sea_water_potential_temperature\n",
      "    long_name: Sea water temperature of oxygen sensor\n",
      "    units: C\n",
      "    _FillValue: nan\n",
      "    ancillary_variables: QC_WTR_TEM_OXY_DIS\n",
      "    coordinates: time LAT LON DEPTH\n",
      "    original_units: C\n",
      "    observation_type: measured\n",
      "    precision: 0.001\n",
      "    resolution: 0.001\n",
      "unlimited dimensions: time\n",
      "current shape = (71, 7118)\n",
      "filling off\n",
      "), ('QC_WTR_TEM_OXY_DIS', <class 'netCDF4._netCDF4.Variable'>\n",
      "int8 QC_WTR_TEM_OXY_DIS(time, depth)\n",
      "    _Unsigned: false\n",
      "    standard_name: sea_water_potential_temperature status_flag\n",
      "    long_name: Quality flag for WTR_TEM_OXY_DIS\n",
      "    quality_control_convention: SOCIB Quality control Data Protocol\n",
      "    valid_min: 0\n",
      "    valid_max: 9\n",
      "    _FillValue: 10\n",
      "    flag_values: [0 1 2 3 4 6 9]\n",
      "    flag_meanings: no_qc_performed good_data probably_good_data probably_bad_data bad_data spike missing_value\n",
      "unlimited dimensions: time\n",
      "current shape = (71, 7118)\n",
      "filling off\n",
      "), ('PLAT_SPEED_GR', <class 'netCDF4._netCDF4.Variable'>\n",
      "float64 PLAT_SPEED_GR(time)\n",
      "    standard_name: platform_speed_wrt_ground\n",
      "    long_name: Platform speed with respect to ground\n",
      "    units: m s-1\n",
      "    _FillValue: nan\n",
      "    ancillary_variables: QC_PLAT_SPEED_GR\n",
      "    coordinates: time LAT LON\n",
      "    original_units: m s-1\n",
      "    observation_type: derived\n",
      "    precision: 0.0001\n",
      "unlimited dimensions: time\n",
      "current shape = (71,)\n",
      "filling off\n",
      "), ('QC_PLAT_SPEED_GR', <class 'netCDF4._netCDF4.Variable'>\n",
      "int8 QC_PLAT_SPEED_GR(time)\n",
      "    _Unsigned: false\n",
      "    standard_name: platform_speed_wrt_ground status_flag\n",
      "    long_name: Quality flag for PLAT_SPEED_GR\n",
      "    quality_control_convention: SOCIB Quality control Data Protocol\n",
      "    valid_min: 0\n",
      "    valid_max: 9\n",
      "    _FillValue: 10\n",
      "    flag_values: [0 1 2 3 4 6 9]\n",
      "    flag_meanings: no_qc_performed good_data probably_good_data probably_bad_data bad_data spike missing_value\n",
      "unlimited dimensions: time\n",
      "current shape = (71,)\n",
      "filling off\n",
      ")])\n"
     ]
    }
   ],
   "source": [
    "with netCDF4.Dataset(profilerfile.rstrip()) as nc:\n",
    "    print(nc.variables)"
   ]
  },
  {
   "cell_type": "code",
   "execution_count": null,
   "metadata": {
    "collapsed": true
   },
   "outputs": [],
   "source": []
  }
 ],
 "metadata": {
  "kernelspec": {
   "display_name": "Python 3",
   "language": "python",
   "name": "python3"
  },
  "language_info": {
   "codemirror_mode": {
    "name": "ipython",
    "version": 3
   },
   "file_extension": ".py",
   "mimetype": "text/x-python",
   "name": "python",
   "nbconvert_exporter": "python",
   "pygments_lexer": "ipython3",
   "version": "3.5.2"
  }
 },
 "nbformat": 4,
 "nbformat_minor": 2
}
