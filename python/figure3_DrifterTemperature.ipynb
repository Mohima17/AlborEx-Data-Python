{
 "cells": [
  {
   "cell_type": "code",
   "execution_count": 1,
   "metadata": {
    "collapsed": true
   },
   "outputs": [],
   "source": [
    "import alborex_functions\n",
    "import alborexdata\n",
    "import netCDF4\n",
    "import glob\n",
    "import os\n",
    "import matplotlib.pyplot as plt\n",
    "from mpl_toolkits.basemap import Basemap \n",
    "import numpy as np\n",
    "import datetime\n",
    "from importlib import reload"
   ]
  },
  {
   "cell_type": "code",
   "execution_count": 2,
   "metadata": {},
   "outputs": [
    {
     "data": {
      "text/plain": [
       "<module 'alborexdata' from '/home/ctroupin/Publis/201703_AlborexData/python/alborexdata.py'>"
      ]
     },
     "execution_count": 2,
     "metadata": {},
     "output_type": "execute_result"
    }
   ],
   "source": [
    "reload(alborexdata)"
   ]
  },
  {
   "cell_type": "code",
   "execution_count": 3,
   "metadata": {
    "collapsed": true
   },
   "outputs": [],
   "source": [
    "import warnings\n",
    "import matplotlib.cbook\n",
    "warnings.filterwarnings(\"ignore\",category=matplotlib.cbook.mplDeprecation)"
   ]
  },
  {
   "cell_type": "markdown",
   "metadata": {
    "collapsed": true
   },
   "source": [
    "# Configuration"
   ]
  },
  {
   "cell_type": "markdown",
   "metadata": {},
   "source": [
    "Create a logger"
   ]
  },
  {
   "cell_type": "code",
   "execution_count": 4,
   "metadata": {
    "collapsed": true
   },
   "outputs": [],
   "source": [
    "logger = alborexdata.configure_logging(\"./logs/alborexFigure3.log\")"
   ]
  },
  {
   "cell_type": "markdown",
   "metadata": {},
   "source": [
    "Domain"
   ]
  },
  {
   "cell_type": "code",
   "execution_count": 5,
   "metadata": {
    "collapsed": true
   },
   "outputs": [],
   "source": [
    "coordinates = [-6.75, 3.001, 34.75, 40.]\n",
    "coordinates2 = [-1, -0.25, 36.65, 37.25]"
   ]
  },
  {
   "cell_type": "markdown",
   "metadata": {},
   "source": [
    "Create a list of netCDF files containing SST"
   ]
  },
  {
   "cell_type": "code",
   "execution_count": 6,
   "metadata": {
    "collapsed": true
   },
   "outputs": [],
   "source": [
    "figdir = \"../figures/drifters/\"\n",
    "datadir = \"/home/ctroupin/Data/Alborex/Drifters/\""
   ]
  },
  {
   "cell_type": "code",
   "execution_count": 7,
   "metadata": {},
   "outputs": [
    {
     "name": "stderr",
     "output_type": "stream",
     "text": [
      "2018-01-03 17:39:15,548 - alborex_logger - INFO - Working on 26 data files\n"
     ]
    }
   ],
   "source": [
    "coastfile = \"../data/coastline_cartex_f3.txt\"\n",
    "datafilelist = sorted(glob.glob(os.path.join(datadir, '*.nc')))\n",
    "nfiles = len(datafilelist)\n",
    "if nfiles == 0:\n",
    "    logger.warning(\"No SST files in directory {0}\".format(sstdir))\n",
    "else:\n",
    "    logger.info(\"Working on {0} data files\".format(nfiles))"
   ]
  },
  {
   "cell_type": "markdown",
   "metadata": {},
   "source": [
    "# Data reading and plotting\n",
    "\n",
    "Make figure directory if necessary."
   ]
  },
  {
   "cell_type": "code",
   "execution_count": 8,
   "metadata": {},
   "outputs": [
    {
     "name": "stderr",
     "output_type": "stream",
     "text": [
      "2018-01-03 17:39:15,555 - alborex_logger - DEBUG - Figure directory ../figures/drifters/ already exists\n"
     ]
    }
   ],
   "source": [
    "if os.path.isdir(figdir):\n",
    "    logger.debug(\"Figure directory {0} already exists\".format(figdir))\n",
    "else:\n",
    "    os.makedirs(figdir)\n",
    "    logger.debug(\"Creating figure directory {0}\".format(figdir))"
   ]
  },
  {
   "cell_type": "markdown",
   "metadata": {},
   "source": [
    "## Coastline"
   ]
  },
  {
   "cell_type": "code",
   "execution_count": 9,
   "metadata": {},
   "outputs": [
    {
     "name": "stderr",
     "output_type": "stream",
     "text": [
      "2018-01-03 17:39:15,567 - alborex_logger - INFO - ../data/coastline_cartex_f3.txt exists\n"
     ]
    }
   ],
   "source": [
    "coastdir = '../data/'\n",
    "coastfile = os.path.join(coastdir, 'coastline_cartex_f3.txt')\n",
    "\n",
    "if os.path.exists(coastfile):\n",
    "    logger.info(\"{0} exists\".format(coastfile))\n",
    "    loncoast, latcoast = alborexdata.read_lonlat_coast(coastfile)\n",
    "else:\n",
    "    logger.warning(\"{0} does't exist\".format(coastfile))  "
   ]
  },
  {
   "cell_type": "markdown",
   "metadata": {},
   "source": [
    "Create the projection (only once)"
   ]
  },
  {
   "cell_type": "code",
   "execution_count": null,
   "metadata": {
    "collapsed": true
   },
   "outputs": [],
   "source": [
    "m = Basemap(projection='merc', llcrnrlon=coordinates[0], llcrnrlat=coordinates[2],\n",
    "            urcrnrlon=coordinates[1], urcrnrlat=coordinates[3],\n",
    "            lat_ts=0.5 * (coordinates[2] + coordinates[3]), resolution='h')"
   ]
  },
  {
   "cell_type": "code",
   "execution_count": 26,
   "metadata": {
    "collapsed": true
   },
   "outputs": [],
   "source": [
    "mzoom = Basemap(projection='merc', llcrnrlon=-1., llcrnrlat=36,\n",
    "                urcrnrlon=1., urcrnrlat=37.5,\n",
    "                lat_ts=36.5, resolution='h')"
   ]
  },
  {
   "cell_type": "markdown",
   "metadata": {},
   "source": [
    "## Loop on the files"
   ]
  },
  {
   "cell_type": "code",
   "execution_count": 69,
   "metadata": {},
   "outputs": [
    {
     "name": "stderr",
     "output_type": "stream",
     "text": [
      "2018-01-03 18:21:01,829 - alborex_logger - INFO - Making figure drifter_temperature2\n"
     ]
    },
    {
     "ename": "ValueError",
     "evalue": "The truth value of an array with more than one element is ambiguous. Use a.any() or a.all()",
     "output_type": "error",
     "traceback": [
      "\u001b[0;31m---------------------------------------------------------------------------\u001b[0m",
      "\u001b[0;31mValueError\u001b[0m                                Traceback (most recent call last)",
      "\u001b[0;32m<ipython-input-69-52b586a1f1f7>\u001b[0m in \u001b[0;36m<module>\u001b[0;34m()\u001b[0m\n\u001b[1;32m     35\u001b[0m         \u001b[0;31m# drifter.mask_temp(tmin, tmax)\u001b[0m\u001b[0;34m\u001b[0m\u001b[0;34m\u001b[0m\u001b[0m\n\u001b[1;32m     36\u001b[0m         \u001b[0mdrifter\u001b[0m\u001b[0;34m.\u001b[0m\u001b[0mselect_dates\u001b[0m\u001b[0;34m(\u001b[0m\u001b[0mfinaldate\u001b[0m\u001b[0;34m=\u001b[0m\u001b[0mdatetime\u001b[0m\u001b[0;34m.\u001b[0m\u001b[0mdatetime\u001b[0m\u001b[0;34m(\u001b[0m\u001b[0;36m2014\u001b[0m\u001b[0;34m,\u001b[0m \u001b[0;36m6\u001b[0m\u001b[0;34m,\u001b[0m \u001b[0;36m1\u001b[0m\u001b[0;34m,\u001b[0m \u001b[0;36m0\u001b[0m\u001b[0;34m,\u001b[0m \u001b[0;36m0\u001b[0m\u001b[0;34m)\u001b[0m\u001b[0;34m)\u001b[0m\u001b[0;34m\u001b[0m\u001b[0m\n\u001b[0;32m---> 37\u001b[0;31m         \u001b[0mscat\u001b[0m \u001b[0;34m=\u001b[0m \u001b[0mdrifter\u001b[0m\u001b[0;34m.\u001b[0m\u001b[0mscatter_plot\u001b[0m\u001b[0;34m(\u001b[0m\u001b[0mm\u001b[0m\u001b[0;34m,\u001b[0m \u001b[0mvmin\u001b[0m\u001b[0;34m=\u001b[0m\u001b[0mtmin\u001b[0m\u001b[0;34m,\u001b[0m \u001b[0mvmax\u001b[0m\u001b[0;34m=\u001b[0m\u001b[0mtmax\u001b[0m\u001b[0;34m,\u001b[0m \u001b[0mcmap\u001b[0m\u001b[0;34m=\u001b[0m\u001b[0mplt\u001b[0m\u001b[0;34m.\u001b[0m\u001b[0mcm\u001b[0m\u001b[0;34m.\u001b[0m\u001b[0mRdYlBu_r\u001b[0m\u001b[0;34m,\u001b[0m \u001b[0mzorder\u001b[0m\u001b[0;34m=\u001b[0m\u001b[0;36m4\u001b[0m\u001b[0;34m)\u001b[0m\u001b[0;34m\u001b[0m\u001b[0m\n\u001b[0m\u001b[1;32m     38\u001b[0m \u001b[0;34m\u001b[0m\u001b[0m\n\u001b[1;32m     39\u001b[0m \u001b[0mcb\u001b[0m \u001b[0;34m=\u001b[0m \u001b[0mplt\u001b[0m\u001b[0;34m.\u001b[0m\u001b[0mcolorbar\u001b[0m\u001b[0;34m(\u001b[0m\u001b[0mscat\u001b[0m\u001b[0;34m,\u001b[0m \u001b[0mextend\u001b[0m\u001b[0;34m=\u001b[0m\u001b[0;34m'both'\u001b[0m\u001b[0;34m,\u001b[0m \u001b[0mshrink\u001b[0m\u001b[0;34m=\u001b[0m\u001b[0;36m0.6\u001b[0m\u001b[0;34m)\u001b[0m\u001b[0;34m\u001b[0m\u001b[0m\n",
      "\u001b[0;32m<ipython-input-67-566bb4035b23>\u001b[0m in \u001b[0;36mscatter_plot\u001b[0;34m(self, m, **kwargs)\u001b[0m\n\u001b[1;32m     66\u001b[0m \u001b[0;34m\u001b[0m\u001b[0m\n\u001b[1;32m     67\u001b[0m     \u001b[0;32mdef\u001b[0m \u001b[0mscatter_plot\u001b[0m\u001b[0;34m(\u001b[0m\u001b[0mself\u001b[0m\u001b[0;34m,\u001b[0m \u001b[0mm\u001b[0m\u001b[0;34m,\u001b[0m \u001b[0;34m**\u001b[0m\u001b[0mkwargs\u001b[0m\u001b[0;34m)\u001b[0m\u001b[0;34m:\u001b[0m\u001b[0;34m\u001b[0m\u001b[0m\n\u001b[0;32m---> 68\u001b[0;31m         \u001b[0mscat\u001b[0m \u001b[0;34m=\u001b[0m \u001b[0mm\u001b[0m\u001b[0;34m.\u001b[0m\u001b[0mscatter\u001b[0m\u001b[0;34m(\u001b[0m\u001b[0mself\u001b[0m\u001b[0;34m.\u001b[0m\u001b[0mlon\u001b[0m\u001b[0;34m,\u001b[0m \u001b[0mself\u001b[0m\u001b[0;34m.\u001b[0m\u001b[0mlat\u001b[0m\u001b[0;34m,\u001b[0m \u001b[0ms\u001b[0m\u001b[0;34m=\u001b[0m\u001b[0;36m5\u001b[0m\u001b[0;34m,\u001b[0m \u001b[0mc\u001b[0m\u001b[0;34m=\u001b[0m\u001b[0mself\u001b[0m\u001b[0;34m.\u001b[0m\u001b[0mtemperature\u001b[0m\u001b[0;34m,\u001b[0m \u001b[0mlatlon\u001b[0m\u001b[0;34m=\u001b[0m\u001b[0;32mTrue\u001b[0m\u001b[0;34m,\u001b[0m \u001b[0;34m**\u001b[0m\u001b[0mkwargs\u001b[0m\u001b[0;34m)\u001b[0m\u001b[0;34m\u001b[0m\u001b[0m\n\u001b[0m\u001b[1;32m     69\u001b[0m         \u001b[0;32mreturn\u001b[0m \u001b[0mscat\u001b[0m\u001b[0;34m\u001b[0m\u001b[0m\n\u001b[1;32m     70\u001b[0m \u001b[0;34m\u001b[0m\u001b[0m\n",
      "\u001b[0;32m~/Software/PythonEnvs/Diva-python3.6/lib/python3.6/site-packages/mpl_toolkits/basemap/__init__.py\u001b[0m in \u001b[0;36mwith_transform\u001b[0;34m(self, x, y, *args, **kwargs)\u001b[0m\n\u001b[1;32m    534\u001b[0m             \u001b[0;32mif\u001b[0m \u001b[0mself\u001b[0m\u001b[0;34m.\u001b[0m\u001b[0mprojection\u001b[0m \u001b[0;32min\u001b[0m \u001b[0m_cylproj\u001b[0m \u001b[0;32mor\u001b[0m \u001b[0mself\u001b[0m\u001b[0;34m.\u001b[0m\u001b[0mprojection\u001b[0m \u001b[0;32min\u001b[0m \u001b[0m_pseudocyl\u001b[0m\u001b[0;34m:\u001b[0m\u001b[0;34m\u001b[0m\u001b[0m\n\u001b[1;32m    535\u001b[0m                 \u001b[0;32mif\u001b[0m \u001b[0mx\u001b[0m\u001b[0;34m.\u001b[0m\u001b[0mndim\u001b[0m \u001b[0;34m==\u001b[0m \u001b[0;36m1\u001b[0m\u001b[0;34m:\u001b[0m\u001b[0;34m\u001b[0m\u001b[0m\n\u001b[0;32m--> 536\u001b[0;31m                     \u001b[0mx\u001b[0m \u001b[0;34m=\u001b[0m \u001b[0mself\u001b[0m\u001b[0;34m.\u001b[0m\u001b[0mshiftdata\u001b[0m\u001b[0;34m(\u001b[0m\u001b[0mx\u001b[0m\u001b[0;34m)\u001b[0m\u001b[0;34m\u001b[0m\u001b[0m\n\u001b[0m\u001b[1;32m    537\u001b[0m                 \u001b[0;32melif\u001b[0m \u001b[0mx\u001b[0m\u001b[0;34m.\u001b[0m\u001b[0mndim\u001b[0m \u001b[0;34m==\u001b[0m \u001b[0;36m0\u001b[0m\u001b[0;34m:\u001b[0m\u001b[0;34m\u001b[0m\u001b[0m\n\u001b[1;32m    538\u001b[0m                     \u001b[0;32mif\u001b[0m \u001b[0mx\u001b[0m \u001b[0;34m>\u001b[0m \u001b[0;36m180\u001b[0m\u001b[0;34m:\u001b[0m\u001b[0;34m\u001b[0m\u001b[0m\n",
      "\u001b[0;32m~/Software/PythonEnvs/Diva-python3.6/lib/python3.6/site-packages/mpl_toolkits/basemap/__init__.py\u001b[0m in \u001b[0;36mshiftdata\u001b[0;34m(self, lonsin, datain, lon_0)\u001b[0m\n\u001b[1;32m   4775\u001b[0m             \u001b[0mthresh\u001b[0m \u001b[0;34m=\u001b[0m \u001b[0;36m360.\u001b[0m\u001b[0;34m-\u001b[0m\u001b[0mlondiff_sort\u001b[0m\u001b[0;34m[\u001b[0m\u001b[0;34m-\u001b[0m\u001b[0;36m2\u001b[0m\u001b[0;34m]\u001b[0m\u001b[0;34m\u001b[0m\u001b[0m\n\u001b[1;32m   4776\u001b[0m             \u001b[0mitemindex\u001b[0m \u001b[0;34m=\u001b[0m \u001b[0mlen\u001b[0m\u001b[0;34m(\u001b[0m\u001b[0mlonsin\u001b[0m\u001b[0;34m)\u001b[0m\u001b[0;34m-\u001b[0m\u001b[0mnp\u001b[0m\u001b[0;34m.\u001b[0m\u001b[0mwhere\u001b[0m\u001b[0;34m(\u001b[0m\u001b[0mlondiff\u001b[0m\u001b[0;34m>=\u001b[0m\u001b[0mthresh\u001b[0m\u001b[0;34m)\u001b[0m\u001b[0;34m[\u001b[0m\u001b[0;36m0\u001b[0m\u001b[0;34m]\u001b[0m\u001b[0;34m\u001b[0m\u001b[0m\n\u001b[0;32m-> 4777\u001b[0;31m             \u001b[0;32mif\u001b[0m \u001b[0mitemindex\u001b[0m\u001b[0;34m:\u001b[0m\u001b[0;34m\u001b[0m\u001b[0m\n\u001b[0m\u001b[1;32m   4778\u001b[0m                 \u001b[0;31m# check to see if cyclic (wraparound) point included\u001b[0m\u001b[0;34m\u001b[0m\u001b[0;34m\u001b[0m\u001b[0m\n\u001b[1;32m   4779\u001b[0m                 \u001b[0;31m# if so, remove it.\u001b[0m\u001b[0;34m\u001b[0m\u001b[0;34m\u001b[0m\u001b[0m\n",
      "\u001b[0;31mValueError\u001b[0m: The truth value of an array with more than one element is ambiguous. Use a.any() or a.all()"
     ]
    }
   ],
   "source": [
    "figname = \"drifter_temperature2\"\n",
    "figtitle = \"Drifter trajectories and temperature\"\n",
    "logger.info(\"Making figure {0}\".format(figname))\n",
    "\n",
    "tmin, tmax = 18., 24.\n",
    "fig = plt.figure(figsize=(10, 10))\n",
    "ax = plt.subplot(111)\n",
    "m.ax = ax\n",
    "\n",
    "# Add the coastline\n",
    "for i in range(0, len(loncoast)):\n",
    "    m.plot(np.array(loncoast[i]), np.array(latcoast[i]), \n",
    "           color='k', linewidth=.1, latlon=True)\n",
    "\n",
    "alborexdata.add_map_grid(m, coordinates, dlon=2., dlat=2.,\n",
    "                         fontname='Times New Roman', fontsize=14, \n",
    "                         linewidth=0.2, zorder=1, color=\".6\")\n",
    "    \n",
    "for datafiles in datafilelist:\n",
    "    \n",
    "    # logger.debug(\"Working on file: {0}\".format(os.path.basename(datafiles)))\n",
    "    \n",
    "    # Read data from file\n",
    "    drifter = Drifter()\n",
    "    drifter.get_from_netcdf(datafiles)\n",
    "        \n",
    "    # Apply quality flags\n",
    "    drifter.apply_qc_latlon(QC=[1])\n",
    "\n",
    "    # Add to plot\n",
    "    drifter.point_plot(m, marker='o', linestyle=None,\n",
    "                       color='k', ms=.1, zorder=3, alpha=.7)    \n",
    "        \n",
    "    if drifter.temperature is not None:\n",
    "        # drifter.mask_temp(tmin, tmax)\n",
    "        drifter.select_dates(finaldate=datetime.datetime(2014, 6, 1, 0, 0))\n",
    "        scat = drifter.scatter_plot(m, vmin=tmin, vmax=tmax, cmap=plt.cm.RdYlBu_r, zorder=4)\n",
    "    \n",
    "cb = plt.colorbar(scat, extend='both', shrink=0.6)\n",
    "cb.set_label('$^{\\circ}$C', rotation=0, ha='left', fontsize=16)\n",
    "\n",
    "xtext1, ytext1 = m(-3.2, 37.)\n",
    "xfig1, yfig1 = m(coordinates2[0], coordinates2[2])\n",
    "\n",
    "plt.title(figtitle, fontsize=20)\n",
    "# plt.show()\n",
    "plt.savefig(os.path.join(figdir, figname), dpi=300, bbox_inches='tight',)\n",
    "plt.close()"
   ]
  },
  {
   "cell_type": "markdown",
   "metadata": {},
   "source": [
    "# Plot with limited data in time"
   ]
  },
  {
   "cell_type": "code",
   "execution_count": 79,
   "metadata": {},
   "outputs": [
    {
     "name": "stderr",
     "output_type": "stream",
     "text": [
      "2018-01-03 18:29:17,055 - alborex_logger - INFO - Making figure drifter_temperature_closeup\n",
      "/home/ctroupin/Software/PythonEnvs/Diva-python3.6/lib/python3.6/site-packages/numpy/ma/core.py:2163: RuntimeWarning: invalid value encountered in less\n",
      "  condition = (xf < v1) | (xf > v2)\n",
      "/home/ctroupin/Software/PythonEnvs/Diva-python3.6/lib/python3.6/site-packages/numpy/ma/core.py:2163: RuntimeWarning: invalid value encountered in greater\n",
      "  condition = (xf < v1) | (xf > v2)\n",
      "2018-01-03 18:29:17,266 - alborex_logger - INFO - /home/ctroupin/Data/Alborex/Drifters/dep0001_drifter-svp020_scb-svp015_L0_2014-05-28.nc\n",
      "2018-01-03 18:29:17,331 - alborex_logger - INFO - /home/ctroupin/Data/Alborex/Drifters/dep0001_drifter-svp020_scb-svp015_L1_2014-05-28.nc\n",
      "/home/ctroupin/Software/PythonEnvs/Diva-python3.6/lib/python3.6/site-packages/mpl_toolkits/basemap/pyproj.py:495: UserWarning: Warning: converting a masked element to nan.\n",
      "  return array('d',(float(x),)),True,False,False\n"
     ]
    }
   ],
   "source": [
    "figname = \"drifter_temperature_closeup\"\n",
    "figtitle = \"Drifter trajectories and temperature\"\n",
    "logger.info(\"Making figure {0}\".format(figname))\n",
    "\n",
    "tmin, tmax = 18., 21.\n",
    "fig = plt.figure(figsize=(10, 10))\n",
    "ax = plt.subplot(111)\n",
    "mzoom.ax = ax\n",
    "\n",
    "# Add the coastline\n",
    "for i in range(0, len(loncoast)):\n",
    "    mzoom.plot(np.array(loncoast[i]), np.array(latcoast[i]), \n",
    "           color='k', linewidth=.5, latlon=True)\n",
    "\n",
    "alborexdata.add_map_grid(mzoom, coordinates, dlon=.5, dlat=.5,\n",
    "                         fontname='Times New Roman', fontsize=14, \n",
    "                         linewidth=0.2, zorder=1, color=\".6\")\n",
    "    \n",
    "for ii, datafiles in enumerate(datafilelist):\n",
    "    \n",
    "    # logger.debug(\"Working on file: {0}\".format(os.path.basename(datafiles)))\n",
    "    \n",
    "    # Read data from file\n",
    "    drifter = Drifter()\n",
    "    drifter.get_from_netcdf(datafiles)\n",
    "        \n",
    "    # Apply quality flags\n",
    "    drifter.apply_qc_latlon(QC=[1])\n",
    "    \n",
    "    # Select mission period\n",
    "    drifter.select_dates(finaldate=datetime.datetime(2014, 6, 1, 0, 0))\n",
    "\n",
    "    # Add to plot\n",
    "    drifter.point_plot(mzoom, marker='o', linestyle=None,\n",
    "                       color='k', ms=.5, zorder=3, alpha=.7) \n",
    "    \n",
    "    if ii == 0:\n",
    "        drifter.add_initial_position(mzoom, marker='x',\n",
    "                                     color='k', ms=4, zorder=6, \n",
    "                                     label='Deployment locations')\n",
    "    else:\n",
    "        drifter.add_initial_position(mzoom, marker='x',\n",
    "                                     color='k', ms=4, zorder=6)\n",
    "    \n",
    "    plt.legend(loc=1, fontsize=14)\n",
    "    \n",
    "    if drifter.lon[0] > -.5:\n",
    "        logger.info(datafiles)\n",
    "        \n",
    "    if drifter.temperature is not None:\n",
    "        drifter.mask_temp(tmin, tmax)\n",
    "        scat = drifter.scatter_plot(mzoom, vmin=tmin, vmax=tmax, cmap=plt.cm.RdYlBu_r, zorder=4)\n",
    "    \n",
    "cb = plt.colorbar(scat, extend='both', shrink=0.8)\n",
    "cb.set_label('$^{\\circ}$C', rotation=0, ha='left', fontsize=16)\n",
    "\n",
    "plt.title(figtitle, fontsize=20)\n",
    "# plt.show()\n",
    "plt.savefig(os.path.join(figdir, figname), dpi=300, bbox_inches='tight',)\n",
    "plt.close()"
   ]
  },
  {
   "cell_type": "code",
   "execution_count": 70,
   "metadata": {},
   "outputs": [],
   "source": [
    "class Drifter(object):\n",
    "    \n",
    "    def __ini__(self, lon=None, lat=None, time=None, temperature=None, qclon=None, qclat=None):\n",
    "        self.lon = lon\n",
    "        self.lat = lat\n",
    "        self.time = time\n",
    "        self.temperature = temperature\n",
    "        self.qclon = qclon\n",
    "        self.qclat = qclat\n",
    "        self.timeunits = None\n",
    "        \n",
    "    def get_from_netcdf(self, datafile):\n",
    "        \"\"\"\n",
    "        Read the coordinates and the temperature from existing data file\n",
    "        \"\"\"\n",
    "        if os.path.exists(datafile):\n",
    "            with netCDF4.Dataset(datafile, 'r') as nc:\n",
    "                self.lon = nc.get_variables_by_attributes(standard_name='longitude')[0][:]\n",
    "                self.lat = nc.get_variables_by_attributes(standard_name='latitude')[0][:]\n",
    "                self.time = nc.get_variables_by_attributes(standard_name='time')[0][:]\n",
    "                self.timeunits = nc.get_variables_by_attributes(standard_name='time')[0].units\n",
    "                try:\n",
    "                    self.qclat = nc.get_variables_by_attributes(standard_name='latitude status_flag')[0][:]\n",
    "                except IndexError:\n",
    "                    self.qclat = None\n",
    "                \n",
    "                try:\n",
    "                    self.qclon = nc.get_variables_by_attributes(standard_name='longitude status_flag')[0][:]\n",
    "                except IndexError:\n",
    "                    self.qclon = None\n",
    "                try:\n",
    "                    self.temperature = nc.get_variables_by_attributes(standard_name='sea_water_temperature')[0][:]\n",
    "                except IndexError:\n",
    "                    self.temperature = None\n",
    "                    \n",
    "    def apply_qc_latlon(self, QC=[1]):\n",
    "        \"\"\"\n",
    "        Discard the measurements of which the position \n",
    "        don't have the indicated quality flag\n",
    "        \"\"\"\n",
    "        if (self.qclon is not None) and (self.qclat is not None):\n",
    "            badlon = [qc not in QC for qc in self.qclon]\n",
    "            badlat = [qc not in QC for qc in self.qclat]\n",
    "            badposition = np.logical_or(np.array(badlon), np.array(badlat))\n",
    "            self.lon = np.ma.masked_where(badposition, self.lon)\n",
    "            self.lat = np.ma.masked_where(badposition, self.lat)\n",
    "            \n",
    "    def mask_temp(self, tmin, tmax):\n",
    "        if self.temperature is not None:\n",
    "            self.temperature = np.ma.masked_outside(self.temperature, \n",
    "                                                    tmin, \n",
    "                                                    tmax, \n",
    "                                                    copy=True)\n",
    "            \n",
    "    def select_dates(self, finaldate, initialdate=None):\n",
    "        \"\"\"\n",
    "        Mask the time outside the mission period\n",
    "        \"\"\"\n",
    "        dates = netCDF4.num2date(self.time, self.timeunits)\n",
    "        if initialdate is not None:\n",
    "            self.lon = np.ma.masked_where(np.logical_or(dates > finaldate, dates < initialdate))\n",
    "            self.lat = np.ma.masked_where(np.logical_or(dates > finaldate, dates < initialdate))\n",
    "        else:\n",
    "            self.lon = np.ma.masked_where(dates > finaldate, self.lon)\n",
    "            self.lat = np.ma.masked_where(dates > finaldate, self.lat)\n",
    "        \n",
    "    def scatter_plot(self, m, **kwargs):\n",
    "        scat = m.scatter(self.lon, self.lat, s=5, c=self.temperature, latlon=True, **kwargs)\n",
    "        return scat\n",
    "    \n",
    "    def point_plot(self, m, **kwargs):\n",
    "        m.plot(self.lon, self.lat, latlon=True, linewidth=0, **kwargs)\n",
    "        \n",
    "    def add_initial_position(self, m, **kwargs):\n",
    "        m.plot(self.lon[0], self.lat[0], latlon=True, linewidth=0, **kwargs)"
   ]
  },
  {
   "cell_type": "code",
   "execution_count": 30,
   "metadata": {},
   "outputs": [
    {
     "data": {
      "text/plain": [
       "'/home/ctroupin/Data/Alborex/Drifters/dep0001_drifter-svp054_ime-svp019_L1_2014-05-25.nc'"
      ]
     },
     "execution_count": 30,
     "metadata": {},
     "output_type": "execute_result"
    }
   ],
   "source": [
    "datafiles"
   ]
  },
  {
   "cell_type": "code",
   "execution_count": 32,
   "metadata": {
    "collapsed": true
   },
   "outputs": [],
   "source": []
  },
  {
   "cell_type": "code",
   "execution_count": 41,
   "metadata": {},
   "outputs": [
    {
     "data": {
      "text/plain": [
       "(array([ 0,  1,  2,  3,  4,  5,  6,  7,  8,  9, 10, 11, 12, 13, 14, 15]),)"
      ]
     },
     "execution_count": 41,
     "metadata": {},
     "output_type": "execute_result"
    }
   ],
   "source": [
    "gooddates"
   ]
  },
  {
   "cell_type": "code",
   "execution_count": 51,
   "metadata": {},
   "outputs": [
    {
     "data": {
      "text/plain": [
       "'seconds since 1970-01-01 00:00:00'"
      ]
     },
     "execution_count": 51,
     "metadata": {},
     "output_type": "execute_result"
    }
   ],
   "source": [
    "drifter.timeunits"
   ]
  },
  {
   "cell_type": "code",
   "execution_count": null,
   "metadata": {
    "collapsed": true
   },
   "outputs": [],
   "source": []
  }
 ],
 "metadata": {
  "kernelspec": {
   "display_name": "Diva-python3.6",
   "language": "python",
   "name": "diva-python3.6"
  },
  "language_info": {
   "codemirror_mode": {
    "name": "ipython",
    "version": 3
   },
   "file_extension": ".py",
   "mimetype": "text/x-python",
   "name": "python",
   "nbconvert_exporter": "python",
   "pygments_lexer": "ipython3",
   "version": "3.6.0"
  }
 },
 "nbformat": 4,
 "nbformat_minor": 2
}
