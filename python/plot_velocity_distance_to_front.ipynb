{
 "cells": [
  {
   "cell_type": "markdown",
   "metadata": {},
   "source": [
    "Plot the velocity with respect to the distance to the front."
   ]
  },
  {
   "cell_type": "code",
   "execution_count": 2,
   "metadata": {},
   "outputs": [
    {
     "name": "stdout",
     "output_type": "stream",
     "text": [
      "importing configuration from alborexpaths\n"
     ]
    }
   ],
   "source": [
    "import alborexdata\n",
    "import alborexpaths\n",
    "import netCDF4\n",
    "import os\n",
    "import matplotlib.pyplot as plt\n",
    "from mpl_toolkits.basemap import Basemap \n",
    "import numpy as np\n",
    "import datetime\n",
    "import cmocean\n",
    "from geopy.distance import vincenty\n",
    "from importlib import reload"
   ]
  },
  {
   "cell_type": "code",
   "execution_count": 3,
   "metadata": {
    "collapsed": true
   },
   "outputs": [],
   "source": [
    "f = alborexdata.Front()\n",
    "f.get_from_file(alborexpaths.frontfile)\n",
    "f.smooth()"
   ]
  },
  {
   "cell_type": "markdown",
   "metadata": {
    "collapsed": true
   },
   "source": [
    "## Make the plot"
   ]
  },
  {
   "cell_type": "code",
   "execution_count": 6,
   "metadata": {
    "collapsed": true
   },
   "outputs": [],
   "source": [
    "nfiles = len(alborexpaths.drifterfiles)"
   ]
  },
  {
   "cell_type": "code",
   "execution_count": 7,
   "metadata": {},
   "outputs": [
    {
     "name": "stdout",
     "output_type": "stream",
     "text": [
      "1/25\n",
      "2/25\n",
      "3/25\n",
      "4/25\n",
      "5/25\n"
     ]
    },
    {
     "name": "stderr",
     "output_type": "stream",
     "text": [
      "/home/ctroupin/Publis/AlborEx-Data-Python/python/alborexdata.py:267: RuntimeWarning: divide by zero encountered in true_divide\n",
      "  self.velocity = distancevec / timevec\n",
      "/home/ctroupin/Publis/AlborEx-Data-Python/python/alborexdata.py:267: RuntimeWarning: invalid value encountered in true_divide\n",
      "  self.velocity = distancevec / timevec\n"
     ]
    },
    {
     "name": "stdout",
     "output_type": "stream",
     "text": [
      "6/25\n",
      "7/25\n",
      "8/25\n",
      "9/25\n",
      "10/25\n",
      "11/25\n",
      "12/25\n",
      "13/25\n",
      "14/25\n",
      "15/25\n",
      "16/25\n",
      "17/25\n",
      "18/25\n",
      "19/25\n",
      "20/25\n",
      "21/25\n",
      "22/25\n",
      "23/25\n",
      "24/25\n",
      "25/25\n"
     ]
    },
    {
     "data": {
      "image/png": "[encoded data removed]",
      "text/plain": [
       "<matplotlib.figure.Figure at 0x7f7231e283c8>"
      ]
     },
     "metadata": {},
     "output_type": "display_data"
    }
   ],
   "source": [
    "ii = 0\n",
    "plt.figure()\n",
    "for drifterfile in alborexpaths.drifterfiles:\n",
    "    ii += 1\n",
    "    print(str(ii) + \"/\" + str(nfiles))\n",
    "    d = alborexdata.Drifter()\n",
    "    d.get_from_netcdf(drifterfile)\n",
    "    # Apply quality flags\n",
    "    d.apply_qc_latlon(QC=[1])\n",
    "    # Select mission period\n",
    "    d.select_dates(finaldate=datetime.datetime(2014, 6, 1, 0, 0))\n",
    "    d.get_distance_front(f.lon, f.lat)\n",
    "    d.compute_velocity(velmax=5.)\n",
    "    plt.plot(d.distance2front[:-1], d.velocity, \"k.\")\n",
    "plt.xlim(0, 50000)\n",
    "plt.show()\n",
    "plt.close()"
   ]
  },
  {
   "cell_type": "code",
   "execution_count": null,
   "metadata": {
    "collapsed": true
   },
   "outputs": [],
   "source": []
  }
 ],
 "metadata": {
  "@webio": {
   "lastCommId": "94B5E25401EA475A8FA22F9A1C7837A9",
   "lastKernelId": "0e968185-7d4b-40b1-8adb-82eaa9df76fc"
  },
  "kernelspec": {
   "display_name": "Diva-python3.6",
   "language": "python",
   "name": "diva-python3.6"
  },
  "language_info": {
   "codemirror_mode": {
    "name": "ipython",
    "version": 3
   },
   "file_extension": ".py",
   "mimetype": "text/x-python",
   "name": "python",
   "nbconvert_exporter": "python",
   "pygments_lexer": "ipython3",
   "version": "3.6.0"
  }
 },
 "nbformat": 4,
 "nbformat_minor": 2
}
