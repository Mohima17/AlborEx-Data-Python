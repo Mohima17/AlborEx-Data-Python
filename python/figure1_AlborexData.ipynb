{
 "cells": [
  {
   "cell_type": "markdown",
   "metadata": {},
   "source": [
    "Main figure of the Alborex Data paper in ESSD journal.     \n",
    "Only show the position of all the deployments (to keep things simple)."
   ]
  },
  {
   "cell_type": "code",
   "execution_count": 1,
   "metadata": {
    "collapsed": true
   },
   "outputs": [],
   "source": [
    "import os\n",
    "import glob\n",
    "import json\n",
    "import logging\n",
    "import numpy as np\n",
    "import netCDF4 as netcdf\n",
    "import matplotlib.pyplot as plt\n",
    "from mpl_toolkits.basemap import Basemap\n",
    "from matplotlib import colors\n",
    "import datetime, time, calendar\n",
    "import matplotlib.text as text\n",
    "from matplotlib.path import Path\n",
    "import matplotlib.patches as patches\n",
    "from mpl_toolkits.axes_grid1.inset_locator import zoomed_inset_axes\n",
    "from mpl_toolkits.axes_grid1.inset_locator import mark_inset\n",
    "import alborexdata\n",
    "import alborex_functions\n",
    "from importlib import reload"
   ]
  },
  {
   "cell_type": "code",
   "execution_count": 30,
   "metadata": {},
   "outputs": [
    {
     "data": {
      "text/plain": [
       "<module 'alborexdata' from '/home/ctroupin/Publis/201703_AlborexData/python/alborexdata.py'>"
      ]
     },
     "execution_count": 30,
     "metadata": {},
     "output_type": "execute_result"
    }
   ],
   "source": [
    "reload(alborexdata)"
   ]
  },
  {
   "cell_type": "markdown",
   "metadata": {},
   "source": [
    "# Configuration\n",
    "Most of the configuration (file paths, domain, resolution, ...) is done in the json file `alborexconfig.json`."
   ]
  },
  {
   "cell_type": "code",
   "execution_count": 35,
   "metadata": {},
   "outputs": [
    {
     "data": {
      "text/plain": [
       "{'datadirs': {'adcp': '/home/ctroupin/Data/Alborex/ADCP/',\n",
       "  'drifters': '/home/ctroupin/Data/Alborex/Drifters',\n",
       "  'profilers': '/home/ctroupin/Data/Alborex/Profilers',\n",
       "  'sst': '/home/ctroupin/Data/Alborex/SST/'},\n",
       " 'datafiles': {'altimetry': '/home/ctroupin/DataOceano/AVISO/MedSea/Aviso_gridded/Alborex/dt_med_allsat_madt_uv_20140523_20141010.nc',\n",
       "  'coast': '/home/ctroupin/Data/Alborex/Coastline/coastline_f.dat',\n",
       "  'ctd': '/home/ctroupin/Data/Alborex/CTD/dep0007_socib-rv_scb-sbe9002_L1_2014-05-25.nc',\n",
       "  'ctdlegs': ['/home/ctroupin/Data/Alborex/CTD/ctd_positions_Leg1.txt',\n",
       "   '/home/ctroupin/Data/Alborex/CTD/ctd_positions_Leg2.txt'],\n",
       "  'gliders': ['/home/ctroupin/Data/Alborex/Gliders/dep0005_icoast00_ime-slcost000_L1_2014-05-25_data_dt.nc',\n",
       "   '/home/ctroupin/Data/Alborex/Gliders/dep0012_ideep00_ime-sldeep000_L1_2014-05-25_data_dt.nc'],\n",
       "  'rv': '/home/ctroupin/Data/Alborex/RV/dep0015_socib-rv_scb-pos001_L1_2014-05-25.nc'},\n",
       " 'domain': {'coordinates1': [-6.75, 3.001, 34.75, 40.0],\n",
       "  'coordinates2': [-1.0, -0.25, 36.65, 37.25],\n",
       "  'coordinates3': [-6.0, -5.25, 35.8, 36.2],\n",
       "  'resolution1': [1.0, 1.0],\n",
       "  'resolution2': [0.25, 0.25]},\n",
       " 'figdir': '/home/ctroupin/Publis/201703_AlborexData/figures'}"
      ]
     },
     "execution_count": 35,
     "metadata": {},
     "output_type": "execute_result"
    }
   ],
   "source": [
    "with open('alborexconfig.json') as json_data_file:\n",
    "    config = json.load(json_data_file)\n",
    "config"
   ]
  },
  {
   "cell_type": "markdown",
   "metadata": {},
   "source": [
    "## Flags for the plot"
   ]
  },
  {
   "cell_type": "code",
   "execution_count": 3,
   "metadata": {
    "collapsed": true
   },
   "outputs": [],
   "source": [
    "doplotsst, doplotvectors, doplotstream, doplotdrifters, doplotinset = 0, 0, 0, 1, 1"
   ]
  },
  {
   "cell_type": "markdown",
   "metadata": {},
   "source": [
    "## Logger"
   ]
  },
  {
   "cell_type": "code",
   "execution_count": 4,
   "metadata": {
    "collapsed": true
   },
   "outputs": [],
   "source": [
    "logger = alborexdata.configure_logging()\n",
    "logger.setLevel(logging.DEBUG)\n",
    "logging.info(\"Starting\")"
   ]
  },
  {
   "cell_type": "markdown",
   "metadata": {},
   "source": [
    "## Time interval for the drifters"
   ]
  },
  {
   "cell_type": "code",
   "execution_count": 6,
   "metadata": {
    "collapsed": true
   },
   "outputs": [],
   "source": [
    "tt = datetime.datetime(2014, 5, 25, 0, 0, 0)\n",
    "tt_end = datetime.datetime(2014, 6, 4, 0, 0, 0)\n",
    "time_min = int(tt.strftime('%s'))\n",
    "time_max = int(tt_end.strftime('%s'))\n",
    "time_init = '2014-05-25T000000'\n",
    "time_end = '2014-05-26T000000'"
   ]
  },
  {
   "cell_type": "markdown",
   "metadata": {},
   "source": [
    "## Colormap and other things related to pcolor"
   ]
  },
  {
   "cell_type": "code",
   "execution_count": 8,
   "metadata": {
    "collapsed": true
   },
   "outputs": [],
   "source": [
    "cmapsst = plt.cm.RdYlBu_r\n",
    "# Min and max values\n",
    "sstmin, sstmax = 16., 21.\n",
    "normsst = colors.Normalize(vmin=sstmin, vmax=sstmax)\n",
    "boundsst = np.arange(sstmin, sstmax + .001, 1.0)"
   ]
  },
  {
   "cell_type": "markdown",
   "metadata": {},
   "source": [
    "# Load data"
   ]
  },
  {
   "cell_type": "code",
   "execution_count": 16,
   "metadata": {},
   "outputs": [
    {
     "data": {
      "image/png": "[encoded data removed]",
      "text/plain": [
       "<matplotlib.figure.Figure at 0x7f65f4ae3080>"
      ]
     },
     "metadata": {},
     "output_type": "display_data"
    }
   ],
   "source": [
    "coordinates = config[\"domain\"][\"coordinates1\"]\n",
    "dlon, dlat = config[\"domain\"][\"resolution1\"]\n",
    "\n",
    "fig, m, ax = alborexdata.prepare_map(coordinates, res='l')\n",
    "alborexdata.add_map_grid(m, coordinates, dlon, dlat)\n",
    "m.drawcoastlines(linewidth=0.5)\n",
    "plt.show()\n",
    "plt.close()"
   ]
  },
  {
   "cell_type": "markdown",
   "metadata": {
    "collapsed": true
   },
   "source": [
    "## Load coast"
   ]
  },
  {
   "cell_type": "code",
   "execution_count": 22,
   "metadata": {},
   "outputs": [],
   "source": [
    "coastfile = config[\"datafiles\"][\"coast\"]\n",
    "loncoast, latcoast = alborexdata.read_lonlat_coast(coastfile)"
   ]
  },
  {
   "cell_type": "code",
   "execution_count": 31,
   "metadata": {},
   "outputs": [
    {
     "data": {
      "image/png": "[encoded data removed]",
      "text/plain": [
       "<matplotlib.figure.Figure at 0x7f65f2706748>"
      ]
     },
     "metadata": {},
     "output_type": "display_data"
    }
   ],
   "source": [
    "fig, m, ax = alborex_functions.prepare_map(coordinates, res='l')\n",
    "for i in range(0, len(loncoast)):\n",
    "    m.plot(np.array(loncoast[i]), np.array(latcoast[i]), color='k', linewidth=.25, latlon=True)\n",
    "alborexdata.add_map_grid(m, coordinates, dlon, dlat)\n",
    "plt.show()\n",
    "plt.close()"
   ]
  },
  {
   "cell_type": "markdown",
   "metadata": {},
   "source": [
    "## CTD"
   ]
  },
  {
   "cell_type": "code",
   "execution_count": 33,
   "metadata": {},
   "outputs": [],
   "source": [
    "ctd = alborexdata.CTD()\n",
    "ctd.get_from_netcdf(config[\"datafiles\"][\"ctd\"])\n",
    "lonCTD1, latCTD1 = alborexdata.load_lonloat_ctdleg(config[\"datafiles\"][\"ctdlegs\"][0])"
   ]
  },
  {
   "cell_type": "code",
   "execution_count": 34,
   "metadata": {},
   "outputs": [
    {
     "data": {
      "image/png": "[encoded data removed]",
      "text/plain": [
       "<matplotlib.figure.Figure at 0x7f65f260d390>"
      ]
     },
     "metadata": {},
     "output_type": "display_data"
    },
    {
     "data": {
      "image/png": "[encoded data removed]",
      "text/plain": [
       "<matplotlib.figure.Figure at 0x7f65f2506dd8>"
      ]
     },
     "metadata": {},
     "output_type": "display_data"
    }
   ],
   "source": [
    "fig, m, ax = alborex_functions.prepare_map(coordinates, res='l')\n",
    "alborexdata.add_map_grid(m, coordinates, dlon, dlat)\n",
    "for i in range(0, len(loncoast)):\n",
    "    m.plot(np.array(loncoast[i]), np.array(latcoast[i]), \n",
    "           color='k', linewidth=.25, latlon=True)\n",
    "    m.plot(lonCTD1, latCTD1, 'ko', ms=1, latlon=True)\n",
    "plt.show()\n",
    "plt.close()"
   ]
  },
  {
   "cell_type": "markdown",
   "metadata": {},
   "source": [
    "## Gliders"
   ]
  },
  {
   "cell_type": "code",
   "execution_count": 36,
   "metadata": {
    "collapsed": true
   },
   "outputs": [],
   "source": [
    "glider1 = alborexdata.Glider()\n",
    "glider1.get_from_netcdf(config[\"datafiles\"][\"gliders\"][0])\n",
    "glider2 = alborexdata.Glider()\n",
    "glider2.get_from_netcdf(config[\"datafiles\"][\"gliders\"][1])"
   ]
  },
  {
   "cell_type": "markdown",
   "metadata": {},
   "source": [
    "## Drifters"
   ]
  },
  {
   "cell_type": "code",
   "execution_count": 43,
   "metadata": {},
   "outputs": [],
   "source": [
    "drifterlist = sorted(glob.glob(os.path.join(config[\"datadirs\"][\"drifters\"], \"*nc\")))"
   ]
  },
  {
   "cell_type": "code",
   "execution_count": 39,
   "metadata": {},
   "outputs": [
    {
     "ename": "AttributeError",
     "evalue": "'str' object has no attribute 'product_list'",
     "output_type": "error",
     "traceback": [
      "\u001b[0;31m---------------------------------------------------------------------------\u001b[0m",
      "\u001b[0;31mAttributeError\u001b[0m                            Traceback (most recent call last)",
      "\u001b[0;32m<ipython-input-39-1fbe092084bb>\u001b[0m in \u001b[0;36m<module>\u001b[0;34m()\u001b[0m\n\u001b[1;32m     33\u001b[0m \u001b[0;34m\u001b[0m\u001b[0m\n\u001b[1;32m     34\u001b[0m     \u001b[0;32mfor\u001b[0m \u001b[0mdrifter\u001b[0m \u001b[0;32min\u001b[0m \u001b[0mdrifterlist\u001b[0m\u001b[0;34m:\u001b[0m\u001b[0;34m\u001b[0m\u001b[0m\n\u001b[0;32m---> 35\u001b[0;31m         \u001b[0mdrifter_opendap\u001b[0m \u001b[0;34m=\u001b[0m \u001b[0mdrifter\u001b[0m\u001b[0;34m.\u001b[0m\u001b[0mproduct_list\u001b[0m\u001b[0;34m[\u001b[0m\u001b[0;34m-\u001b[0m\u001b[0;36m1\u001b[0m\u001b[0;34m]\u001b[0m\u001b[0;34m.\u001b[0m\u001b[0mopendap\u001b[0m\u001b[0;34m\u001b[0m\u001b[0m\n\u001b[0m\u001b[1;32m     36\u001b[0m         \u001b[0;32mif\u001b[0m \u001b[0;34m\"2014-05-25\"\u001b[0m \u001b[0;32min\u001b[0m \u001b[0mdrifter_opendap\u001b[0m\u001b[0;34m:\u001b[0m\u001b[0;34m\u001b[0m\u001b[0m\n\u001b[1;32m     37\u001b[0m             \u001b[0;32mwith\u001b[0m \u001b[0mnetcdf\u001b[0m\u001b[0;34m.\u001b[0m\u001b[0mDataset\u001b[0m\u001b[0;34m(\u001b[0m\u001b[0mdrifter_opendap\u001b[0m\u001b[0;34m)\u001b[0m \u001b[0;32mas\u001b[0m \u001b[0mnc\u001b[0m\u001b[0;34m:\u001b[0m\u001b[0;34m\u001b[0m\u001b[0m\n",
      "\u001b[0;31mAttributeError\u001b[0m: 'str' object has no attribute 'product_list'"
     ]
    }
   ],
   "source": [
    "fig, m, ax = alborexdata.prepare_map(coordinates, \"l\")\n",
    "\n",
    "m.drawmapscale(-0.45, 35.1, -0.25, 35.1, 100, barstyle='simple', units='km', fontsize=12, zorder=3)\n",
    "\n",
    "# Labels\n",
    "xtext, ytext = m(coordinates[1] - .1, coordinates[2] + .25)\n",
    "#  plt.text(xtext, ytext, \"AFRICA\", va='center', ha='right',\n",
    "# fontsize=18, bbox=dict(fc='w', ec=\"w\", lw=0.5,alpha=0.8, pad=5.0))\n",
    "\n",
    "xa1, ya1 = m(-2.5, 37.7)\n",
    "ax.annotate(\"SPAIN\", xy=(xa1,ya1), xytext=(xa1,ya1),\n",
    "            xycoords='data', textcoords='data', fontsize=16\n",
    "            )\n",
    "\n",
    "xa1, ya1 = m(-6, 34.8)\n",
    "xa2, ya2 = m(-6, 34.8)\n",
    "ax.annotate(\"AFRICA\", xy=(xa1,ya1), xytext=(xa2,ya2),\n",
    "            xycoords='data', textcoords='data', fontsize=16\n",
    "            )\n",
    "\n",
    "xa1, ya1 = m(-3, 35.7)\n",
    "xa2, ya2 = m(-3, 35.7)\n",
    "ax.annotate(\"Alboran Sea\", xy=(xa1,ya1), xytext=(xa2,ya2),\n",
    "            xycoords='data', textcoords='data', fontsize=16,\n",
    "            zorder=7\n",
    "            )\n",
    "\n",
    "# Add drifter trajectories on map\n",
    "# -------------------------------\n",
    "if doplotdrifters:\n",
    "\n",
    "    londriftertotal, latdriftertotal, ndrifters = 0, 0, 0\n",
    "\n",
    "    for drifter in drifterlist:\n",
    "        with netcdf.Dataset(drifter_opendap) as nc:\n",
    "                timedrifter = nc.variables['time'][:]\n",
    "                goodtime = np.where((timedrifter > time_min) & (timedrifter < time_max))[0]\n",
    "                londrifter = nc.variables['LON'][goodtime]\n",
    "                latdrifter = nc.variables['LAT'][goodtime]\n",
    "                londrifter, latdrifter = m(londrifter, latdrifter)\n",
    "                m.plot(londrifter, latdrifter, 'ko', ms=0.1, alpha=.85, zorder=5)\n",
    "                londriftertotal += londrifter[0]\n",
    "                latdriftertotal += latdrifter[0]\n",
    "                ndrifters += 1\n",
    "    add_logo_on_map(driferlogo, ax, [londriftertotal / ndrifters, latdriftertotal / ndrifters], 0.1, zorder=6)\n",
    "\n",
    "logger.info(\"Add rectangle for experiment\")\n",
    "patch = create_rect_patch(coordinates2, m, 0.1)\n",
    "ax.add_patch(patch)\n",
    "# and for Gibraltar\n",
    "# patch = create_rect_patch(coordinates3, m, 0.2)\n",
    "# ax.add_patch(patch)\n",
    "\n",
    "# CTD and gliders\n",
    "# m.plot(lonCTD,latCTD,'ko',ms=1, zorder=6)\n",
    "\n",
    "# Coastline and continent\n",
    "m.plot(loncoast2, latcoast2, 'k-', lw=0.1, zorder=4)\n",
    "m.fillcontinents(ax=ax, color='0.9', zorder=2)\n",
    "\n",
    "# plt.title(r\"25$-$31 May, 2014\", fontsize=20)\n",
    "\n",
    "# Plot inset with CTD and gliders\n",
    "if doplotinset:\n",
    "    axins = zoomed_inset_axes(ax, 4.5, loc=2)\n",
    "    n1, n2 = m(coordinates2[0], coordinates2[2])\n",
    "    n3, n4 = m(coordinates2[1], coordinates2[3])\n",
    "    axins.set_xlim(n1, n3)\n",
    "    axins.set_ylim(n2, n4)\n",
    "    plt.gca().xaxis.set_major_locator(plt.NullLocator())\n",
    "    plt.gca().yaxis.set_major_locator(plt.NullLocator())\n",
    "\n",
    "    # Add gliders tracks and CTD casts\n",
    "    NN = 34\n",
    "\n",
    "    axins.plot(lonCTD[:NN], latCTD[:NN], 'ks-', lw=0.5, color=\".75\", ms=5, zorder=2,\n",
    "               label=r\"CTD 1st leg ($\\times$ 34)\", alpha=.7)\n",
    "    axins.plot(lonCTD[NN:], latCTD[NN:], 'kx-', lw=0.2, ms=2.5, zorder=2, label=r\"CTD 2nd leg ($\\times$ 28)\",\n",
    "               alpha=.7)\n",
    "\n",
    "    axins.plot(longlider1, latglider1, '-', lw=3, color='k', label=\"Deep glider\", zorder=3)\n",
    "    axins.plot(longlider1, latglider1, '--', lw=3, color='.75', zorder=3)\n",
    "\n",
    "    axins.plot(longlider2, latglider2, '-', lw=1.5, color='k', label=\"Coastal glider\", zorder=4)\n",
    "    axins.plot(longlider2, latglider2, '--', lw=1.5, color='.75', zorder=4)\n",
    "\n",
    "    if doplotdrifters:\n",
    "        axins.plot(londriftertotal / ndrifters, latdriftertotal / ndrifters, 'ko', ms=0.1,\n",
    "                   label=r\"Drifters ($\\times$ 25)\")\n",
    "    if doplotsst:\n",
    "        axins.pcolormesh(x, y, sst, cmap=cmapsst, norm=normsst, edgecolor='none')\n",
    "\n",
    "    axins.legend(bbox_to_anchor=(1.05, 1), loc=2, borderaxespad=0., fontsize=12)\n",
    "\n",
    "    add_logo_on_map(gliderlogo, axins, [longlider1[0], latglider1[0]], 0.1, zorder=6)\n",
    "    add_logo_on_map(gliderlogo, axins, [longlider2[0], latglider2[0]], 0.1, zorder=6)\n",
    "\n",
    "    mark_inset(ax, axins, loc1=1, loc2=3, fc=\"none\", ec=\"0.5\")\n",
    "\n",
    "\"\"\"\n",
    "plt.savefig(os.path.join(figdir, figname), dpi=300, facecolor='w', edgecolor='w',\n",
    "            transparent=False, bbox_inches='tight', pad_inches=0.1)\n",
    "plt.savefig(os.path.join(figdir, figname + '.eps'), dpi=300, facecolor='w', edgecolor='w',\n",
    "            transparent=False, bbox_inches='tight', pad_inches=0.1)\n",
    "\"\"\"\n",
    "plt.show()\n",
    "plt.close()"
   ]
  },
  {
   "cell_type": "code",
   "execution_count": null,
   "metadata": {
    "collapsed": true
   },
   "outputs": [],
   "source": []
  }
 ],
 "metadata": {
  "kernelspec": {
   "display_name": "Diva-python3.6",
   "language": "python",
   "name": "diva-python3.6"
  },
  "language_info": {
   "codemirror_mode": {
    "name": "ipython",
    "version": 3
   },
   "file_extension": ".py",
   "mimetype": "text/x-python",
   "name": "python",
   "nbconvert_exporter": "python",
   "pygments_lexer": "ipython3",
   "version": "3.6.0"
  }
 },
 "nbformat": 4,
 "nbformat_minor": 2
}
