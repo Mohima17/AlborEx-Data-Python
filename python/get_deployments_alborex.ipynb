{
 "cells": [
  {
   "cell_type": "markdown",
   "metadata": {},
   "source": [
    "Example of how to obtain the list of OPeNDAP links using the SOCIB DataDiscovery service."
   ]
  },
  {
   "cell_type": "code",
   "execution_count": 131,
   "metadata": {},
   "outputs": [],
   "source": [
    "import http\n",
    "import requests\n",
    "import json\n",
    "import logging\n",
    "import numpy as np\n",
    "import matplotlib.pyplot as plt\n",
    "from datetime import datetime\n",
    "import netCDF4\n",
    "%matplotlib inline"
   ]
  },
  {
   "cell_type": "markdown",
   "metadata": {},
   "source": [
    "# Parameters"
   ]
  },
  {
   "cell_type": "code",
   "execution_count": 143,
   "metadata": {
    "collapsed": true
   },
   "outputs": [],
   "source": [
    "APIservice = \"http://apps.socib.es/DataDiscovery/list-platforms\"\n",
    "dateinit = \"2014-05-24T000000\"\n",
    "dateend = \"2014-06-03T000000\"\n",
    "instrument = \"surface%20drifter\"\n",
    "instrument2 = \"profiler%20drifter\""
   ]
  },
  {
   "cell_type": "code",
   "execution_count": 136,
   "metadata": {
    "collapsed": true
   },
   "outputs": [],
   "source": [
    "logger = logging.getLogger()\n",
    "logger.setLevel(logging.DEBUG)\n",
    "logging.basicConfig(level=logging.DEBUG)"
   ]
  },
  {
   "cell_type": "markdown",
   "metadata": {},
   "source": [
    "# Request"
   ]
  },
  {
   "cell_type": "code",
   "execution_count": 137,
   "metadata": {},
   "outputs": [],
   "source": [
    "datarequest = \"{0}?init_datetime={1}&end_datetime={2}&instrument_type={3}\".format(APIservice, \n",
    "                                                                                  dateinit, dateend, instrument)"
   ]
  },
  {
   "cell_type": "code",
   "execution_count": 112,
   "metadata": {},
   "outputs": [
    {
     "name": "stderr",
     "output_type": "stream",
     "text": [
      "INFO:root:http://apps.socib.es/DataDiscovery/list-platforms?init_datetime=2014-05-24T000000&end_datetime=2014-06-03T000000&instrument_type=surface%20drifter\n"
     ]
    }
   ],
   "source": [
    "logger.info(datarequest)"
   ]
  },
  {
   "cell_type": "code",
   "execution_count": 116,
   "metadata": {},
   "outputs": [
    {
     "name": "stderr",
     "output_type": "stream",
     "text": [
      "DEBUG:requests.packages.urllib3.connectionpool:Starting new HTTP connection (1): apps.socib.es\n",
      "DEBUG:requests.packages.urllib3.connectionpool:http://apps.socib.es:80 \"GET /DataDiscovery/list-platforms?init_datetime=2014-05-24T000000&end_datetime=2014-06-03T000000&instrument_type=surface%20drifter HTTP/1.1\" 200 2857\n",
      "INFO:root:Connection status = OK\n"
     ]
    }
   ],
   "source": [
    "response = requests.get(datarequest, verify=False)\n",
    "logging.info(\"Connection status = {0}\".format(response.reason))"
   ]
  },
  {
   "cell_type": "markdown",
   "metadata": {},
   "source": [
    "# Process the JSON"
   ]
  },
  {
   "cell_type": "code",
   "execution_count": 117,
   "metadata": {
    "collapsed": true
   },
   "outputs": [],
   "source": [
    "jsonresponse = json.loads(response.content.decode())"
   ]
  },
  {
   "cell_type": "markdown",
   "metadata": {},
   "source": [
    "Create list of url's "
   ]
  },
  {
   "cell_type": "code",
   "execution_count": 140,
   "metadata": {},
   "outputs": [],
   "source": [
    "filelist = []\n",
    "for deployments in jsonresponse:\n",
    "    for jsonInstrumentList in deployments['jsonInstrumentList']:\n",
    "        for jsonDeploymentList in jsonInstrumentList['jsonDeploymentList']:\n",
    "            if 'ALBOREX' in jsonDeploymentList['name']:\n",
    "                filelist.append(jsonDeploymentList['productsByProcessingLevel']['L1'][0])"
   ]
  },
  {
   "cell_type": "code",
   "execution_count": 142,
   "metadata": {},
   "outputs": [],
   "source": [
    "with open(\"alborexDrifterList.txt\", 'w') as f:\n",
    "    for urls in filelist:\n",
    "        f.write(urls + '\\n')"
   ]
  },
  {
   "cell_type": "markdown",
   "metadata": {},
   "source": [
    "# Profiling drifters"
   ]
  },
  {
   "cell_type": "code",
   "execution_count": 144,
   "metadata": {},
   "outputs": [
    {
     "name": "stderr",
     "output_type": "stream",
     "text": [
      "DEBUG:requests.packages.urllib3.connectionpool:Starting new HTTP connection (1): apps.socib.es\n",
      "DEBUG:requests.packages.urllib3.connectionpool:http://apps.socib.es:80 \"GET /DataDiscovery/list-platforms?init_datetime=2014-05-24T000000&end_datetime=2014-06-03T000000&instrument_type=profiler%20drifter HTTP/1.1\" 200 569\n"
     ]
    }
   ],
   "source": [
    "datarequest = \"{0}?init_datetime={1}&end_datetime={2}&instrument_type={3}\".format(APIservice, \n",
    "                                                                                  dateinit, dateend, instrument2)\n",
    "response = requests.get(datarequest, verify=False)\n",
    "jsonresponse = json.loads(response.content.decode())"
   ]
  },
  {
   "cell_type": "code",
   "execution_count": 147,
   "metadata": {
    "collapsed": true
   },
   "outputs": [],
   "source": [
    "profilerfilelist = []\n",
    "for deployments in jsonresponse:\n",
    "    for jsonInstrumentList in deployments['jsonInstrumentList']:\n",
    "        for jsonDeploymentList in jsonInstrumentList['jsonDeploymentList']:\n",
    "            if 'ALBOREX' in jsonDeploymentList['name']:\n",
    "                profilerfilelist.append(jsonDeploymentList['productsByProcessingLevel']['L1'][0])"
   ]
  },
  {
   "cell_type": "code",
   "execution_count": 148,
   "metadata": {},
   "outputs": [
    {
     "data": {
      "text/plain": [
       "['http://thredds.socib.es/thredds/dodsC/drifter/profiler_drifter/profiler_drifter_arvora3001-ogs_arvora3001/L1/2014/dep0001_profiler-drifter-arvora3001_ogs-arvora3001_L1_2014-05-25.nc',\n",
       " 'http://thredds.socib.es/thredds/dodsC/drifter/profiler_drifter/profiler_drifter_provbioll001-ogs_provbioll001/L1/2014/dep0001_profiler-drifter-provbioll001_ogs-provbioll001_L1_2014-05-25.nc']"
      ]
     },
     "execution_count": 148,
     "metadata": {},
     "output_type": "execute_result"
    }
   ],
   "source": [
    "profilerfilelist"
   ]
  },
  {
   "cell_type": "code",
   "execution_count": 149,
   "metadata": {
    "collapsed": true
   },
   "outputs": [],
   "source": [
    "with open(\"alborexProfilerList.txt\", 'w') as f:\n",
    "    for urls in filelist:\n",
    "        f.write(urls + '\\n')"
   ]
  }
 ],
 "metadata": {
  "kernelspec": {
   "display_name": "Python 3",
   "language": "python",
   "name": "python3"
  },
  "language_info": {
   "codemirror_mode": {
    "name": "ipython",
    "version": 3
   },
   "file_extension": ".py",
   "mimetype": "text/x-python",
   "name": "python",
   "nbconvert_exporter": "python",
   "pygments_lexer": "ipython3",
   "version": "3.5.2"
  }
 },
 "nbformat": 4,
 "nbformat_minor": 2
}
