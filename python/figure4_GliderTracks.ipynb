{
 "cells": [
  {
   "cell_type": "code",
   "execution_count": 1,
   "metadata": {
    "collapsed": true
   },
   "outputs": [],
   "source": [
    "import alborex_functions\n",
    "import alborexdata\n",
    "import netCDF4\n",
    "import glob\n",
    "import os\n",
    "import matplotlib.pyplot as plt\n",
    "from mpl_toolkits.basemap import Basemap \n",
    "import numpy as np\n",
    "import datetime\n",
    "from importlib import reload"
   ]
  },
  {
   "cell_type": "code",
   "execution_count": 2,
   "metadata": {},
   "outputs": [
    {
     "data": {
      "text/plain": [
       "<module 'alborexdata' from '/home/ctroupin/Publis/201703_AlborexData/python/alborexdata.py'>"
      ]
     },
     "execution_count": 2,
     "metadata": {},
     "output_type": "execute_result"
    }
   ],
   "source": [
    "reload(alborexdata)"
   ]
  },
  {
   "cell_type": "code",
   "execution_count": 3,
   "metadata": {
    "collapsed": true
   },
   "outputs": [],
   "source": [
    "import warnings\n",
    "import matplotlib.cbook\n",
    "warnings.filterwarnings(\"ignore\",category=matplotlib.cbook.mplDeprecation)"
   ]
  },
  {
   "cell_type": "markdown",
   "metadata": {
    "collapsed": true
   },
   "source": [
    "# Configuration"
   ]
  },
  {
   "cell_type": "markdown",
   "metadata": {},
   "source": [
    "Create a logger"
   ]
  },
  {
   "cell_type": "code",
   "execution_count": 4,
   "metadata": {
    "collapsed": true
   },
   "outputs": [],
   "source": [
    "logger = alborexdata.configure_logging(\"./logs/alborexFigure4.log\")"
   ]
  },
  {
   "cell_type": "markdown",
   "metadata": {},
   "source": [
    "Domain"
   ]
  },
  {
   "cell_type": "code",
   "execution_count": 5,
   "metadata": {
    "collapsed": true
   },
   "outputs": [],
   "source": [
    "coordinates = [-6.75, 3.001, 34.75, 40.]\n",
    "coordinates2 = [-1, -0.25, 36.65, 37.25]"
   ]
  },
  {
   "cell_type": "markdown",
   "metadata": {},
   "source": [
    "Create a list of netCDF files containing SST"
   ]
  },
  {
   "cell_type": "code",
   "execution_count": 9,
   "metadata": {
    "collapsed": true
   },
   "outputs": [],
   "source": [
    "figdir = \"../figures/drifters/\"\n",
    "datadir = \"/home/ctroupin/Data/Alborex/Gliders/\""
   ]
  },
  {
   "cell_type": "code",
   "execution_count": 11,
   "metadata": {},
   "outputs": [
    {
     "name": "stderr",
     "output_type": "stream",
     "text": [
      "2018-01-03 20:37:00,480 - alborex_logger - INFO - Working on 2 data files\n"
     ]
    }
   ],
   "source": [
    "coastfile = \"../data/coastline_cartex_f3.txt\"\n",
    "datafilelist = sorted(glob.glob(os.path.join(datadir, '*L1*.nc')))\n",
    "nfiles = len(datafilelist)\n",
    "if nfiles == 0:\n",
    "    logger.warning(\"No SST files in directory {0}\".format(datadir))\n",
    "else:\n",
    "    logger.info(\"Working on {0} data files\".format(nfiles))"
   ]
  },
  {
   "cell_type": "markdown",
   "metadata": {},
   "source": [
    "# Data reading and plotting\n",
    "\n",
    "Make figure directory if necessary."
   ]
  },
  {
   "cell_type": "code",
   "execution_count": 8,
   "metadata": {},
   "outputs": [
    {
     "name": "stderr",
     "output_type": "stream",
     "text": [
      "2018-01-03 20:12:45,999 - alborex_logger - DEBUG - Figure directory ../figures/drifters/ already exists\n"
     ]
    }
   ],
   "source": [
    "if os.path.isdir(figdir):\n",
    "    logger.debug(\"Figure directory {0} already exists\".format(figdir))\n",
    "else:\n",
    "    os.makedirs(figdir)\n",
    "    logger.debug(\"Creating figure directory {0}\".format(figdir))"
   ]
  },
  {
   "cell_type": "markdown",
   "metadata": {},
   "source": [
    "## Coastline"
   ]
  },
  {
   "cell_type": "code",
   "execution_count": 54,
   "metadata": {},
   "outputs": [
    {
     "name": "stderr",
     "output_type": "stream",
     "text": [
      "2018-01-03 22:02:16,919 - alborex_logger - INFO - ../data/coastline_cartex_f3.txt exists\n"
     ]
    }
   ],
   "source": [
    "coastdir = '../data/'\n",
    "coastfile = os.path.join(coastdir, 'coastline_cartex_f3.txt')\n",
    "\n",
    "if os.path.exists(coastfile):\n",
    "    logger.info(\"{0} exists\".format(coastfile))\n",
    "    loncoast, latcoast = alborexdata.read_lonlat_coast(coastfile)\n",
    "else:\n",
    "    logger.warning(\"{0} does't exist\".format(coastfile))  "
   ]
  },
  {
   "cell_type": "markdown",
   "metadata": {},
   "source": [
    "Create the projection (only once)"
   ]
  },
  {
   "cell_type": "code",
   "execution_count": 55,
   "metadata": {
    "collapsed": true
   },
   "outputs": [],
   "source": [
    "m = Basemap(projection='merc', llcrnrlon=coordinates2[0], llcrnrlat=coordinates2[2],\n",
    "            urcrnrlon=coordinates2[1], urcrnrlat=coordinates2[3],\n",
    "            lat_ts=0.5 * (coordinates2[2] + coordinates2[3]), resolution='h')"
   ]
  },
  {
   "cell_type": "markdown",
   "metadata": {},
   "source": [
    "## Loop on the files"
   ]
  },
  {
   "cell_type": "code",
   "execution_count": 56,
   "metadata": {},
   "outputs": [
    {
     "name": "stderr",
     "output_type": "stream",
     "text": [
      "2018-01-03 22:02:25,407 - alborex_logger - INFO - Making figure glider_tracks\n"
     ]
    },
    {
     "ename": "AttributeError",
     "evalue": "'numpy.ndarray' object has no attribute 'compressed'",
     "output_type": "error",
     "traceback": [
      "\u001b[0;31m---------------------------------------------------------------------------\u001b[0m",
      "\u001b[0;31mAttributeError\u001b[0m                            Traceback (most recent call last)",
      "\u001b[0;32m<ipython-input-56-eb94f384bda7>\u001b[0m in \u001b[0;36m<module>\u001b[0;34m()\u001b[0m\n\u001b[1;32m     25\u001b[0m \u001b[0;34m\u001b[0m\u001b[0m\n\u001b[1;32m     26\u001b[0m     \u001b[0;31m# Remove masked values\u001b[0m\u001b[0;34m\u001b[0m\u001b[0;34m\u001b[0m\u001b[0m\n\u001b[0;32m---> 27\u001b[0;31m     \u001b[0mgliderX\u001b[0m\u001b[0;34m.\u001b[0m\u001b[0mremove_masked_coords\u001b[0m\u001b[0;34m(\u001b[0m\u001b[0;34m)\u001b[0m\u001b[0;34m\u001b[0m\u001b[0m\n\u001b[0m\u001b[1;32m     28\u001b[0m \u001b[0;34m\u001b[0m\u001b[0m\n\u001b[1;32m     29\u001b[0m \u001b[0;34m\u001b[0m\u001b[0m\n",
      "\u001b[0;32m<ipython-input-45-058098946746>\u001b[0m in \u001b[0;36mremove_masked_coords\u001b[0;34m(self)\u001b[0m\n\u001b[1;32m      3\u001b[0m \u001b[0;34m\u001b[0m\u001b[0m\n\u001b[1;32m      4\u001b[0m     \u001b[0;32mdef\u001b[0m \u001b[0mremove_masked_coords\u001b[0m\u001b[0;34m(\u001b[0m\u001b[0mself\u001b[0m\u001b[0;34m)\u001b[0m\u001b[0;34m:\u001b[0m\u001b[0;34m\u001b[0m\u001b[0m\n\u001b[0;32m----> 5\u001b[0;31m         \u001b[0mself\u001b[0m\u001b[0;34m.\u001b[0m\u001b[0mlon\u001b[0m \u001b[0;34m=\u001b[0m \u001b[0mself\u001b[0m\u001b[0;34m.\u001b[0m\u001b[0mlon\u001b[0m\u001b[0;34m.\u001b[0m\u001b[0mcompressed\u001b[0m\u001b[0;34m(\u001b[0m\u001b[0;34m)\u001b[0m\u001b[0;34m\u001b[0m\u001b[0m\n\u001b[0m\u001b[1;32m      6\u001b[0m         \u001b[0mself\u001b[0m\u001b[0;34m.\u001b[0m\u001b[0mlat\u001b[0m \u001b[0;34m=\u001b[0m \u001b[0mself\u001b[0m\u001b[0;34m.\u001b[0m\u001b[0mlat\u001b[0m\u001b[0;34m.\u001b[0m\u001b[0mcompressed\u001b[0m\u001b[0;34m(\u001b[0m\u001b[0;34m)\u001b[0m\u001b[0;34m\u001b[0m\u001b[0m\n",
      "\u001b[0;31mAttributeError\u001b[0m: 'numpy.ndarray' object has no attribute 'compressed'"
     ]
    }
   ],
   "source": [
    "figname = \"glider_tracks\"\n",
    "figtitle = \"Glider tracks\"\n",
    "logger.info(\"Making figure {0}\".format(figname))\n",
    "\n",
    "fig = plt.figure(figsize=(10, 10))\n",
    "ax = plt.subplot(111)\n",
    "m.ax = ax\n",
    "\n",
    "# Add the coastline\n",
    "for i in range(0, len(loncoast)):\n",
    "    m.plot(np.array(loncoast[i]), np.array(latcoast[i]), \n",
    "           color='k', linewidth=.5, latlon=True)\n",
    "\n",
    "alborexdata.add_map_grid(m, coordinates, dlon=2., dlat=2.,\n",
    "                         fontname='Times New Roman', fontsize=14, \n",
    "                         linewidth=0.2, zorder=1, color=\".6\")\n",
    "    \n",
    "for datafiles in datafilelist:\n",
    "    \n",
    "    # logger.debug(\"Working on file: {0}\".format(os.path.basename(datafiles)))\n",
    "    \n",
    "    # Read data from file\n",
    "    glider = Glider()\n",
    "    glider.get_from_netcdf(datafiles)\n",
    "        \n",
    "    # Remove masked values\n",
    "    glider.remove_masked_coords()\n",
    "\n",
    "    # Add to plot\n",
    "    glider.point_plot(m, marker='.', linestyle=':',\n",
    "                       color=\".3\", ms=.1, zorder=3)    \n",
    "        \n",
    "    if drifter.temperature is not None:\n",
    "        # drifter.mask_temp(tmin, tmax)\n",
    "        drifter.select_dates(finaldate=datetime.datetime(2014, 6, 1, 0, 0))\n",
    "        scat = drifter.scatter_plot(m, vmin=tmin, vmax=tmax, s=3,\n",
    "                                    cmap=plt.cm.RdYlBu_r, zorder=4)\n",
    "    \n",
    "cb = plt.colorbar(scat, extend='both', shrink=0.6)\n",
    "cb.set_label('$^{\\circ}$C', rotation=0, ha='left', fontsize=16)\n",
    "\n",
    "xtext1, ytext1 = m(-3.2, 37.)\n",
    "xfig1, yfig1 = m(coordinates2[0], coordinates2[2])\n",
    "\n",
    "plt.title(figtitle, fontsize=20)\n",
    "# plt.show()\n",
    "plt.savefig(os.path.join(figdir, figname), dpi=300, bbox_inches='tight',)\n",
    "plt.close()"
   ]
  },
  {
   "cell_type": "code",
   "execution_count": 45,
   "metadata": {},
   "outputs": [],
   "source": [
    "class Glider(alborexdata.Drifter):\n",
    "    \n",
    "    \n",
    "    def remove_masked_coords(self):\n",
    "        self.lon = self.lon.compressed()\n",
    "        self.lat = self.lat.compressed()"
   ]
  },
  {
   "cell_type": "code",
   "execution_count": 47,
   "metadata": {
    "collapsed": true
   },
   "outputs": [],
   "source": []
  },
  {
   "cell_type": "code",
   "execution_count": 52,
   "metadata": {},
   "outputs": [
    {
     "data": {
      "image/png": "[encoded data removed]",
      "text/plain": [
       "<matplotlib.figure.Figure at 0x7f574a461f60>"
      ]
     },
     "metadata": {},
     "output_type": "display_data"
    }
   ],
   "source": [
    "plt.figure()\n",
    "gliderX.point_plot(m, marker='.', linestyle=':',\n",
    "                   color=\".3\", ms=.1, zorder=3, alpha=.7)    \n",
    "plt.show()\n",
    "plt.close()"
   ]
  }
 ],
 "metadata": {
  "kernelspec": {
   "display_name": "Diva-python3.6",
   "language": "python",
   "name": "diva-python3.6"
  },
  "language_info": {
   "codemirror_mode": {
    "name": "ipython",
    "version": 3
   },
   "file_extension": ".py",
   "mimetype": "text/x-python",
   "name": "python",
   "nbconvert_exporter": "python",
   "pygments_lexer": "ipython3",
   "version": "3.6.0"
  }
 },
 "nbformat": 4,
 "nbformat_minor": 2
}
