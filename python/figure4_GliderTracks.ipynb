{
 "cells": [
  {
   "cell_type": "code",
   "execution_count": 66,
   "metadata": {
    "collapsed": true
   },
   "outputs": [],
   "source": [
    "import alborex_functions\n",
    "import alborexdata\n",
    "import netCDF4\n",
    "import glob\n",
    "import os\n",
    "import matplotlib.pyplot as plt\n",
    "from mpl_toolkits.basemap import Basemap \n",
    "import numpy as np\n",
    "import datetime\n",
    "from importlib import reload"
   ]
  },
  {
   "cell_type": "code",
   "execution_count": 67,
   "metadata": {},
   "outputs": [
    {
     "data": {
      "text/plain": [
       "<module 'alborexdata' from '/home/ctroupin/Publis/201703_AlborexData/python/alborexdata.py'>"
      ]
     },
     "execution_count": 67,
     "metadata": {},
     "output_type": "execute_result"
    }
   ],
   "source": [
    "reload(alborexdata)"
   ]
  },
  {
   "cell_type": "code",
   "execution_count": 3,
   "metadata": {
    "collapsed": true
   },
   "outputs": [],
   "source": [
    "import warnings\n",
    "import matplotlib.cbook\n",
    "warnings.filterwarnings(\"ignore\",category=matplotlib.cbook.mplDeprecation)"
   ]
  },
  {
   "cell_type": "markdown",
   "metadata": {
    "collapsed": true
   },
   "source": [
    "# Configuration"
   ]
  },
  {
   "cell_type": "markdown",
   "metadata": {},
   "source": [
    "Create a logger"
   ]
  },
  {
   "cell_type": "code",
   "execution_count": 4,
   "metadata": {
    "collapsed": true
   },
   "outputs": [],
   "source": [
    "logger = alborexdata.configure_logging(\"./logs/alborexFigure4.log\")"
   ]
  },
  {
   "cell_type": "markdown",
   "metadata": {},
   "source": [
    "Domain"
   ]
  },
  {
   "cell_type": "code",
   "execution_count": 5,
   "metadata": {
    "collapsed": true
   },
   "outputs": [],
   "source": [
    "coordinates = [-6.75, 3.001, 34.75, 40.]\n",
    "coordinates2 = [-1, -0.25, 36.65, 37.25]"
   ]
  },
  {
   "cell_type": "markdown",
   "metadata": {},
   "source": [
    "Create a list of netCDF files containing SST"
   ]
  },
  {
   "cell_type": "code",
   "execution_count": 153,
   "metadata": {
    "collapsed": true
   },
   "outputs": [],
   "source": [
    "figdir = \"../figures/gliders/\"\n",
    "sstdir = \"/home/ctroupin/Data/Alborex/SST/\"\n",
    "datadir = \"/home/ctroupin/Data/Alborex/Gliders/\""
   ]
  },
  {
   "cell_type": "code",
   "execution_count": 7,
   "metadata": {},
   "outputs": [
    {
     "name": "stderr",
     "output_type": "stream",
     "text": [
      "2018-01-05 16:29:58,060 - alborex_logger - INFO - Working on 2 data files\n"
     ]
    }
   ],
   "source": [
    "coastfile = \"../data/coastline_cartex_f3.txt\"\n",
    "datafilelist = sorted(glob.glob(os.path.join(datadir, '*L1*.nc')))\n",
    "nfiles = len(datafilelist)\n",
    "if nfiles == 0:\n",
    "    logger.warning(\"No SST files in directory {0}\".format(datadir))\n",
    "else:\n",
    "    logger.info(\"Working on {0} data files\".format(nfiles))"
   ]
  },
  {
   "cell_type": "markdown",
   "metadata": {},
   "source": [
    "# Data reading and plotting\n",
    "\n",
    "Make figure directory if necessary."
   ]
  },
  {
   "cell_type": "code",
   "execution_count": 8,
   "metadata": {},
   "outputs": [
    {
     "name": "stderr",
     "output_type": "stream",
     "text": [
      "2018-01-05 16:30:00,446 - alborex_logger - DEBUG - Figure directory ../figures/gliders/ already exists\n"
     ]
    }
   ],
   "source": [
    "if os.path.isdir(figdir):\n",
    "    logger.debug(\"Figure directory {0} already exists\".format(figdir))\n",
    "else:\n",
    "    os.makedirs(figdir)\n",
    "    logger.debug(\"Creating figure directory {0}\".format(figdir))"
   ]
  },
  {
   "cell_type": "markdown",
   "metadata": {},
   "source": [
    "## Coastline"
   ]
  },
  {
   "cell_type": "code",
   "execution_count": 9,
   "metadata": {},
   "outputs": [
    {
     "name": "stderr",
     "output_type": "stream",
     "text": [
      "2018-01-05 16:30:02,457 - alborex_logger - INFO - ../data/coastline_cartex_f3.txt exists\n"
     ]
    }
   ],
   "source": [
    "coastdir = '../data/'\n",
    "coastfile = os.path.join(coastdir, 'coastline_cartex_f3.txt')\n",
    "\n",
    "if os.path.exists(coastfile):\n",
    "    logger.info(\"{0} exists\".format(coastfile))\n",
    "    loncoast, latcoast = alborexdata.read_lonlat_coast(coastfile)\n",
    "else:\n",
    "    logger.warning(\"{0} does't exist\".format(coastfile))  "
   ]
  },
  {
   "cell_type": "markdown",
   "metadata": {},
   "source": [
    "## SST"
   ]
  },
  {
   "cell_type": "code",
   "execution_count": 155,
   "metadata": {},
   "outputs": [],
   "source": [
    "sstfile = os.path.join(sstdir, \"A2014150020500.L2_LAC_SST4.nc\")\n",
    "lonsst, latsst, sst, sstqual, year, day, platform = alborex_functions.load_sst_l2(sstfile)\n",
    "# Make the SST when flag > 1\n",
    "sst = np.ma.masked_where(sstqual > 1, sst)"
   ]
  },
  {
   "cell_type": "markdown",
   "metadata": {},
   "source": [
    "Create the projection (only once)"
   ]
  },
  {
   "cell_type": "code",
   "execution_count": 10,
   "metadata": {
    "collapsed": true
   },
   "outputs": [],
   "source": [
    "m = Basemap(projection='merc', llcrnrlon=coordinates2[0], llcrnrlat=coordinates2[2],\n",
    "            urcrnrlon=coordinates2[1], urcrnrlat=coordinates2[3],\n",
    "            lat_ts=0.5 * (coordinates2[2] + coordinates2[3]), resolution='h')"
   ]
  },
  {
   "cell_type": "markdown",
   "metadata": {},
   "source": [
    "## Loop on the files"
   ]
  },
  {
   "cell_type": "code",
   "execution_count": 170,
   "metadata": {},
   "outputs": [
    {
     "name": "stderr",
     "output_type": "stream",
     "text": [
      "2018-01-05 21:10:19,141 - alborex_logger - INFO - Making figure glider_tracks\n"
     ]
    }
   ],
   "source": [
    "figname = \"glider_tracks\"\n",
    "fignamesst = \"glider_tracks_sst\"\n",
    "figtitle = \"Glider tracks\"\n",
    "logger.info(\"Making figure {0}\".format(figname))\n",
    "\n",
    "fig = plt.figure(figsize=(10, 10))\n",
    "ax = plt.subplot(111)\n",
    "m.ax = ax\n",
    "\n",
    "# Add the coastline\n",
    "for i in range(0, len(loncoast)):\n",
    "    m.plot(np.array(loncoast[i]), np.array(latcoast[i]), \n",
    "           color='k', linewidth=.5, latlon=True)\n",
    "\n",
    "alborexdata.add_map_grid(m, coordinates, dlon=.25, dlat=.25,\n",
    "                         fontname='Times New Roman', fontsize=14, \n",
    "                         linewidth=0.2, zorder=1, color=\".6\")\n",
    "    \n",
    "colorlist = [\"k\", \".9\"]\n",
    "\n",
    "for ii, datafiles in enumerate(datafilelist):\n",
    "    \n",
    "    # logger.debug(\"Working on file: {0}\".format(os.path.basename(datafiles)))\n",
    "    \n",
    "    # Read data from file\n",
    "    glider = alborexdata.Glider()\n",
    "    glider.get_from_netcdf(datafiles)\n",
    "        \n",
    "    # Remove masked values\n",
    "    glider.remove_masked_coords()\n",
    "    \n",
    "    # Get indices for the different days\n",
    "    day_indices, date_list = glider.get_day_indices(ndays=1)\n",
    "    \n",
    "    # Add to plot\n",
    "    glider.point_plot(m, marker='o', color=colorlist[ii],\n",
    "                      linestyle='-', ms=.1, zorder=3)  \n",
    "    \n",
    "    # Add first point\n",
    "    if ii==0:\n",
    "        deploymenttext = \"Deployment coastal glider\"\n",
    "    else:\n",
    "        deploymenttext = \"Deployment deep glider\"\n",
    "        \n",
    "    glider.add_initial_position(m, marker='>', markersize=10, \n",
    "                                color=colorlist[ii], label=deploymenttext)\n",
    "    \n",
    "    xp, yp = m(glider.lon[day_indices[:-1]], glider.lat[day_indices[:-1]])\n",
    "    \n",
    "    cc = 0\n",
    "    for xx, yy, tt in zip(xp, yp, date_labels[:-1]):\n",
    "        if np.mod(cc, 2) == 0:\n",
    "            haparam = \"left\"\n",
    "            vaparam = \"bottom\"\n",
    "        else:\n",
    "            haparam = \"right\"\n",
    "            vaparam = \"top\"\n",
    "            \n",
    "        plt.text(xx + 1000 * (-1)** cc, yy + 1000 * (-1)** cc, tt, \n",
    "                 bbox=dict(facecolor='.95', alpha=0.85),\n",
    "                 va=vaparam, ha=haparam, fontsize=16)\n",
    "        cc += 1\n",
    "    \n",
    "    m.plot(glider.lon[day_indices[:-1]], glider.lat[day_indices[:-1]], marker='*',\n",
    "           linewidth=0, color=colorlist[ii], ms=10, latlon=True)\n",
    "\n",
    "    plt.legend(loc=2, fontsize=18, framealpha=1)\n",
    "    \n",
    "plt.title(figtitle, fontsize=20)\n",
    "\n",
    "plt.savefig(os.path.join(figdir, figname), dpi=300, bbox_inches='tight')\n",
    "\n",
    "# Add SST as background\n",
    "pcm = m.pcolormesh(lonsst, latsst, sst, latlon=True, \n",
    "                   vmin=18, vmax=20.5, cmap=plt.cm.gray_r,\n",
    "                   alpha=.85)\n",
    "\n",
    "plt.savefig(os.path.join(figdir, fignamesst), dpi=300, bbox_inches='tight')\n",
    "plt.close()"
   ]
  },
  {
   "cell_type": "code",
   "execution_count": null,
   "metadata": {
    "collapsed": true
   },
   "outputs": [],
   "source": []
  }
 ],
 "metadata": {
  "kernelspec": {
   "display_name": "Diva-python3.6",
   "language": "python",
   "name": "diva-python3.6"
  },
  "language_info": {
   "codemirror_mode": {
    "name": "ipython",
    "version": 3
   },
   "file_extension": ".py",
   "mimetype": "text/x-python",
   "name": "python",
   "nbconvert_exporter": "python",
   "pygments_lexer": "ipython3",
   "version": "3.6.0"
  }
 },
 "nbformat": 4,
 "nbformat_minor": 2
}
